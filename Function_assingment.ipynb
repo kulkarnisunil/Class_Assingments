{
  "cells": [
    {
      "cell_type": "code",
      "execution_count": null,
      "metadata": {
        "id": "B7d4SXFpqtO5"
      },
      "outputs": [],
      "source": []
    },
    {
      "cell_type": "markdown",
      "metadata": {
        "id": "1qG8m9gQrwwx"
      },
      "source": [
        "# Theory Questions:"
      ]
    },
    {
      "cell_type": "markdown",
      "metadata": {
        "id": "7QrozL_zrEF-"
      },
      "source": [
        "### 1. What is the difference between a function and a method in Python?\n",
        "\n",
        "Answer:\n",
        "\n",
        "  1. method is a function that belongs to a class or object,while  a function stands alone and is not tied to any object or class.\n",
        "  2. method is a function that is defined inside a classand and  A function is a standalone block of code that performs a specific task and is defined independently using the def keyword.\n",
        "  3. Methods are called on objects, not directly by name. The object is passed as the first parameter (self for instance methods, cls for class methods),while function can be called by its name from anywhere in the scope, and it is not associated with any object or class.\n",
        "  4. Methods can access and modify the object's state (i.e., its attributes),while Functions cannot access or modify class attributes unless those are passed to it as parameters.\n"
      ]
    },
    {
      "cell_type": "markdown",
      "metadata": {
        "id": "yY69cgxQuokp"
      },
      "source": [
        "  * Eg of function"
      ]
    },
    {
      "cell_type": "code",
      "execution_count": 309,
      "metadata": {
        "id": "4fe6jalUurWR"
      },
      "outputs": [
        {
          "data": {
            "text/plain": [
              "5"
            ]
          },
          "execution_count": 309,
          "metadata": {},
          "output_type": "execute_result"
        }
      ],
      "source": [
        "def add(x, y):\n",
        "    return x + y\n",
        "\n",
        "result = add(2, 3)\n",
        "result"
      ]
    },
    {
      "cell_type": "markdown",
      "metadata": {
        "id": "31HFITCwu1ZA"
      },
      "source": [
        "* eg of method"
      ]
    },
    {
      "cell_type": "code",
      "execution_count": 310,
      "metadata": {
        "id": "hGMs2dUCu3gw"
      },
      "outputs": [
        {
          "data": {
            "text/plain": [
              "5"
            ]
          },
          "execution_count": 310,
          "metadata": {},
          "output_type": "execute_result"
        }
      ],
      "source": [
        "class Calculator:\n",
        "    def add(self, x, y):   #method\n",
        "        return x + y\n",
        "\n",
        "calc = Calculator()\n",
        "result = calc.add(2, 3)\n",
        "result\n"
      ]
    },
    {
      "cell_type": "markdown",
      "metadata": {
        "id": "bOCNx2oorKer"
      },
      "source": [
        "### 2. Explain the concept of function arguments and parameters in Python.\n",
        "\n",
        "Answer:-\n",
        "   - Parameter:\n",
        "A variable in a function definition; it declares what data the function expects.\n",
        "   - Argument:\n",
        "The actual data (value, variable, or object) passed to the function’s parameter when the function is called\n",
        "\n",
        "1. The number of arguments passed must match the number of parameters (unless defaults or variable-length are used)\n",
        "2. Both concepts are essential for code reusability and flexible function design.\n"
      ]
    },
    {
      "cell_type": "markdown",
      "metadata": {
        "id": "yOnPOs7awpm7"
      },
      "source": [
        "* eg"
      ]
    },
    {
      "cell_type": "code",
      "execution_count": 311,
      "metadata": {
        "colab": {
          "base_uri": "https://localhost:8080/"
        },
        "id": "DJbTdwwpwe1j",
        "outputId": "0377f46e-eed2-45c4-ef75-dd67b09f337d"
      },
      "outputs": [
        {
          "name": "stdout",
          "output_type": "stream",
          "text": [
            "Hello, Sunil\n"
          ]
        }
      ],
      "source": [
        "def greet(name):       # 'name' is a parameter\n",
        "    print(\"Hello,\", name)\n",
        "\n",
        "greet(\"Sunil\")          # \"Sunil\" is an argument\n"
      ]
    },
    {
      "cell_type": "markdown",
      "metadata": {
        "id": "OyOG1D4JrMLM"
      },
      "source": [
        "### 3. What are the different ways to define and call a function in Python?"
      ]
    },
    {
      "cell_type": "markdown",
      "metadata": {
        "id": "uj2cO8QNxzRP"
      },
      "source": [
        "1. Using the def Keyword\n",
        "    * Use def followed by function name and parentheses.\n",
        "    * Optional parameters inside parentheses.\n",
        "    * Function body is indented.\n",
        "    * Can have an optional return value."
      ]
    },
    {
      "cell_type": "code",
      "execution_count": 312,
      "metadata": {
        "id": "csfCVy87x1fY"
      },
      "outputs": [
        {
          "data": {
            "text/plain": [
              "'Hello, avinash!'"
            ]
          },
          "execution_count": 312,
          "metadata": {},
          "output_type": "execute_result"
        }
      ],
      "source": [
        "def greet(name):\n",
        "    return f\"Hello, {name}!\"\n",
        "greet(\"avinash\")\n"
      ]
    },
    {
      "cell_type": "markdown",
      "metadata": {
        "id": "_nNoz390yd2F"
      },
      "source": [
        "   2. Using Anonymous (Lambda) Functions\n",
        "\n",
        "        * Used for simple, short functions with a single expression.\n",
        "\n",
        "        * Syntax: lambda parameters: expression\n",
        "\n",
        "        * Typically assigned to a variable or used inline."
      ]
    },
    {
      "cell_type": "code",
      "execution_count": 313,
      "metadata": {
        "colab": {
          "base_uri": "https://localhost:8080/"
        },
        "id": "LT4--_DAyt7N",
        "outputId": "b40906dc-7dfc-4904-e88f-89ee1df72668"
      },
      "outputs": [
        {
          "name": "stdout",
          "output_type": "stream",
          "text": [
            "25\n"
          ]
        }
      ],
      "source": [
        "square = lambda x: x * x\n",
        "print(square(5))\n"
      ]
    },
    {
      "cell_type": "markdown",
      "metadata": {
        "id": "Vg9fTvvIzpXq"
      },
      "source": [
        "  3. Calling Functions\n",
        "\n",
        "        * Use the function name followed by parentheses.\n",
        "\n",
        "        * Pass required arguments in order (positional) or as keyword arguments.\n",
        "\n",
        "        * Can call functions with no arguments or with variable arguments."
      ]
    },
    {
      "cell_type": "code",
      "execution_count": 314,
      "metadata": {
        "colab": {
          "base_uri": "https://localhost:8080/"
        },
        "id": "sboFOcuT0ZEA",
        "outputId": "45755c8d-f3d6-4a66-b787-0a9b17f2a02b"
      },
      "outputs": [
        {
          "name": "stdout",
          "output_type": "stream",
          "text": [
            "Hello, Sunil!\n",
            "Welcome, pw_skills!\n",
            "Hello, Rahul!\n"
          ]
        }
      ],
      "source": [
        "print(greet(\"Sunil\"))  # Positional argument\n",
        "\n",
        "def greet1(name, msg=\"Hello\"):\n",
        "    return f\"{msg}, {name}!\"\n",
        "\n",
        "print(greet1(name=\"pw_skills\", msg=\"Welcome\")) # Keyword arguments\n",
        "print(greet1(\"Rahul\"))  # Uses default message \"Hello\"\n"
      ]
    },
    {
      "cell_type": "markdown",
      "metadata": {
        "id": "2nNF1dl_rQhL"
      },
      "source": [
        "### 4. What is the purpose of the `return` statement in a Python function?\n",
        "\n",
        "Answer:-\n",
        "1. The return statement is used when you want a function to output a result that can be further used or stored.\n",
        "2. It marks the end of the function execution: once return is executed, no further code inside the function runs.\n",
        "3. Returning values makes functions reusable and modular, as the computed result can be passed on or further processed.\n",
        "4. A function can return multiple values as a tuple.\n",
        "5. function returns None by default"
      ]
    },
    {
      "cell_type": "code",
      "execution_count": 315,
      "metadata": {
        "colab": {
          "base_uri": "https://localhost:8080/"
        },
        "id": "4N6lT6wN1-Ez",
        "outputId": "ead7b440-237f-42ee-9180-39e0db49769c"
      },
      "outputs": [
        {
          "name": "stdout",
          "output_type": "stream",
          "text": [
            "8\n"
          ]
        }
      ],
      "source": [
        "def add(a, b):\n",
        "    return a + b\n",
        "\n",
        "result = add(5, 3)\n",
        "print(result)\n"
      ]
    },
    {
      "cell_type": "code",
      "execution_count": 316,
      "metadata": {
        "colab": {
          "base_uri": "https://localhost:8080/"
        },
        "id": "10fyk3Ry2ELS",
        "outputId": "3a51e1cf-b784-4df7-9302-a6d6c8a5c2c7"
      },
      "outputs": [
        {
          "name": "stdout",
          "output_type": "stream",
          "text": [
            "None\n"
          ]
        }
      ],
      "source": [
        "# function returns None by default\n",
        "def no_return_function():\n",
        "    x = 10 # Performs operations but no return\n",
        "\n",
        "result = no_return_function()\n",
        "print(result)"
      ]
    },
    {
      "cell_type": "code",
      "execution_count": 317,
      "metadata": {
        "colab": {
          "base_uri": "https://localhost:8080/"
        },
        "id": "KiU8FRH22pmJ",
        "outputId": "c77cb710-c3e3-48c8-a3e7-03e14d7d1101"
      },
      "outputs": [
        {
          "name": "stdout",
          "output_type": "stream",
          "text": [
            "Area: 20\n",
            "Perimeter: 18\n"
          ]
        }
      ],
      "source": [
        "# function can return multiple values as a tuple.\n",
        "def calculate_area_and_perimeter(length, width):\n",
        "    area = length * width\n",
        "    perimeter = 2 * (length + width)\n",
        "    return area, perimeter  # Returns a tuple (area, perimeter)\n",
        "\n",
        "a, p = calculate_area_and_perimeter(4, 5)\n",
        "print(\"Area:\", a)\n",
        "print(\"Perimeter:\", p)\n"
      ]
    },
    {
      "cell_type": "markdown",
      "metadata": {
        "id": "SE-paGn-rTtj"
      },
      "source": [
        "### 5. What are iterators in Python and how do they differ from iterables?\n",
        "\n",
        "Answer:-\n",
        "\n",
        "* Iterables\n",
        "            -  An iterable is any Python object capable of returning its elements one at a time, allowing it to be looped over (iterated) using a for loop or similar constructs.\n",
        "\n",
        "            -  An iterable implements the __iter__() method which returns an iterator.\n",
        "\n",
        "            -  Examples of iterables include lists, tuples, strings, dictionaries, and sets.\n",
        "\n",
        "            - You can obtain an iterator from an iterable by using the iter() function.\n",
        "\n",
        "* Iterators\n",
        "           -  An iterator is an object that implements two methods:\n",
        "\n",
        "           -  __iter__() which returns the iterator object itself.\n",
        "\n",
        "           -  __next__() which returns the next item from the collection.\n",
        "\n",
        "           -  The iterator keeps track of its current position in the iterable.\n",
        "\n",
        "           -  When there are no more items, calling __next__() raises a StopIteration exception to end the iteration.\n",
        "\n",
        "           - Iterators allow sequential access to items and can only move forward.\n",
        "\n",
        "           -  Every iterator is itself iterable.\n",
        "\n",
        "* Difference\n",
        "\n",
        "| Aspect           | Iterable                                   | Iterator                                               |\n",
        "|------------------|--------------------------------------------|-------------------------------------------------------|\n",
        "| Definition       | An object that can be looped over          | An object that produces the next value on demand       |\n",
        "| Key Methods      | Implements `__iter__()` that returns an iterator | Implements `__iter__()` (returns self) and `__next__()` (returns next item) |\n",
        "| Usage            | Can be used directly in a `for` loop       | Used explicitly with `next()` to get items sequentially |\n",
        "| Exhaustible      | No, can create a new iterator each time    | Yes, raises `StopIteration` when exhausted             |\n",
        "| Creation         | Includes collections like list, tuple, string | Created by calling `iter()` on an iterable             |\n",
        "| Maintains State  | Does not maintain state                     | Maintains state (current position) during iteration    |\n",
        "| Multiple Iterations | Can be iterated over multiple times        | Can only be iterated over once                          |\n"
      ]
    },
    {
      "cell_type": "code",
      "execution_count": 318,
      "metadata": {
        "colab": {
          "base_uri": "https://localhost:8080/"
        },
        "id": "EDtaQtbB7I08",
        "outputId": "7c01f501-937e-4a54-a699-2282edf01ea5"
      },
      "outputs": [
        {
          "name": "stdout",
          "output_type": "stream",
          "text": [
            "10\n",
            "20\n",
            "30\n"
          ]
        }
      ],
      "source": [
        "#Example\n",
        "# Iterable: List\n",
        "my_list = [10, 20, 30]\n",
        "\n",
        "# Getting an iterator from the iterable\n",
        "my_iter = iter(my_list)\n",
        "\n",
        "print(next(my_iter))\n",
        "print(next(my_iter))\n",
        "print(next(my_iter))\n",
        "# next(my_iter) :- StopIteration: error"
      ]
    },
    {
      "cell_type": "markdown",
      "metadata": {
        "id": "MuAIasF-rWx7"
      },
      "source": [
        "### 6. Explain the concept of generators in Python and how they are defined.\n",
        "\n",
        "Answer:-\n",
        "- A generator is a special type of function that gives you one value at a time instead of giving all values at once.\n",
        "- It helps save memory because it doesn't create and store the entire list — it produces values only when you ask for them.\n",
        "- Useful when working with large data or infinite sequences.\n",
        "- Use the def keyword like a normal function.\n",
        "- Use yield instead of return to give back a value and pause the function.\n",
        "- When you ask for the next value, the function continues from where it left off.\n",
        "\n"
      ]
    },
    {
      "cell_type": "markdown",
      "metadata": {
        "id": "ysB-c8w18utP"
      },
      "source": [
        "* eg."
      ]
    },
    {
      "cell_type": "code",
      "execution_count": 319,
      "metadata": {
        "id": "BvaoUnid8w4v"
      },
      "outputs": [],
      "source": [
        "def count_up_to(max):\n",
        "    count = 1\n",
        "    while count <= max:\n",
        "        yield count\n",
        "        count += 1\n"
      ]
    },
    {
      "cell_type": "code",
      "execution_count": 320,
      "metadata": {
        "colab": {
          "base_uri": "https://localhost:8080/"
        },
        "id": "VpLvKoR79HLd",
        "outputId": "44e55438-0da6-4184-ed0b-e0d0b34c4866"
      },
      "outputs": [
        {
          "name": "stdout",
          "output_type": "stream",
          "text": [
            "1\n",
            "2\n",
            "3\n"
          ]
        }
      ],
      "source": [
        "counter = count_up_to(3)\n",
        "print(next(counter))\n",
        "print(next(counter))\n",
        "print(next(counter))\n",
        "\n"
      ]
    },
    {
      "cell_type": "markdown",
      "metadata": {
        "id": "AdEAymfHraE7"
      },
      "source": [
        "### 7. What are the advantages of using generators over regular functions?\n",
        "\n",
        "Answer:-\n",
        "\n",
        "1. Memory Efficient\n",
        "      \n",
        "      * Generators produce items one at a time, so they don't store the entire sequence in memory like a list does.\n",
        "      * reat for handling large data or infinite sequences without slowing down your program.\n",
        "\n",
        "2. Lazy Evaluation\n",
        "\n",
        "      *  Values are generated only when needed (on demand), which can save time if you don't need all results at once.\n",
        "\n",
        "3. Simpler Code for Iteration\n",
        "\n",
        "      * Using yield makes writing iterators easier and cleaner compared to building custom iterator classes or managing state manually.\n",
        "\n",
        "4. Better Performance\n",
        "\n",
        "      * Since generators don't build the full list or sequence upfront, they can start producing output immediately and use less overhead."
      ]
    },
    {
      "cell_type": "code",
      "execution_count": 321,
      "metadata": {
        "colab": {
          "base_uri": "https://localhost:8080/"
        },
        "id": "vA_Pbxs2_B_4",
        "outputId": "a29a8dde-29b0-46b0-e783-2dbd1d304732"
      },
      "outputs": [
        {
          "name": "stdout",
          "output_type": "stream",
          "text": [
            "0\n",
            "1\n",
            "4\n",
            "9\n",
            "16\n"
          ]
        }
      ],
      "source": [
        "#example\n",
        "def generate_squares(n):\n",
        "    for i in range(n):\n",
        "        yield i * i\n",
        "\n",
        "for square in generate_squares(5):\n",
        "    print(square)\n"
      ]
    },
    {
      "cell_type": "markdown",
      "metadata": {
        "id": "Bn4HGcGFrgK6"
      },
      "source": [
        "### 8. What is a lambda function in Python and when is it typically used?\n",
        "\n",
        "Answer:-\n",
        "-It can take any number of arguments but contains only one expression, which is evaluated and returned.\n",
        "- Lambda functions are anonymous, written using lambda, and limited to single expressions.\n",
        "- They provide a quick way to define simple functions without cluttering code.\n",
        "- Used frequently for functional programming tasks or in places where a function is needed only temporarily.\n",
        "-  Often used as arguments to higher-order functions like map(), filter(), and sorted()."
      ]
    },
    {
      "cell_type": "code",
      "execution_count": 322,
      "metadata": {
        "colab": {
          "base_uri": "https://localhost:8080/"
        },
        "id": "MxDv93-KAhG7",
        "outputId": "90f5c00e-5b16-4cec-cd39-10d621beba24"
      },
      "outputs": [
        {
          "name": "stdout",
          "output_type": "stream",
          "text": [
            "[1, 4, 9]\n"
          ]
        }
      ],
      "source": [
        "#example\n",
        "numbers = [1, 2, 3]\n",
        "squared = map(lambda x: x ** 2, numbers)\n",
        "print(list(squared))"
      ]
    },
    {
      "cell_type": "markdown",
      "metadata": {
        "id": "ZNGsik-QrjEK"
      },
      "source": [
        "### 9. Explain the purpose and usage of the `map()` function in Python.\n",
        "\n",
        "Answer:\n",
        "\n",
        "- The map() function in Python is used to apply a given function to every item of an iterable  and returns a map object with the results.\n",
        "- map() takes at least two arguments: a function and an iterable.\n",
        "-You can pass multiple iterables if the function accepts multiple arguments.\n",
        "- Returns a map object, which can be converted to list, tuple.\n",
        "- It provides a concise and readable way to apply transformation operations.\n",
        "- useful in many functional programming scenarios and data processing tasks.\n",
        "\n",
        "##### Purpose:\n",
        "- To transform all items in an iterable by applying the same function.\n",
        "- Useful for applying simple or complex operations without writing a loop explicitly."
      ]
    },
    {
      "cell_type": "code",
      "execution_count": 323,
      "metadata": {
        "colab": {
          "base_uri": "https://localhost:8080/"
        },
        "id": "4v1eGVW5CToe",
        "outputId": "c39f2a89-5a6b-45ad-8839-591ec43b1001"
      },
      "outputs": [
        {
          "name": "stdout",
          "output_type": "stream",
          "text": [
            "[1, 4, 9, 16, 25]\n"
          ]
        }
      ],
      "source": [
        "#Example\n",
        "#1\n",
        "def square(num):\n",
        "    return num * num\n",
        "\n",
        "numbers = [1, 2, 3, 4, 5]\n",
        "result = map(square, numbers)\n",
        "print(list(result))\n"
      ]
    },
    {
      "cell_type": "code",
      "execution_count": 324,
      "metadata": {
        "colab": {
          "base_uri": "https://localhost:8080/"
        },
        "id": "2w0-FRtECeuV",
        "outputId": "5a9d6d82-ce6a-461e-ad75-28b90aaa2381"
      },
      "outputs": [
        {
          "name": "stdout",
          "output_type": "stream",
          "text": [
            "[11, 12, 13, 14, 15]\n"
          ]
        }
      ],
      "source": [
        "#2\n",
        "numbers = [1, 2, 3, 4, 5]\n",
        "result = map(lambda x: x + 10, numbers)\n",
        "print(list(result))\n"
      ]
    },
    {
      "cell_type": "markdown",
      "metadata": {
        "id": "yJ72kcvKrl3K"
      },
      "source": [
        "### 10. What is the difference between `map()`, `reduce()`, and `filter()` functions in Python?\n",
        "| Feature          | `map()`                                           | `filter()`                                               | `reduce()`                                               |\n",
        "|------------------|--------------------------------------------------|----------------------------------------------------------|----------------------------------------------------------|\n",
        "| Description      | Transform each element                             | Select elements based on condition                        | Aggregate elements into a single value                    |\n",
        "| **Purpose**      | Applies a function to each item of an iterable and returns an iterable of results | Filters elements from an iterable based on a True/False condition | Combines elements of iterable to produce a single value   |\n",
        "| **Return Value** | A new iterable with transformed elements (a map object, which is an iterator) | A new iterable with only the elements that satisfy the condition (a filter object, which is an iterator) | A single value (not an iterable)                           |\n",
        "| **Arguments**    | A function and one or more iterables              | A function and one iterable                               | A function of two arguments and one iterable (optional initial value) |\n",
        "| **Function Output** | Result of applying the function to each item    | True or False                                            | Cumulative result of applying the function                |\n",
        "\n"
      ]
    },
    {
      "cell_type": "markdown",
      "metadata": {
        "id": "uIQRb8DaE2Zw"
      },
      "source": [
        "- Example:"
      ]
    },
    {
      "cell_type": "code",
      "execution_count": 325,
      "metadata": {
        "colab": {
          "base_uri": "https://localhost:8080/"
        },
        "id": "4K1djtd_0KYu",
        "outputId": "a9198d25-4dab-473e-c29b-b82c9391a1a4"
      },
      "outputs": [
        {
          "name": "stdout",
          "output_type": "stream",
          "text": [
            "[1, 4, 9, 16]\n"
          ]
        }
      ],
      "source": [
        "#map()\n",
        "numbers = [1, 2, 3, 4]\n",
        "squared = list(map(lambda x: x**2, numbers))\n",
        "print(squared)"
      ]
    },
    {
      "cell_type": "code",
      "execution_count": 326,
      "metadata": {
        "colab": {
          "base_uri": "https://localhost:8080/"
        },
        "id": "04RThPy30KVm",
        "outputId": "e8555681-37e1-477f-dbc6-04592e297e5c"
      },
      "outputs": [
        {
          "name": "stdout",
          "output_type": "stream",
          "text": [
            "[2, 4, 6]\n"
          ]
        }
      ],
      "source": [
        "#filter()\n",
        "numbers = [1, 2, 3, 4, 5, 6]\n",
        "even = list(filter(lambda x: x % 2 == 0, numbers))\n",
        "print(even)"
      ]
    },
    {
      "cell_type": "code",
      "execution_count": 327,
      "metadata": {
        "colab": {
          "base_uri": "https://localhost:8080/"
        },
        "id": "KueC6XhxEgLI",
        "outputId": "d8826e00-23d1-48e8-ac28-ded763b75088"
      },
      "outputs": [
        {
          "name": "stdout",
          "output_type": "stream",
          "text": [
            "24\n"
          ]
        }
      ],
      "source": [
        "#reduce\n",
        "from functools import reduce\n",
        "\n",
        "numbers = [1, 2, 3, 4]\n",
        "product = reduce(lambda x, y: x * y, numbers)\n",
        "print(product)"
      ]
    },
    {
      "cell_type": "markdown",
      "metadata": {
        "id": "k_9LMJzuMsUp"
      },
      "source": [
        "# Practical Questions:"
      ]
    },
    {
      "cell_type": "markdown",
      "metadata": {
        "id": "DHGMiQjYMWug"
      },
      "source": [
        "### 1. Write a Python function that takes a list of numbers as input and returns the sum of all even numbers in the list."
      ]
    },
    {
      "cell_type": "code",
      "execution_count": 328,
      "metadata": {
        "colab": {
          "base_uri": "https://localhost:8080/"
        },
        "id": "CF8gI6MBrc70",
        "outputId": "826611e9-4c67-41d7-bb98-39d990a9137e"
      },
      "outputs": [
        {
          "name": "stdout",
          "output_type": "stream",
          "text": [
            "12\n"
          ]
        }
      ],
      "source": [
        "def sum_of_evens(numbers):\n",
        "    \"\"\"\n",
        "    Returns the sum of all even numbers in the given list.\n",
        "\n",
        "    :param numbers: List of integers\n",
        "    :return: Sum of even integers\n",
        "    \"\"\"\n",
        "    return sum(num for num in numbers if num % 2 == 0)\n",
        "\n",
        "\n",
        "nums = [1, 2, 3, 4, 5, 6]\n",
        "print(sum_of_evens(nums))\n"
      ]
    },
    {
      "cell_type": "markdown",
      "metadata": {
        "id": "CBySsd4f2uuO"
      },
      "source": [
        "### 2. Create a Python function that accepts a string and returns the reverse of that string."
      ]
    },
    {
      "cell_type": "code",
      "execution_count": 329,
      "metadata": {
        "colab": {
          "base_uri": "https://localhost:8080/"
        },
        "id": "-l9o61WQ2v-m",
        "outputId": "90ec43da-1032-4004-f104-9ac8393bb442"
      },
      "outputs": [
        {
          "name": "stdout",
          "output_type": "stream",
          "text": [
            "dlroW olleH\n"
          ]
        }
      ],
      "source": [
        "def reverse_string(s):\n",
        "    \"\"\"\n",
        "    Returns the reverse of the given string.\n",
        "\n",
        "    :param s: Input string\n",
        "    :return: Reversed string\n",
        "    \"\"\"\n",
        "    return s[::-1]\n",
        "\n",
        "\n",
        "\n",
        "text = \"Hello World\"\n",
        "print(reverse_string(text))\n"
      ]
    },
    {
      "cell_type": "markdown",
      "metadata": {
        "id": "PM6klgvv27u2"
      },
      "source": [
        "### 3. Implement a Python function that takes a list of integers and returns a new list containing the squares of each number."
      ]
    },
    {
      "cell_type": "code",
      "execution_count": 330,
      "metadata": {
        "colab": {
          "base_uri": "https://localhost:8080/"
        },
        "id": "TgQqRolb2_vG",
        "outputId": "6283ef24-8696-4c8d-9ecc-06500a61a2d1"
      },
      "outputs": [
        {
          "name": "stdout",
          "output_type": "stream",
          "text": [
            "[1, 4, 9, 16, 25]\n"
          ]
        }
      ],
      "source": [
        "def square_list(numbers):\n",
        "    \"\"\"\n",
        "    Returns a new list containing the squares\n",
        "    of each number in the input list.\n",
        "\n",
        "    :param numbers: List of integers\n",
        "    :return: List of squared integers\n",
        "    \"\"\"\n",
        "    return [num ** 2 for num in numbers]\n",
        "\n",
        "\n",
        "nums = [1, 2, 3, 4, 5]\n",
        "print(square_list(nums))\n"
      ]
    },
    {
      "cell_type": "markdown",
      "metadata": {
        "id": "pRh1BcKT3Q8F"
      },
      "source": [
        "### 4. Write a Python function that checks if a given number is prime or not from 1 to 200."
      ]
    },
    {
      "cell_type": "code",
      "execution_count": 331,
      "metadata": {
        "colab": {
          "base_uri": "https://localhost:8080/"
        },
        "id": "QgBkB_qmrJ8r",
        "outputId": "163a1316-c32a-4db8-c012-0e164cbfe55a"
      },
      "outputs": [
        {
          "name": "stdout",
          "output_type": "stream",
          "text": [
            "Total prime numbers in range : 46\n"
          ]
        }
      ],
      "source": [
        "def is_prime(n):\n",
        "    '''\n",
        "    :n= Integer to check\n",
        "    Returns True if the given number is prime, False otherwise.\n",
        "    '''\n",
        "    if n <= 1:\n",
        "        return False\n",
        "    for i in range(2, n):\n",
        "        if n % i == 0:\n",
        "            return False\n",
        "    return True\n",
        "\n",
        "\n",
        "count = 0\n",
        "for n in range(1, 200):\n",
        "    x = is_prime(n)\n",
        "    if x:\n",
        "        count += 1\n",
        "\n",
        "print(\"Total prime numbers in range :\", count)"
      ]
    },
    {
      "cell_type": "markdown",
      "metadata": {
        "id": "8qD0oz2d5YRn"
      },
      "source": [
        "### 5. Create an iterator class in Python that generates the Fibonacci sequence up to a specified number of terms"
      ]
    },
    {
      "cell_type": "code",
      "execution_count": 332,
      "metadata": {
        "id": "Id6wIC3ArIHE"
      },
      "outputs": [],
      "source": [
        "class FibonacciIterator:\n",
        "    def __init__(self, max_terms):\n",
        "        \"\"\"\n",
        "        Initialize the iterator with the number of terms.\n",
        "\n",
        "        :param max_terms: Number of Fibonacci terms to generate\n",
        "        \"\"\"\n",
        "        self.max_terms = max_terms  # Total number of terms to generate\n",
        "        self.count = 0      # Counter to track how many terms have been generated\n",
        "        self.a = 0\n",
        "        self.b = 1\n",
        "\n",
        "    def __iter__(self):\n",
        "        return self\n",
        "\n",
        "    def __next__(self):\n",
        "        if self.count >= self.max_terms:\n",
        "            raise StopIteration\n",
        "\n",
        "        # Generate the next Fibonacci number\n",
        "        if self.count == 0:\n",
        "            self.count += 1\n",
        "            return self.a\n",
        "        elif self.count == 1:\n",
        "            self.count += 1\n",
        "            return self.b\n",
        "        else:\n",
        "            self.a, self.b = self.b, self.a + self.b\n",
        "            self.count += 1\n",
        "            return self.b"
      ]
    },
    {
      "cell_type": "code",
      "execution_count": 333,
      "metadata": {
        "colab": {
          "base_uri": "https://localhost:8080/"
        },
        "id": "t2ou9asK7Xr6",
        "outputId": "b6871514-a55a-4dbe-b588-ef2fbd2c2786"
      },
      "outputs": [
        {
          "name": "stdout",
          "output_type": "stream",
          "text": [
            "0 1 1 2 3 5 8 13 21 34 "
          ]
        }
      ],
      "source": [
        "fib = FibonacciIterator(10)\n",
        "\n",
        "for num in fib:\n",
        "    print(num, end=' ')"
      ]
    },
    {
      "cell_type": "markdown",
      "metadata": {
        "id": "O-fe5iMo7eCo"
      },
      "source": [
        "### 6. Write a generator function in Python that yields the powers of 2 up to a given exponent"
      ]
    },
    {
      "cell_type": "code",
      "execution_count": 334,
      "metadata": {
        "colab": {
          "base_uri": "https://localhost:8080/"
        },
        "id": "b5NrHJQU7e5I",
        "outputId": "ffdf5a6d-f18f-4a18-96df-67fca01616bb"
      },
      "outputs": [
        {
          "name": "stdout",
          "output_type": "stream",
          "text": [
            "1\n",
            "2\n",
            "4\n",
            "8\n",
            "16\n",
            "32\n"
          ]
        }
      ],
      "source": [
        "def powers_of_two(max_exponent):\n",
        "    \"\"\"\n",
        "    Generator function that yields powers of 2 from 0 up to max_exponent (inclusive).\n",
        "\n",
        "    :param max_exponent: Maximum exponent to yield 2^exponent\n",
        "    \"\"\"\n",
        "    for exponent in range(max_exponent + 1):\n",
        "        yield 2 ** exponent\n",
        "\n",
        "\n",
        "\n",
        "for value in powers_of_two(5):\n",
        "    print(value)\n"
      ]
    },
    {
      "cell_type": "markdown",
      "metadata": {
        "id": "cJYr1G3771yP"
      },
      "source": [
        "### 7. Implement a generator function that reads a file line by line and yields each line as a string"
      ]
    },
    {
      "cell_type": "code",
      "execution_count": 335,
      "metadata": {
        "colab": {
          "base_uri": "https://localhost:8080/"
        },
        "id": "ANPYXYrH8KfP",
        "outputId": "0dd0e754-9469-4aad-a15f-99044acebbca"
      },
      "outputs": [
        {
          "name": "stdout",
          "output_type": "stream",
          "text": [
            "my name is sunil.\n",
            "I am learning data science.\n"
          ]
        }
      ],
      "source": [
        "def read_file_lines(file_path):\n",
        "    \"\"\"\n",
        "    Generator function that reads a file line by line\n",
        "    and yields each line as a string (with newline stripped).\n",
        "\n",
        "    :param file_path: Path to the file to read\n",
        "    \"\"\"\n",
        "    with open(file_path, 'r') as file:\n",
        "        for line in file:\n",
        "            yield line.rstrip('\\n')\n",
        "\n",
        "\n",
        "\n",
        "file_path = 'E:\\python_learning\\python_basic\\python_daily\\example.txt'\n",
        "for line in read_file_lines(file_path):\n",
        "    print(line)\n"
      ]
    },
    {
      "cell_type": "markdown",
      "metadata": {
        "id": "68uP6Or68PJX"
      },
      "source": [
        "### 8. Use a lambda function in Python to sort a list of tuples based on the second element of each tuple."
      ]
    },
    {
      "cell_type": "code",
      "execution_count": 336,
      "metadata": {
        "colab": {
          "base_uri": "https://localhost:8080/"
        },
        "id": "1WQFxiN88UaN",
        "outputId": "f1ad250b-5506-444b-cd95-4aa1a3646e00"
      },
      "outputs": [
        {
          "name": "stdout",
          "output_type": "stream",
          "text": [
            "[(4, 1), (2, 2), (1, 3)]\n"
          ]
        }
      ],
      "source": [
        "\n",
        "tuple_list = [(1, 3), (4, 1), (2, 2)]\n",
        "\n",
        "sorted_list = sorted(tuple_list, key=lambda x: x[1])\n",
        "\n",
        "print(sorted_list)  \n"
      ]
    },
    {
      "cell_type": "markdown",
      "metadata": {
        "id": "d-gWJHkf8qJ0"
      },
      "source": [
        "### 9. Write a Python program that uses `map()` to convert a list of temperatures from Celsius to Fahrenheit."
      ]
    },
    {
      "cell_type": "code",
      "execution_count": 337,
      "metadata": {
        "colab": {
          "base_uri": "https://localhost:8080/"
        },
        "id": "PRbkXFkY8quE",
        "outputId": "4d7adf10-c2c5-4b2b-e232-6d20c887e517"
      },
      "outputs": [
        {
          "name": "stdout",
          "output_type": "stream",
          "text": [
            "[32.0, 68.0, 98.6, 212.0]\n"
          ]
        }
      ],
      "source": [
        "def celsius_to_fahrenheit(celsius):\n",
        "    return (celsius * 9/5) + 32\n",
        "\n",
        "\n",
        "celsius_temps = [0, 20, 37, 100]\n",
        "fahrenheit_temps = list(map(celsius_to_fahrenheit, celsius_temps))\n",
        "print(fahrenheit_temps)\n"
      ]
    },
    {
      "cell_type": "markdown",
      "metadata": {
        "id": "BP78Efyc80TE"
      },
      "source": [
        "### 10. Create a Python program that uses `filter()` to remove all the vowels from a given string."
      ]
    },
    {
      "cell_type": "code",
      "execution_count": 338,
      "metadata": {
        "colab": {
          "base_uri": "https://localhost:8080/"
        },
        "id": "a74WfP_Y84A7",
        "outputId": "0f80eb5e-8c80-44d8-fa53-b4659a91a475"
      },
      "outputs": [
        {
          "name": "stdout",
          "output_type": "stream",
          "text": [
            "Hll, Wrld!\n"
          ]
        }
      ],
      "source": [
        "def remove_vowels(s):\n",
        "    vowels = \"aeiouAEIOU\"\n",
        "    return ''.join(filter(lambda char: char not in vowels, s))\n",
        "\n",
        "\n",
        "input_str = \"Hello, World!\"\n",
        "result = remove_vowels(input_str)\n",
        "print(result)"
      ]
    },
    {
      "cell_type": "markdown",
      "metadata": {
        "id": "5980dd07"
      },
      "source": [
        "### 11) Imagine an accounting routine used in a book shop. It works on a list with sublists, which look like this:\n",
        "\n",
        "| order_number | Book Title and Author    | Quantity | Price per item |\n",
        "|--------------|-------------------------|----------|----------------|\n",
        "| 34587        | Learning Python - Mark Lutz | 4        | 40.95          |\n",
        "| 98762        | Programming Python - Mark Lutz | 5        | 56.80          |\n",
        "| 77226        | Head First Python - Paul Barry | 3        | 32.95          |\n",
        "| 88112        | Einführung in Python3 - Bernd Klein | 3     | 24.90          |\n",
        "\n",
        "\n",
        "### Write a Python program, which returns a list with 2-tuples. Each tuple consists of the order number and the product of the price per item and the quantity. The product should be increased by 10,- € if the value of theorder is smaller than 100,00 €.\n",
        "\n",
        "###Write a Python program using lambda and map."
      ]
    },
    {
      "cell_type": "code",
      "execution_count": 339,
      "metadata": {
        "colab": {
          "base_uri": "https://localhost:8080/"
        },
        "id": "0sdamQDdnZtE",
        "outputId": "732df801-1a6d-4a45-d978-93d52469d207"
      },
      "outputs": [
        {
          "name": "stdout",
          "output_type": "stream",
          "text": [
            "[(34587, 163.8), (98762, 284.0), (77226, 108.85000000000001), (88112, 84.97)]\n"
          ]
        }
      ],
      "source": [
        "orders = [\n",
        "    [34587, \"Learning Python, Mark Lutz\", 4, 40.95],\n",
        "    [98762, \"Programming Python, Mark Lutz\", 5, 56.80],\n",
        "    [77226, \"Head First Python, Paul Barry\", 3, 32.95],\n",
        "    [88112, \"Einführung in Python3, Bernd Klein\", 3, 24.99]\n",
        "]\n",
        "\n",
        "result = list(map(lambda order: (\n",
        "    order[0],\n",
        "    order[2] * order[3] if order[2] * order[3] >= 100 else order[2] * order[3] + 10\n",
        "), orders))\n",
        "\n",
        "print(result)"
      ]
    }
  ],
  "metadata": {
    "colab": {
      "provenance": []
    },
    "kernelspec": {
      "display_name": "base",
      "language": "python",
      "name": "python3"
    },
    "language_info": {
      "codemirror_mode": {
        "name": "ipython",
        "version": 3
      },
      "file_extension": ".py",
      "mimetype": "text/x-python",
      "name": "python",
      "nbconvert_exporter": "python",
      "pygments_lexer": "ipython3",
      "version": "3.13.5"
    }
  },
  "nbformat": 4,
  "nbformat_minor": 0
}
