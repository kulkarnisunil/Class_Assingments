{
  "cells": [
    {
      "cell_type": "code",
      "execution_count": null,
      "metadata": {
        "id": "RY94QV6dm462"
      },
      "outputs": [],
      "source": []
    },
    {
      "cell_type": "markdown",
      "metadata": {
        "id": "LFIyeB14m5on"
      },
      "source": [
        "# Files, exceptional handling, logging and memory management Question"
      ]
    },
    {
      "cell_type": "markdown",
      "metadata": {
        "id": "l-tIo7KfncmR"
      },
      "source": [
        "### 1. What is the difference between interpreted and compiled languages?\n",
        "\n",
        "Answer:\n",
        "\n",
        "### Compiled vs Interpreted Languages Differences\n",
        "\n",
        "| Aspect            | Compiled Languages                                                                 | Interpreted Languages                                                              |\n",
        "|-------------------|-------------------------------------------------------------------------------------|-------------------------------------------------------------------------------------|\n",
        "| **Performance**    | Generally faster because code is optimized and translated into machine code ahead of time | Slower due to line-by-line execution at runtime                                     |\n",
        "| **Debugging**      | Requires recompilation after changes, which can slow down debugging             | Quicker iteration and debugging without recompilation                               |\n",
        "| **Use Cases**      | Ideal for system-level programming and performance-critical applications        | Great for scripting, automation, rapid development, and flexibility                 |\n",
        "| **Error Detection**| Compile-time errors caught early                                                 | Errors detected during execution                                                    |\n",
        "| **Portability**    | Platform-dependent executables                                                   | More portable across platforms                                                      |\n",
        "| **Examples**       | C, C++, Rust, Go                                                                  | Python, JavaScript                                                                  |\n",
        "                   "
      ]
    },
    {
      "cell_type": "markdown",
      "metadata": {
        "id": "SydMwLxUth7s"
      },
      "source": [
        "### 2. What is exception handling in Python?\n",
        "\n",
        "Answer:\n",
        "> In Python, exception handling allows us to catch runtime errors using try and except blocks. This prevents the program from crashing and lets us respond to errors intelligently. We can also use finally for cleanup tasks and raise to trigger custom exceptions. It's essential for writing robust and user-friendly code."
      ]
    },
    {
      "cell_type": "code",
      "execution_count": null,
      "metadata": {
        "colab": {
          "base_uri": "https://localhost:8080/"
        },
        "id": "8qurFFmCvscY",
        "outputId": "00bbaa0d-fbd4-4bdf-88c0-dc6e5bf99927"
      },
      "outputs": [
        {
          "name": "stdout",
          "output_type": "stream",
          "text": [
            "Cannot divide by zero.\n",
            "Execution complete.\n"
          ]
        }
      ],
      "source": [
        "try:\n",
        "    result = 10 / 0\n",
        "except ZeroDivisionError:\n",
        "    print(\"Cannot divide by zero.\")\n",
        "finally:\n",
        "    print(\"Execution complete.\")\n"
      ]
    },
    {
      "cell_type": "markdown",
      "metadata": {
        "id": "0xO-CXGXxSUG"
      },
      "source": [
        "### 3. What is the purpose of the finally block in exception handling?\n",
        "\n",
        "Answer:\n",
        "> In Python, the finally block ensures that critical cleanup code runs no matter what happens in the try or except blocks. It's especially useful for releasing resources like files or database connections, making your code more robust and predictable.\n",
        "\n",
        "- Guaranteed Execution: Runs no matter what—whether an exception occurs, is caught, or even if there's a return statement.\n",
        "\n",
        "- Resource Management: Ideal for closing files, network connections, or releasing locks.\n",
        "\n",
        "- Complements try and except: Ensures stability and reliability in error-prone code.\n",
        "\n"
      ]
    },
    {
      "cell_type": "code",
      "execution_count": null,
      "metadata": {
        "colab": {
          "base_uri": "https://localhost:8080/"
        },
        "id": "KrtgFCWXyu84",
        "outputId": "dbbddb81-7cb9-460f-dee5-3b3bb4e8519f"
      },
      "outputs": [
        {
          "name": "stdout",
          "output_type": "stream",
          "text": [
            "File not found.\n"
          ]
        }
      ],
      "source": [
        "# example 1\n",
        "try:\n",
        "    file = open(\"data.txt\", \"r\")\n",
        "    content = file.read()\n",
        "    print(\"File content loaded.\")\n",
        "except FileNotFoundError:\n",
        "    print(\"File not found.\")\n",
        "finally:\n",
        "    if 'file' in locals() and not file.closed:\n",
        "        file.close()\n",
        "        print(\"File closed.\")\n",
        "\n"
      ]
    },
    {
      "cell_type": "code",
      "execution_count": null,
      "metadata": {
        "colab": {
          "base_uri": "https://localhost:8080/"
        },
        "id": "5bY3krpFzQRH",
        "outputId": "57763525-8b01-41fd-829d-55fc742aa0ee"
      },
      "outputs": [
        {
          "name": "stdout",
          "output_type": "stream",
          "text": [
            "Connected to server.\n",
            "Network connection closed.\n"
          ]
        }
      ],
      "source": [
        "# example 2\n",
        "class mongodb_Connection:\n",
        "    def close(self):\n",
        "        print(\"Network connection closed.\")\n",
        "\n",
        "try:\n",
        "    connection = mongodb_Connection()\n",
        "    print(\"Connected to server.\")\n",
        "except Exception as e:\n",
        "    print(\"Connection failed:\", e)\n",
        "finally:\n",
        "    connection.close()\n"
      ]
    },
    {
      "cell_type": "markdown",
      "metadata": {
        "id": "WwaYtSvu0bRb"
      },
      "source": [
        "### 4. What is logging in Python ?\n",
        "\n",
        "Answer:\n",
        "\n",
        ">Logging is the process of recording events or messages during the execution of a program.In Python, it helps developers track the flow of a program, catch errors, and understand system behavior—especially in large or long-running applications.    \n",
        "\n",
        "- Its more flexible than using print statements and supports different log levels, output formats, and destinations. In real-world applications, logging is essential for debugging, monitoring, and maintaining production systems.\n",
        "\n",
        "- Logging allows you to:\n",
        "\n",
        "    - Set different levels of importance (e.g., debug, info, warning, error, critical).\n",
        "\n",
        "    - Save logs to files for later analysis.\n",
        "\n",
        "    - Format messages with timestamps, module names, and more.\n",
        "\n",
        "    - Control what gets logged and where it goes (console, file, etc.).\n",
        "\n",
        "- logging levels:\n",
        "\n",
        "    - DEBUG: Extra details to help fix issues/detail info (lowest level of log,by default)\n",
        "    - INFO:\tEverything is working fine\n",
        "    - WARNING:\tSomething might be wrong\n",
        "    - ERROR:\tSomething went wrong\n",
        "    - CRITICAL:\tBig problem—program might crash (highest level of log)\n",
        "    \n",
        "\n"
      ]
    },
    {
      "cell_type": "code",
      "execution_count": null,
      "metadata": {
        "colab": {
          "base_uri": "https://localhost:8080/"
        },
        "id": "wNwDfCtD5LrW",
        "outputId": "88a6ff3f-dae1-4232-e7d9-41c8b42a7efe"
      },
      "outputs": [
        {
          "name": "stderr",
          "output_type": "stream",
          "text": [
            "WARNING:root:This is a warning.\n",
            "ERROR:root:This is an error.\n",
            "CRITICAL:root:This is critical.\n"
          ]
        }
      ],
      "source": [
        "# example\n",
        "import logging\n",
        "\n",
        "# Set up basic configuration\n",
        "logging.basicConfig(\n",
        "    level=logging.DEBUG,                      # Set the minimum log level\n",
        "    format='%(asctime)s - %(levelname)s - %(message)s'  # Format of log messages\n",
        ")\n",
        "\n",
        "# Log messages at different levels\n",
        "logging.debug(\"This is a debug message.\")\n",
        "logging.info(\"This is an info message.\")\n",
        "logging.warning(\"This is a warning.\")\n",
        "logging.error(\"This is an error.\")\n",
        "logging.critical(\"This is critical.\")\n"
      ]
    },
    {
      "cell_type": "markdown",
      "metadata": {
        "id": "3cstrn-lH0-P"
      },
      "source": [
        "### 5. What is the significance of the __del__  method in Python?\n",
        "\n",
        "Answer:\n",
        "\n",
        "> __del__ is Pythons destructor method, called when an object is about to be garbage collected. It can handle cleanup tasks like closing files or releasing resources, but its execution isnt guaranteed—especially with circular references or during interpreter shutdown. For reliable resource management, I prefer context managers (__enter__ / __exit__) and use __del__ only for non-critical cleanup, avoiding exception-sensitive logic.\n",
        "\n",
        "- significance of __del__ method\n",
        "\n",
        "    - Object Cleanup: It allows you to define custom actions that should happen when an object is about to be destroyed—like closing files, releasing network connections, or deleting temporary data\n",
        "    - Garbage Collection Trigger: Python calls __del__ when an object's reference count drops to zero and it's ready to be garbage collected\n",
        "    - Non-Deterministic Behavior: Unlike context managers, __del__ is not guaranteed to run immediately or reliably. For example:\n",
        "        1. It may not execute if there are circular references.\n",
        "        2. During interpreter shutdown, some dependencies may already be gone, causing __del__ to fail silently.\n",
        "    - Exception Handling: If an exception occurs inside __del__, Python suppresses it silently. This makes it risky for critical cleanup tasks."
      ]
    },
    {
      "cell_type": "code",
      "execution_count": null,
      "metadata": {
        "colab": {
          "base_uri": "https://localhost:8080/"
        },
        "id": "R4W-AtdgOTNX",
        "outputId": "875238c6-a447-4cda-ec52-3fc2d7c03488"
      },
      "outputs": [
        {
          "name": "stdout",
          "output_type": "stream",
          "text": [
            "Object created\n",
            "Object destroyed\n"
          ]
        }
      ],
      "source": [
        "#example\n",
        "class Demo:\n",
        "    def __init__(self):\n",
        "        print(\"Object created\")\n",
        "\n",
        "    def __del__(self):\n",
        "        print(\"Object destroyed\")\n",
        "\n",
        "\n",
        "obj = Demo()\n",
        "del obj"
      ]
    },
    {
      "cell_type": "markdown",
      "metadata": {
        "id": "bxjpvXDJH2aK"
      },
      "source": [
        "### 6. What is the difference between import and from ... import in Python?\n",
        "\n",
        "Answer:\n",
        "\n",
        "1. import\n",
        "\n",
        "    - Imports the entire module.\n",
        "\n",
        "    - You must prefix functions or classes with the module name (math.sqrt).\n",
        "\n",
        "    - Keeps your namespace clean and avoids name conflicts.\n",
        "\n",
        "    - Useful when you need multiple functions or want to keep context clear.\n",
        "\n",
        "2. from ... import\n",
        "\n",
        "    - Imports specific items (functions, classes, variables) from a module.\n",
        "\n",
        "    - You can use them directly without the module prefix.\n",
        "\n",
        "    - Saves typing and improves readability when using a few items frequently.\n",
        "\n",
        "    - Risk of name conflicts if the imported name overlaps with something else in your code."
      ]
    },
    {
      "cell_type": "code",
      "execution_count": null,
      "metadata": {
        "colab": {
          "base_uri": "https://localhost:8080/"
        },
        "id": "MhMUDw-uQPC8",
        "outputId": "1ff38ca8-c17a-46c6-92b6-6a918f49e4bc"
      },
      "outputs": [
        {
          "name": "stdout",
          "output_type": "stream",
          "text": [
            "4.0\n"
          ]
        }
      ],
      "source": [
        "# example import statement\n",
        "import math\n",
        "print(math.sqrt(16))\n"
      ]
    },
    {
      "cell_type": "code",
      "execution_count": null,
      "metadata": {
        "colab": {
          "base_uri": "https://localhost:8080/"
        },
        "id": "Chr-ygO3Qvhc",
        "outputId": "2eb9d372-e7d2-4a76-b426-0aae78aef8d3"
      },
      "outputs": [
        {
          "name": "stdout",
          "output_type": "stream",
          "text": [
            "4.0\n"
          ]
        }
      ],
      "source": [
        "#example from ... import\n",
        "from math import sqrt\n",
        "print(sqrt(16))"
      ]
    },
    {
      "cell_type": "markdown",
      "metadata": {
        "id": "OCXuBKRrQ0h7"
      },
      "source": [
        "### 7. How can you handle multiple exceptions in Python?\n",
        "\n",
        "Answer:\n",
        "\n",
        "> multiple exceptions can be handled either by grouping them in a single except block or by using multiple except clauses.\n",
        "\n",
        "If different exceptions require the same handling logic, I group them using a tuple:\n"
      ]
    },
    {
      "cell_type": "code",
      "execution_count": null,
      "metadata": {
        "colab": {
          "base_uri": "https://localhost:8080/"
        },
        "id": "_2hbS0TxUD5x",
        "outputId": "78b84354-479a-487d-d716-d53cd59f6e9d"
      },
      "outputs": [
        {
          "name": "stdout",
          "output_type": "stream",
          "text": [
            "Enter a number: sunil\n",
            "An error occurred: ValueError - invalid literal for int() with base 10: 'sunil'\n"
          ]
        }
      ],
      "source": [
        "#example raise value error and type error\n",
        "def operation():\n",
        "    user_input = input(\"Enter a number: \")\n",
        "    number = int(user_input)  # May raise ValueError if input is not a number\n",
        "    result = number + \"10\"    # Adding int and str will raise TypeError\n",
        "    print(\"Result:\", result)\n",
        "\n",
        "def handle_error(e):\n",
        "    print(f\"An error occurred: {type(e).__name__} - {e}\")\n",
        "\n",
        "# Exception handling\n",
        "try:\n",
        "    operation()\n",
        "except (ValueError, TypeError) as e:\n",
        "    handle_error(e)\n"
      ]
    },
    {
      "cell_type": "markdown",
      "metadata": {
        "id": "V39xGpdpUOuN"
      },
      "source": [
        "If each exception needs distinct handling, I separate them:"
      ]
    },
    {
      "cell_type": "code",
      "execution_count": null,
      "metadata": {
        "colab": {
          "base_uri": "https://localhost:8080/"
        },
        "id": "gUsui5PGTXRm",
        "outputId": "1150c03f-a2c4-4ac1-88c1-618798b7c3ee"
      },
      "outputs": [
        {
          "name": "stdout",
          "output_type": "stream",
          "text": [
            "Enter a number: 10\n",
            "TypeError: Cannot add number and string.\n"
          ]
        }
      ],
      "source": [
        "def operation():\n",
        "    user_input = input(\"Enter a number: \")\n",
        "    number = int(user_input)\n",
        "    result = number + \"10\"\n",
        "    print(\"Result:\", result)\n",
        "\n",
        "def handle_value_error():\n",
        "    print(\"ValueError: Input must be a valid number.\")\n",
        "\n",
        "def handle_type_error():\n",
        "    print(\"TypeError: Cannot add number and string.\")\n",
        "\n",
        "# Exception handling\n",
        "try:\n",
        "    operation()\n",
        "except ValueError:\n",
        "    handle_value_error()\n",
        "except TypeError:\n",
        "    handle_type_error()\n"
      ]
    },
    {
      "cell_type": "markdown",
      "metadata": {
        "id": "9nd2CG6ZUZJ9"
      },
      "source": [
        "For exceptions that share a common base class, I sometimes catch the base class to simplify the code—for example, using OSError to catch both FileNotFoundError and PermissionError.\n",
        "\n",
        "I also avoid using except Exception: unless absolutely necessary, and I never use except: without specifying the exception type, as it can mask bugs and make debugging harder.\n",
        "\n",
        "I aim for clarity, specificity, and maintainability in exception handling, while ensuring the user experience remains smooth even when errors occur"
      ]
    },
    {
      "cell_type": "markdown",
      "metadata": {
        "id": "JeO6Qn4WTuon"
      },
      "source": [
        "### 8.  What is the purpose of the with statement when handling files in Python?\n",
        "\n",
        "Answer:\n",
        "\n",
        "the with statement in Python is used to simplify resource management, especially when working with files. It ensures that resources like file handles are properly acquired and automatically released, even if an error occurs during file operations.\n",
        "\n",
        "Traditionally, we'd use try-finally blocks to guarantee that a file is closed, but with abstracts that boilerplate and makes the code cleaner and more readable. For example\n"
      ]
    },
    {
      "cell_type": "code",
      "execution_count": null,
      "metadata": {
        "id": "XqORsvcJZmY3"
      },
      "outputs": [],
      "source": [
        "#with open('data.txt', 'r') as file:\n",
        "#    content = file.read()\n"
      ]
    },
    {
      "cell_type": "markdown",
      "metadata": {
        "id": "I9cYlnJxZ6Py"
      },
      "source": [
        "In this case, the file is automatically closed once the block is exited—whether the read succeeds or an exception is raised.\n",
        "\n",
        "I prefer using with because it promotes safer and more maintainable code, reduces the risk of resource leaks, and aligns with Python's philosophy of simplicity and clarity."
      ]
    },
    {
      "cell_type": "markdown",
      "metadata": {
        "id": "5H6K9v2Ban4y"
      },
      "source": [
        "### 9.  What is the difference between multithreading and multiprocessing?\n",
        "\n",
        "Answer:\n",
        "\n",
        "> Both multithreading and multiprocessing are techniques for achieving concurrency, but they differ in how they utilize system resources.\n",
        "\n",
        "- multithreading\n",
        "\n",
        "  - Multithreading runs multiple threads within a single process. These threads share the same memory space, which makes communication between them efficient. However, due to Python's Global Interpreter Lock (GIL), threads cannot execute Python bytecode in true parallel—making multithreading more suitable for I/O-bound tasks like file operations or network requests.\n",
        "  - Ideal for tasks like reading files, downloading data, or waiting for user input.\n",
        "\n",
        "- multiprocessing\n",
        "\n",
        "  - Multiprocessing, on the other hand, runs multiple processes, each with its own memory space. This bypasses the GIL, allowing true parallel execution on multiple CPU cores. It's ideal for CPU-bound tasks like data processing or mathematical computations."
      ]
    },
    {
      "cell_type": "code",
      "execution_count": null,
      "metadata": {
        "colab": {
          "base_uri": "https://localhost:8080/"
        },
        "id": "0ClDm9z-dBmA",
        "outputId": "b97f1bc1-daf1-43d6-b658-72c6320b5ed1"
      },
      "outputs": [
        {
          "name": "stdout",
          "output_type": "stream",
          "text": [
            "Thread: 0\n",
            "Thread: 0\n",
            "Thread: 1\n",
            "Thread: 1\n",
            "Thread: 2\n",
            "Thread: 2\n",
            "Thread: 3\n",
            "Thread: 3\n",
            "Thread: 4\n",
            "Thread: 4\n",
            "Multithreading complete\n"
          ]
        }
      ],
      "source": [
        "# example of multithreading\n",
        "\n",
        "import threading\n",
        "import time\n",
        "\n",
        "def print_numbers():\n",
        "    for i in range(5):\n",
        "        print(f\"Thread: {i}\")\n",
        "        time.sleep(1)\n",
        "\n",
        "# Create and start two threads\n",
        "t1 = threading.Thread(target=print_numbers)\n",
        "t2 = threading.Thread(target=print_numbers)\n",
        "\n",
        "t1.start()\n",
        "t2.start()\n",
        "\n",
        "t1.join()\n",
        "t2.join()\n",
        "\n",
        "print(\"Multithreading complete\")\n"
      ]
    },
    {
      "cell_type": "code",
      "execution_count": null,
      "metadata": {
        "colab": {
          "base_uri": "https://localhost:8080/"
        },
        "id": "kMrEB5Wgdmnr",
        "outputId": "822e5555-a8d4-42be-943b-997a6c989aad"
      },
      "outputs": [
        {
          "name": "stdout",
          "output_type": "stream",
          "text": [
            "Process: 0\n",
            "Process: 0\n",
            "Process: 1\n",
            "Process: 1\n",
            "Process: 2\n",
            "Process: 2\n",
            "Process: 3\n",
            "Process: 3\n",
            "Process: 4\n",
            "Process: 4\n",
            "Multiprocessing complete\n"
          ]
        }
      ],
      "source": [
        "# example of multiprocessing\n",
        "import multiprocessing\n",
        "import time\n",
        "\n",
        "def print_numbers():\n",
        "    for i in range(5):\n",
        "        print(f\"Process: {i}\")\n",
        "        time.sleep(1)\n",
        "\n",
        "# Create and start two processes\n",
        "p1 = multiprocessing.Process(target=print_numbers)\n",
        "p2 = multiprocessing.Process(target=print_numbers)\n",
        "\n",
        "p1.start()\n",
        "p2.start()\n",
        "\n",
        "p1.join()\n",
        "p2.join()\n",
        "\n",
        "print(\"Multiprocessing complete\")\n"
      ]
    },
    {
      "cell_type": "markdown",
      "metadata": {
        "id": "K4iIRL2xeCC7"
      },
      "source": [
        "### 10.  What are the advantages of using logging in a program?\n",
        "\n",
        "Answer:\n",
        "\n",
        "Logging is essential for building maintainable, observable, and production-ready applications. It provides a structured way to capture runtime information, which is invaluable for debugging, monitoring, and auditing.\n",
        "\n",
        "Unlike print() statements, logging supports configurable output levels—such as DEBUG, INFO, WARNING, ERROR, and CRITICAL—allowing developers to filter messages based on severity. It also enables writing logs to files, external systems, or even centralized log servers, which is crucial for diagnosing issues in distributed environments.\n",
        "\n",
        "I use logging not just to catch errors, but to understand application flow, track performance bottlenecks, and maintain a reliable audit trail. It’s a cornerstone of good software engineering practice, especially in scalable systems.\n",
        "\n"
      ]
    },
    {
      "cell_type": "markdown",
      "metadata": {
        "id": "pkpw100BfyfJ"
      },
      "source": [
        "### 11.  What is memory management in Python?\n",
        "\n",
        "Answer:\n",
        "\n",
        "  - Memory management in Python is automatic. It uses reference counting to track how many variables point to an object. When no references remain, the object is deleted.\n",
        "\n",
        "  - Python also has a garbage collector that handles complex cases like circular references—where objects refer to each other but are no longer needed.\n",
        "\n",
        "  - All objects are stored in a private heap, and developers don’t manage memory manually. This makes Python easy to use and helps avoid memory leaks in most cases."
      ]
    },
    {
      "cell_type": "markdown",
      "metadata": {
        "id": "KjfQLsFmf7cB"
      },
      "source": [
        "### 12. What are the basic steps involved in exception handling in Python?\n",
        "\n",
        "Answer:\n",
        "\n",
        "1. try - You put the risky code inside a try block.\n",
        "\n",
        "2. except - If an error happens, Python jumps to the except block to handle it.\n",
        "\n",
        "3. else - This runs only if no error occurs in the try block.\n",
        "\n",
        "4. finally - This always runs, whether there's an error or not. It's used for cleanup like closing files."
      ]
    },
    {
      "cell_type": "code",
      "execution_count": null,
      "metadata": {
        "colab": {
          "base_uri": "https://localhost:8080/"
        },
        "id": "Bb6mucsCjlOG",
        "outputId": "9a0a99af-42f0-4939-e48a-dc7b90f097bb"
      },
      "outputs": [
        {
          "name": "stdout",
          "output_type": "stream",
          "text": [
            "Division successful. Result: 5.0\n",
            "Execution finished.\n",
            "Error: Cannot divide by zero.\n",
            "Execution finished.\n"
          ]
        }
      ],
      "source": [
        "def divide_numbers(a, b):\n",
        "    try:\n",
        "        result = a / b\n",
        "    except ZeroDivisionError:\n",
        "        print(\"Error: Cannot divide by zero.\")\n",
        "    else:\n",
        "        print(\"Division successful. Result:\", result)\n",
        "    finally:\n",
        "        print(\"Execution finished.\")\n",
        "\n",
        "divide_numbers(10, 2)\n",
        "divide_numbers(10, 0)\n"
      ]
    },
    {
      "cell_type": "markdown",
      "metadata": {
        "id": "bCcmqrnjrVB9"
      },
      "source": [
        "### 13. why is memory management important in Python?\n",
        "\n",
        "Answer:\n",
        "\n",
        "* Memory management in Python is important because it ensures that programs use memory efficiently and avoid issues like memory leaks or crashes. Python handles memory automatically using reference counting and garbage collection, which means developers don't have to manually allocate or free memory.\n",
        "\n",
        "* Good memory management improves performance, especially in large or long-running applications. It also helps with scalability and stability, making sure the program doesn't consume more memory than necessary. Understanding how Python manages memory helps me write cleaner, faster, and more reliable code."
      ]
    },
    {
      "cell_type": "markdown",
      "metadata": {
        "id": "zENcdtJwlAbY"
      },
      "source": [
        "### 14. What is the role of try and except in exception handling?\n",
        "\n",
        "Answer:\n",
        "\n",
        "The try and except blocks are used to handle errors gracefully in Python.\n",
        "\n",
        "The try block contains code that might raise an exception. If an error occurs, Python immediately stops executing the try block and jumps to the except block.\n",
        "\n",
        "The except block catches the error and lets you respond to it—like showing a message, logging the issue, or taking corrective action—without crashing the program.\n",
        "\n",
        "This makes the code more robust and user-friendly, especially in real-world applications where unexpected inputs or failures are common."
      ]
    },
    {
      "cell_type": "code",
      "execution_count": null,
      "metadata": {
        "colab": {
          "base_uri": "https://localhost:8080/"
        },
        "id": "2vxnNPVzlows",
        "outputId": "13335955-a8f2-4e97-d622-3bada5daaf8e"
      },
      "outputs": [
        {
          "name": "stdout",
          "output_type": "stream",
          "text": [
            "Enter a number: ss\n",
            "Invalid input! Please enter a valid number.\n"
          ]
        }
      ],
      "source": [
        "try:\n",
        "    number = int(input(\"Enter a number: \"))\n",
        "except ValueError:\n",
        "    print(\"Invalid input! Please enter a valid number.\")\n"
      ]
    },
    {
      "cell_type": "markdown",
      "metadata": {
        "id": "hEyNzTt7kvqS"
      },
      "source": [
        "### 15. How does Python's garbage collection system work?\n",
        "\n",
        "Answer:\n",
        "\n",
        "- Pythons garbage collection combines reference counting with a generational garbage collector to manage memory automatically. It handles circular references and optimizes performance by focusing on younger objects. This system helps prevent memory leaks and keeps applications efficient.\n",
        "\n"
      ]
    },
    {
      "cell_type": "code",
      "execution_count": null,
      "metadata": {
        "colab": {
          "base_uri": "https://localhost:8080/"
        },
        "id": "Fq5dtljfmwVh",
        "outputId": "4d5ea04d-5209-4bb4-c767-c9b9e3edb71b"
      },
      "outputs": [
        {
          "name": "stdout",
          "output_type": "stream",
          "text": [
            "Ref count for a: 3\n",
            "Ref count for b: 3\n",
            "Garbage collector: collected 2 objects.\n"
          ]
        }
      ],
      "source": [
        "import gc\n",
        "import sys\n",
        "\n",
        "class Node:\n",
        "    def __init__(self, name):\n",
        "        self.name = name\n",
        "        self.ref = None\n",
        "\n",
        "# Create two objects that reference each other (circular reference)\n",
        "a = Node(\"A\")\n",
        "b = Node(\"B\")\n",
        "a.ref = b\n",
        "b.ref = a\n",
        "\n",
        "# Check reference count\n",
        "print(\"Ref count for a:\", sys.getrefcount(a))\n",
        "print(\"Ref count for b:\", sys.getrefcount(b))\n",
        "\n",
        "# Delete original references\n",
        "del a\n",
        "del b\n",
        "\n",
        "# Manually trigger garbage collection\n",
        "collected = gc.collect()\n",
        "print(\"Garbage collector: collected\", collected, \"objects.\")\n"
      ]
    },
    {
      "cell_type": "markdown",
      "metadata": {
        "id": "VjKOnjv4nX3U"
      },
      "source": [
        "### 16. What is the purpose of the else block in exception handling?\n",
        "\n",
        "Answer:\n",
        "\n",
        "- the else block in exception handling is designed to run code only when the try block executes successfully—meaning no exceptions were raised.\n",
        "\n",
        "- This allows developers to clearly separate error-handling logic from success-case logic, which improves readability and structure. For example, if I'm validating user input, I can use try to catch errors, and else to proceed with processing only if the input is valid.\n",
        "\n",
        "- It's especially useful when you want to ensure that certain actions—like saving data or triggering a follow-up operation—only happen when no exceptions occur. By using else, I avoid mixing error handling with normal flow, which leads to cleaner and more maintainable code."
      ]
    },
    {
      "cell_type": "code",
      "execution_count": null,
      "metadata": {
        "colab": {
          "base_uri": "https://localhost:8080/",
          "height": 53
        },
        "id": "n9nTu-8bog4z",
        "outputId": "28003f7a-8527-496b-ac3c-de607ff89323"
      },
      "outputs": [
        {
          "name": "stdout",
          "output_type": "stream",
          "text": [
            "Enter your id no : 10\n"
          ]
        },
        {
          "data": {
            "application/vnd.google.colaboratory.intrinsic+json": {
              "type": "string"
            },
            "text/plain": [
              "'welcome boss'"
            ]
          },
          "execution_count": 16,
          "metadata": {},
          "output_type": "execute_result"
        }
      ],
      "source": [
        "def id_verification():\n",
        "  try:\n",
        "    id=int(input(\"Enter your id no : \"))\n",
        "\n",
        "  except ValueError:\n",
        "    return f\"id must be no\"\n",
        "\n",
        "  else:\n",
        "    return f\"welcome boss\"\n",
        "\n",
        "id_verification()"
      ]
    },
    {
      "cell_type": "markdown",
      "metadata": {
        "id": "zfiQRYILp6yD"
      },
      "source": [
        "### 17.  What are the common logging levels in Python?\n",
        "\n",
        "> Python's logging system provides five standard logging levels, each representing a different severity of messages. These levels help developers control what gets logged and how critical each message is.\n",
        "\n",
        "1. DEBUG:\tDetailed information for diagnosing problems. Used during development.\n",
        "\n",
        "2. INFO:\tConfirms that things are working as expected. General runtime events.\n",
        "\n",
        "3. WARNING:\tIndicates something unexpected or a potential issue.\n",
        "\n",
        "4. ERROR:\tA serious problem that prevents part of the program from functioning.\n",
        "\n",
        "5. CRITICAL\tA very serious error—program may not be able to continue running."
      ]
    },
    {
      "cell_type": "code",
      "execution_count": null,
      "metadata": {
        "colab": {
          "base_uri": "https://localhost:8080/"
        },
        "id": "3jsFXZYTo8Tr",
        "outputId": "e94861c0-385b-4727-f0ad-e857662d9194"
      },
      "outputs": [
        {
          "name": "stderr",
          "output_type": "stream",
          "text": [
            "WARNING:root:Low disk space\n",
            "ERROR:root:File not found\n",
            "CRITICAL:root:System crash\n"
          ]
        }
      ],
      "source": [
        "import logging\n",
        "\n",
        "logging.basicConfig(level=logging.DEBUG)\n",
        "\n",
        "logging.debug(\"Debugging details\")\n",
        "logging.info(\"Program started\")\n",
        "logging.warning(\"Low disk space\")\n",
        "logging.error(\"File not found\")\n",
        "logging.critical(\"System crash\")\n"
      ]
    },
    {
      "cell_type": "markdown",
      "metadata": {
        "id": "LFfdR_qiqxJx"
      },
      "source": [
        "### 18. What is the difference between os.fork() and multiprocessing in Python?\n",
        "\n",
        "Answer:\n",
        "\n",
        "- os.fork() is a low-level system call that directly duplicates the current process. Its powerful but platform-dependent—available only on UNIX-like systems. It gives you full control over process behavior, but also requires manual management of resources, communication, and error handling.\n",
        "\n",
        "- In contrast, Pythons multiprocessing module is a high-level, cross-platform API designed to simplify parallel execution. It abstracts away the complexity of process creation, offers built-in support for inter-process communication via Queue, Pipe, and shared memory, and handles exceptions gracefully.\n",
        "\n",
        "best_practice: prefer multiprocessing for production-grade Python applications because its cleaner, safer, and works seamlessly across operating systems. It also bypasses the Global Interpreter Lock (GIL), enabling true parallelism for CPU-bound tasks."
      ]
    },
    {
      "cell_type": "markdown",
      "metadata": {
        "id": "1VePDbVNrpEu"
      },
      "source": [
        "### 19.  What is the importance of closing a file in Python?\n",
        "\n",
        "Answer:-\n",
        "\n",
        "Closing a file in Python is important because it frees up system resources and makes sure all the data is saved properly.\n",
        "\n",
        "When you write to a file, Python stores some data in memory first. If you don't close the file, that data might not get written to the file. Also, keeping files open for too long can slow down your program or cause errors.\n",
        "\n",
        "Thats why we use file.close() or the with statement—it makes sure the file is closed automatically."
      ]
    },
    {
      "cell_type": "markdown",
      "metadata": {
        "id": "IriGQwB-sgJ1"
      },
      "source": [
        "### 20. What is the difference between file.read() and file.readline() in Python?\n",
        "\n",
        "Answer:\n",
        "\n",
        "file.read() reads the entire contents of the file into a single string. It's useful when I need to process or search through the whole file at once—for example, performing a regex match across the full text.\n",
        "\n",
        "On the other hand, file.readline() reads just one line at a time. This is more memory-efficient, especially for large files, and allows me to process data line by line—for example, parsing logs or streaming data.\n",
        "\n",
        "choose read() for small files or full-text operations, and readline() when  need to handle files incrementally or avoid loading everything into memory."
      ]
    },
    {
      "cell_type": "code",
      "execution_count": null,
      "metadata": {
        "id": "e4bSiQ5EtqUw"
      },
      "outputs": [],
      "source": [
        "# read\n",
        "#with open(\"sample.txt\", \"r\") as file:\n",
        "#    content = file.read()\n",
        "#    print(\"Using read():\")\n",
        "#    print(content)\n"
      ]
    },
    {
      "cell_type": "code",
      "execution_count": null,
      "metadata": {
        "id": "39DMSvIdtsmo"
      },
      "outputs": [],
      "source": [
        "# readline\n",
        "#with open(\"sample.txt\", \"r\") as file:\n",
        "#    print(\"Using readline():\")\n",
        "#   line1 = file.readline()\n",
        "#    print(\"Line 1:\", line1.strip())\n",
        "\n",
        "#    line2 = file.readline()\n",
        "#    print(\"Line 2:\", line2.strip())\n"
      ]
    },
    {
      "cell_type": "markdown",
      "metadata": {
        "id": "odA8PPVst0ZM"
      },
      "source": [
        "### 21. What is the logging module in Python used for?\n",
        "\n",
        "Answer:\n",
        "\n",
        "- The logging module in Python is used to record messages about what your program is doing.\n",
        "\n",
        "- It helps you track errors, warnings, and other important events while your code runs.\n",
        "\n",
        "- Instead of using print(), logging lets you save messages to a file, show them on the screen, and organize them by importance—like INFO, WARNING, or ERROR.\n",
        "\n",
        "- This makes it easier to find problems and understand how your program behaves."
      ]
    },
    {
      "cell_type": "markdown",
      "metadata": {
        "id": "x0CA2qlUupou"
      },
      "source": [
        "### 22. What is the os module in Python used for in file handling?\n",
        "\n",
        "Answer:\n",
        "\n",
        "> The os module in Python is used to perform file and directory operations like creating, deleting, renaming, and navigating folders. It gives me control over the file system and helps automate tasks like checking if files exist or cleaning up temporary files. I often use it with os.path for path-related operations, which makes my code more portable and reliable.\n",
        "\n",
        "1. Work with Directories:\n",
        "\n",
        "    - os.getcwd() ==> Get current working directory\n",
        "\n",
        "    - os.chdir(path) ==>  Change the working directory\n",
        "\n",
        "    - os.mkdir(\"folder\") ==>  Create a new folder\n",
        "\n",
        "    - os.listdir() ==> List files and folders in a directory\n",
        "\n",
        "    - os.rmdir(\"folder\") ==> Remove an empty folder\n",
        "\n",
        "2. Handle Files\n",
        "\n",
        "    - os.remove(\"file.txt\") ==> Delete a file\n",
        "\n",
        "    - os.rename(\"old.txt\", \"new.txt\") ==> Rename a file\n",
        "\n",
        "    - os.path.exists(\"file.txt\") ==> Check if a file exists\n",
        "\n",
        "    - os.path.isfile() / os.path.isdir() ==> Check file or folder type\n",
        "\n",
        "3. Get File Info\n",
        "\n",
        "    - os.path.getsize(\"file.txt\") ==> Get file size\n",
        "\n",
        "    - os.path.abspath(\"file.txt\") ==> Get full path of a file"
      ]
    },
    {
      "cell_type": "markdown",
      "metadata": {
        "id": "xMwyET5owCO9"
      },
      "source": [
        "### 23. What are the challenges associated with memory management in Python?\n",
        "\n",
        "Answer:\n",
        "\n",
        "1. Memory Leaks: Memory is not released when it should be\n",
        "   \n",
        "    eg: Forgotten variables or loops\n",
        "\n",
        "2. Circular References: Two objects refer to each other, blocking cleanup\n",
        "\n",
        "    eg: A-->B-->\n",
        "\n",
        "3. Fragmentation: Memory gets split into unusable chunks\n",
        "\n",
        "    eg- Many small objects over time\n",
        "\n",
        "4. GIL Limitation:\tThreads don't run truly in parallel\n",
        "\n",
        "    eg: Slower performance in  multi-core\n",
        "\n",
        "5. Large Object Retention:\tBig objects stay in memory too long\n",
        "\n",
        "    eg: Huge lists or dictionaries\n",
        "\n",
        "\n"
      ]
    },
    {
      "cell_type": "markdown",
      "metadata": {
        "id": "W4FIIrVywQcl"
      },
      "source": [
        "### 24.  How do you raise an exception manually in Python?\n",
        "\n",
        "Answer:-\n",
        "\n",
        "> In Python, you can manually raise an exception using the raise keyword. This is useful when you want to signal that an error condition has occurred in your code, even if Python itself hasn't thrown one automatically.\n",
        "\n",
        "> syntax: raise ExceptionType(\"Your error message\")\n",
        "\n",
        "> eg :- ValueError,TypeError,IndexError,KeyError,RuntimeError\n",
        "\n",
        "> You can also create and raise custom exceptions if needed."
      ]
    },
    {
      "cell_type": "code",
      "execution_count": null,
      "metadata": {
        "id": "YM_gDWCKLua-"
      },
      "outputs": [],
      "source": [
        "# Basic Exception Raising\n",
        "# Raising a built-in exception manually\n",
        "#raise ValueError(\"This is a manually raised ValueError.\")\n"
      ]
    },
    {
      "cell_type": "code",
      "execution_count": null,
      "metadata": {
        "colab": {
          "base_uri": "https://localhost:8080/",
          "height": 315
        },
        "id": "0UpxH57tQQPh",
        "outputId": "198cb944-eefd-4d92-8ccb-d8b24fe45ab4"
      },
      "outputs": [
        {
          "ename": "ValueError",
          "evalue": "Cannot divide by zero",
          "output_type": "error",
          "traceback": [
            "\u001b[0;31m---------------------------------------------------------------------------\u001b[0m",
            "\u001b[0;31mValueError\u001b[0m                                Traceback (most recent call last)",
            "\u001b[0;32m/tmp/ipython-input-1009621422.py\u001b[0m in \u001b[0;36m<cell line: 0>\u001b[0;34m()\u001b[0m\n\u001b[1;32m      4\u001b[0m     \u001b[0;32mreturn\u001b[0m \u001b[0ma\u001b[0m \u001b[0;34m/\u001b[0m \u001b[0mb\u001b[0m\u001b[0;34m\u001b[0m\u001b[0;34m\u001b[0m\u001b[0m\n\u001b[1;32m      5\u001b[0m \u001b[0;34m\u001b[0m\u001b[0m\n\u001b[0;32m----> 6\u001b[0;31m \u001b[0mprint\u001b[0m\u001b[0;34m(\u001b[0m\u001b[0mdivide\u001b[0m\u001b[0;34m(\u001b[0m\u001b[0;36m10\u001b[0m\u001b[0;34m,\u001b[0m \u001b[0;36m0\u001b[0m\u001b[0;34m)\u001b[0m\u001b[0;34m)\u001b[0m\u001b[0;34m\u001b[0m\u001b[0;34m\u001b[0m\u001b[0m\n\u001b[0m\u001b[1;32m      7\u001b[0m \u001b[0;34m\u001b[0m\u001b[0m\n",
            "\u001b[0;32m/tmp/ipython-input-1009621422.py\u001b[0m in \u001b[0;36mdivide\u001b[0;34m(a, b)\u001b[0m\n\u001b[1;32m      1\u001b[0m \u001b[0;32mdef\u001b[0m \u001b[0mdivide\u001b[0m\u001b[0;34m(\u001b[0m\u001b[0ma\u001b[0m\u001b[0;34m,\u001b[0m \u001b[0mb\u001b[0m\u001b[0;34m)\u001b[0m\u001b[0;34m:\u001b[0m\u001b[0;34m\u001b[0m\u001b[0;34m\u001b[0m\u001b[0m\n\u001b[1;32m      2\u001b[0m     \u001b[0;32mif\u001b[0m \u001b[0mb\u001b[0m \u001b[0;34m==\u001b[0m \u001b[0;36m0\u001b[0m\u001b[0;34m:\u001b[0m\u001b[0;34m\u001b[0m\u001b[0;34m\u001b[0m\u001b[0m\n\u001b[0;32m----> 3\u001b[0;31m         \u001b[0;32mraise\u001b[0m \u001b[0mValueError\u001b[0m\u001b[0;34m(\u001b[0m\u001b[0;34m\"Cannot divide by zero\"\u001b[0m\u001b[0;34m)\u001b[0m\u001b[0;34m\u001b[0m\u001b[0;34m\u001b[0m\u001b[0m\n\u001b[0m\u001b[1;32m      4\u001b[0m     \u001b[0;32mreturn\u001b[0m \u001b[0ma\u001b[0m \u001b[0;34m/\u001b[0m \u001b[0mb\u001b[0m\u001b[0;34m\u001b[0m\u001b[0;34m\u001b[0m\u001b[0m\n\u001b[1;32m      5\u001b[0m \u001b[0;34m\u001b[0m\u001b[0m\n",
            "\u001b[0;31mValueError\u001b[0m: Cannot divide by zero"
          ]
        }
      ],
      "source": [
        "def divide(a, b):\n",
        "    if b == 0:\n",
        "        raise ValueError(\"Cannot divide by zero\")\n",
        "    return a / b\n",
        "\n",
        "print(divide(10, 0))\n",
        "\n"
      ]
    },
    {
      "cell_type": "markdown",
      "metadata": {
        "id": "LDdm8RD4Qtz4"
      },
      "source": [
        "Custom exceptions by defining your own class that inherits from Exception.\n",
        "\n",
        "Example: Custom Exception"
      ]
    },
    {
      "cell_type": "code",
      "execution_count": null,
      "metadata": {
        "colab": {
          "base_uri": "https://localhost:8080/",
          "height": 297
        },
        "id": "iEPC0ZaKQ0ib",
        "outputId": "6c314c31-6f9c-4352-c2ec-921b1a4c05c7"
      },
      "outputs": [
        {
          "ename": "MyCustomError",
          "evalue": "Flag must be True to proceed",
          "output_type": "error",
          "traceback": [
            "\u001b[0;31m---------------------------------------------------------------------------\u001b[0m",
            "\u001b[0;31mMyCustomError\u001b[0m                             Traceback (most recent call last)",
            "\u001b[0;32m/tmp/ipython-input-4088254868.py\u001b[0m in \u001b[0;36m<cell line: 0>\u001b[0;34m()\u001b[0m\n\u001b[1;32m      6\u001b[0m         \u001b[0;32mraise\u001b[0m \u001b[0mMyCustomError\u001b[0m\u001b[0;34m(\u001b[0m\u001b[0;34m\"Flag must be True to proceed\"\u001b[0m\u001b[0;34m)\u001b[0m\u001b[0;34m\u001b[0m\u001b[0;34m\u001b[0m\u001b[0m\n\u001b[1;32m      7\u001b[0m \u001b[0;34m\u001b[0m\u001b[0m\n\u001b[0;32m----> 8\u001b[0;31m \u001b[0mdo_something\u001b[0m\u001b[0;34m(\u001b[0m\u001b[0;32mFalse\u001b[0m\u001b[0;34m)\u001b[0m\u001b[0;34m\u001b[0m\u001b[0;34m\u001b[0m\u001b[0m\n\u001b[0m",
            "\u001b[0;32m/tmp/ipython-input-4088254868.py\u001b[0m in \u001b[0;36mdo_something\u001b[0;34m(flag)\u001b[0m\n\u001b[1;32m      4\u001b[0m \u001b[0;32mdef\u001b[0m \u001b[0mdo_something\u001b[0m\u001b[0;34m(\u001b[0m\u001b[0mflag\u001b[0m\u001b[0;34m)\u001b[0m\u001b[0;34m:\u001b[0m\u001b[0;34m\u001b[0m\u001b[0;34m\u001b[0m\u001b[0m\n\u001b[1;32m      5\u001b[0m     \u001b[0;32mif\u001b[0m \u001b[0;32mnot\u001b[0m \u001b[0mflag\u001b[0m\u001b[0;34m:\u001b[0m\u001b[0;34m\u001b[0m\u001b[0;34m\u001b[0m\u001b[0m\n\u001b[0;32m----> 6\u001b[0;31m         \u001b[0;32mraise\u001b[0m \u001b[0mMyCustomError\u001b[0m\u001b[0;34m(\u001b[0m\u001b[0;34m\"Flag must be True to proceed\"\u001b[0m\u001b[0;34m)\u001b[0m\u001b[0;34m\u001b[0m\u001b[0;34m\u001b[0m\u001b[0m\n\u001b[0m\u001b[1;32m      7\u001b[0m \u001b[0;34m\u001b[0m\u001b[0m\n\u001b[1;32m      8\u001b[0m \u001b[0mdo_something\u001b[0m\u001b[0;34m(\u001b[0m\u001b[0;32mFalse\u001b[0m\u001b[0;34m)\u001b[0m\u001b[0;34m\u001b[0m\u001b[0;34m\u001b[0m\u001b[0m\n",
            "\u001b[0;31mMyCustomError\u001b[0m: Flag must be True to proceed"
          ]
        }
      ],
      "source": [
        "class MyCustomError(Exception):\n",
        "    pass\n",
        "\n",
        "def do_something(flag):\n",
        "    if not flag:\n",
        "        raise MyCustomError(\"Flag must be True to proceed\")\n",
        "\n",
        "do_something(False)"
      ]
    },
    {
      "cell_type": "markdown",
      "metadata": {
        "id": "QU0jPX7SwVg3"
      },
      "source": [
        "### 25.  Why is it important to use multithreading in certain applications?\n",
        "\n",
        "Answer:-\n",
        "\n",
        "> Multithreading means running multiple parts of a program at the same time. It's like having many hands doing different tasks together, instead of one hand doing everything one by one.\n",
        "\n",
        "> Multithreading helps make applications faster and more responsive by running tasks in parallel. It's especially useful in modern systems with multiple cores and in apps that need to handle many users or processes at once.\n",
        "\n",
        "> advantage -\n",
        "\n",
        "    1. Faster performance: Tasks run in parallel, saving time.\n",
        "\n",
        "    2. Smooth user experience: Apps don't freeze while doing heavy work in the background.\n",
        "\n",
        "    3. Better use of CPU: Modern computers have multiple cores—multithreading uses them efficiently.\n",
        "\n",
        "    4. Handles multiple tasks: Great for servers or apps that deal with many users at once.\n",
        "\n",
        "> eg:-\n",
        "\n",
        "    1. A mobile app downloading data while you scroll.\n",
        "\n",
        "    2. A game updating graphics, sound, and user input all at once\n",
        "\n",
        "    3. A web server handling thousands of users at the same time."
      ]
    },
    {
      "cell_type": "markdown",
      "metadata": {
        "id": "IKoOqemEvNRi"
      },
      "source": [
        "# Practical Questions"
      ]
    },
    {
      "cell_type": "markdown",
      "metadata": {
        "id": "2VEFn7B_vRcp"
      },
      "source": [
        "### 1. How can you open a file for writing in Python and write a string to it?"
      ]
    },
    {
      "cell_type": "code",
      "execution_count": null,
      "metadata": {
        "id": "8W0IB5z1vfir"
      },
      "outputs": [],
      "source": [
        "with open(\"example.txt\", \"w\") as file:\n",
        "    file.write(\"Hello, World!\\n\")\n"
      ]
    },
    {
      "cell_type": "markdown",
      "metadata": {
        "id": "84x2zdD1vr5b"
      },
      "source": [
        "### 2. Write a Python program to read the contents of a file and print each line."
      ]
    },
    {
      "cell_type": "code",
      "execution_count": null,
      "metadata": {
        "colab": {
          "base_uri": "https://localhost:8080/"
        },
        "id": "08VKjuErv5zo",
        "outputId": "9e4c2f63-1770-4539-91f5-b50f59a0c8f0"
      },
      "outputs": [
        {
          "name": "stdout",
          "output_type": "stream",
          "text": [
            "This is line 1.\n",
            "This is line 2.\n",
            "This is line 3.\n"
          ]
        }
      ],
      "source": [
        "# Create the file and add some content\n",
        "with open(\"filename.txt\", \"w\") as file:\n",
        "    file.write(\"This is line 1.\\n\")\n",
        "    file.write(\"This is line 2.\\n\")\n",
        "    file.write(\"This is line 3.\\n\")\n",
        "\n",
        "# read the contents of the file\n",
        "with open(\"filename.txt\", \"r\") as file:\n",
        "    lines = file.readlines()\n",
        "    for line in lines:\n",
        "        print(line.strip())"
      ]
    },
    {
      "cell_type": "markdown",
      "metadata": {
        "id": "2o4EliNcwbIg"
      },
      "source": [
        "### 3. How would you handle a case where the file doesn't exist while trying to open it for reading?"
      ]
    },
    {
      "cell_type": "code",
      "execution_count": null,
      "metadata": {
        "colab": {
          "base_uri": "https://localhost:8080/"
        },
        "id": "NbVYiXLtwh-f",
        "outputId": "ef79f05f-ceb6-418f-f041-d11c423aa39b"
      },
      "outputs": [
        {
          "name": "stdout",
          "output_type": "stream",
          "text": [
            "Error: The file does not exist.\n"
          ]
        }
      ],
      "source": [
        "try:\n",
        "    with open(\"filename_1.txt\", \"r\") as file:\n",
        "        for line in file:\n",
        "            print(line.strip())\n",
        "except FileNotFoundError:\n",
        "    print(\"Error: The file does not exist.\")"
      ]
    },
    {
      "cell_type": "markdown",
      "metadata": {
        "id": "4VXS-nN_w3Bl"
      },
      "source": [
        "### 4. Write a Python script that reads from one file and writes its content to another file."
      ]
    },
    {
      "cell_type": "code",
      "execution_count": null,
      "metadata": {
        "colab": {
          "base_uri": "https://localhost:8080/",
          "height": 35
        },
        "id": "8J-FCDFgwzER",
        "outputId": "27a2cd97-3811-4152-c0a1-adcac9b1f92f"
      },
      "outputs": [
        {
          "data": {
            "text/plain": [
              "'destination.txt'"
            ]
          },
          "execution_count": 4,
          "metadata": {},
          "output_type": "execute_result"
        }
      ],
      "source": [
        "# using shutil\n",
        "import shutil\n",
        "\n",
        "shutil.copyfile(\"filename.txt\", \"destination.txt\")\n"
      ]
    },
    {
      "cell_type": "code",
      "execution_count": null,
      "metadata": {
        "colab": {
          "base_uri": "https://localhost:8080/"
        },
        "id": "9P3HbGRhxf-k",
        "outputId": "742c2556-8f9e-402a-c060-b8429fa1f9c2"
      },
      "outputs": [
        {
          "name": "stdout",
          "output_type": "stream",
          "text": [
            "Contents of filename.txt:\n",
            "This is line 1.\n",
            "This is line 2.\n",
            "This is line 3.\n",
            "\n",
            "\n",
            "Contents of destination.txt:\n",
            "This is line 1.\n",
            "This is line 2.\n",
            "This is line 3.\n",
            "\n"
          ]
        }
      ],
      "source": [
        "print(\"Contents of filename.txt:\")\n",
        "with open(\"filename.txt\", \"r\") as file:\n",
        "    print(file.read())\n",
        "\n",
        "print(\"\\nContents of destination.txt:\")\n",
        "with open(\"destination.txt\", \"r\") as file:\n",
        "    print(file.read())"
      ]
    },
    {
      "cell_type": "code",
      "execution_count": null,
      "metadata": {
        "id": "9f_Flx9HyC8h"
      },
      "outputs": [],
      "source": [
        "# another example\n",
        "# Copy contents from source.txt to destination.txt\n",
        "with open(\"filename.txt\", \"r\") as src, open(\"dest.txt\", \"w\") as dest:\n",
        "    for line in src:\n",
        "        dest.write(line)\n"
      ]
    },
    {
      "cell_type": "code",
      "execution_count": null,
      "metadata": {
        "colab": {
          "base_uri": "https://localhost:8080/"
        },
        "id": "8_mo4WXpybhh",
        "outputId": "f44e3c34-2922-4295-af6b-259ce9123d2d"
      },
      "outputs": [
        {
          "name": "stdout",
          "output_type": "stream",
          "text": [
            "Contents of filename.txt:\n",
            "This is line 1.\n",
            "This is line 2.\n",
            "This is line 3.\n",
            "\n",
            "\n",
            "Contents of destination.txt:\n",
            "This is line 1.\n",
            "This is line 2.\n",
            "This is line 3.\n",
            "\n"
          ]
        }
      ],
      "source": [
        "print(\"Contents of filename.txt:\")\n",
        "with open(\"filename.txt\", \"r\") as file:\n",
        "    print(file.read())\n",
        "\n",
        "print(\"\\nContents of destination.txt:\")\n",
        "with open(\"destination.txt\", \"r\") as file:\n",
        "    print(file.read())"
      ]
    },
    {
      "cell_type": "markdown",
      "metadata": {
        "id": "UNTToDikyemH"
      },
      "source": [
        "### 5. How would you catch and handle division by zero error in Python?"
      ]
    },
    {
      "cell_type": "code",
      "execution_count": null,
      "metadata": {
        "colab": {
          "base_uri": "https://localhost:8080/"
        },
        "id": "mIG2ET5OymWH",
        "outputId": "d90fcf02-1751-4eaa-ef21-a245ae2b18fb"
      },
      "outputs": [
        {
          "name": "stdout",
          "output_type": "stream",
          "text": [
            "Error: Division by zero is not allowed.\n"
          ]
        }
      ],
      "source": [
        "try:\n",
        "    numerator = 10\n",
        "    denominator = 0\n",
        "    result = numerator / denominator\n",
        "    print(\"Result:\", result)\n",
        "except ZeroDivisionError:\n",
        "    print(\"Error: Division by zero is not allowed.\")\n"
      ]
    },
    {
      "cell_type": "markdown",
      "metadata": {
        "id": "OxtCE3RWywme"
      },
      "source": [
        "### 6. Write a Python program that logs an error message to a log file when a division by zero exception occurs."
      ]
    },
    {
      "cell_type": "code",
      "execution_count": null,
      "metadata": {
        "colab": {
          "base_uri": "https://localhost:8080/"
        },
        "id": "kybuECJRy4Yf",
        "outputId": "05a7c7e9-a5a4-49c5-db04-652dd0f95442"
      },
      "outputs": [
        {
          "name": "stdout",
          "output_type": "stream",
          "text": [
            "An error occurred. Check the log file for details.\n"
          ]
        }
      ],
      "source": [
        "import logging\n",
        "\n",
        "# Configure logging to write to a file named 'error.log'\n",
        "logging.basicConfig(filename='error.log',\n",
        "                    level=logging.ERROR,\n",
        "                    format='%(asctime)s - %(levelname)s - %(message)s')\n",
        "\n",
        "try:\n",
        "    numerator = 10\n",
        "    denominator = 0\n",
        "    result = numerator / denominator\n",
        "    print(\"Result:\", result)\n",
        "except ZeroDivisionError as e:\n",
        "    logging.error(\"Division by zero error occurred: %s\", e)\n",
        "    print(\"An error occurred. Check the log file for details.\")\n"
      ]
    },
    {
      "cell_type": "markdown",
      "metadata": {
        "id": "0xiiHT4b0FBD"
      },
      "source": [
        "### 7. How do you log information at different levels (INFO, ERROR, WARNING) in Python using the logging module?"
      ]
    },
    {
      "cell_type": "code",
      "execution_count": null,
      "metadata": {
        "id": "1XftsiCp0Djj"
      },
      "outputs": [],
      "source": [
        "import logging\n",
        "\n",
        "logging.basicConfig(filename='app.log',\n",
        "                    level=logging.DEBUG,\n",
        "                    format='%(asctime)s - %(levelname)s - %(message)s')\n",
        "\n",
        "# Logging messages at different levels\n",
        "logging.info(\"This is an informational message.\")\n",
        "logging.warning(\"This is a warning message.\")\n",
        "logging.error(\"This is an error message.\")\n"
      ]
    },
    {
      "cell_type": "markdown",
      "metadata": {
        "id": "FBOreNcc0ehJ"
      },
      "source": [
        "### 8. Write a program to handle a file opening error using exception handling."
      ]
    },
    {
      "cell_type": "code",
      "execution_count": null,
      "metadata": {
        "colab": {
          "base_uri": "https://localhost:8080/"
        },
        "id": "hSTWSfPl1L6X",
        "outputId": "d56a9e9f-b642-4d95-e178-31cbffd870bb"
      },
      "outputs": [
        {
          "name": "stdout",
          "output_type": "stream",
          "text": [
            "Error: The file does not exist. Please check the filename and try again.\n"
          ]
        }
      ],
      "source": [
        "try:\n",
        "    # Try to open a file that may not exist\n",
        "    file = open(\"data.txt\", \"r\")\n",
        "    content = file.read()\n",
        "    print(\"File content:\\n\", content)\n",
        "    file.close()\n",
        "\n",
        "except FileNotFoundError:\n",
        "    print(\"Error: The file does not exist. Please check the filename and try again.\")\n",
        "\n",
        "except PermissionError:\n",
        "    print(\"Error: You do not have permission to open this file.\")\n",
        "\n",
        "except Exception as e:\n",
        "    # For any other unexpected error\n",
        "    print(\"An unexpected error occurred:\", e)\n",
        "\n"
      ]
    },
    {
      "cell_type": "markdown",
      "metadata": {
        "id": "h-HUSdmN2rP7"
      },
      "source": [
        "### 9. How can you read a file line by line and store its content in a list in Python?"
      ]
    },
    {
      "cell_type": "code",
      "execution_count": null,
      "metadata": {
        "colab": {
          "base_uri": "https://localhost:8080/"
        },
        "id": "Zd4RBFaI2xEV",
        "outputId": "153a6d6d-bb7c-4e9d-9e2e-dffd46c9070b"
      },
      "outputs": [
        {
          "name": "stdout",
          "output_type": "stream",
          "text": [
            "File content as a list:\n",
            "['Hello, World!']\n"
          ]
        }
      ],
      "source": [
        "try:\n",
        "    with open(\"example.txt\", \"r\") as file:\n",
        "        lines = file.readlines()  # Reads all lines and stores them in a list\n",
        "        lines = [line.strip() for line in lines]\n",
        "\n",
        "    print(\"File content as a list:\")\n",
        "    print(lines)\n",
        "\n",
        "except FileNotFoundError:\n",
        "    print(\"Error: The file was not found.\")\n"
      ]
    },
    {
      "cell_type": "markdown",
      "metadata": {
        "id": "YwtCieMJ3O0Z"
      },
      "source": [
        "### 10. How can you append data to an existing file in Python?"
      ]
    },
    {
      "cell_type": "code",
      "execution_count": null,
      "metadata": {
        "colab": {
          "base_uri": "https://localhost:8080/"
        },
        "id": "N-0iFzJS3amw",
        "outputId": "72f18354-4cf0-41b7-8513-be3d513c63bd"
      },
      "outputs": [
        {
          "name": "stdout",
          "output_type": "stream",
          "text": [
            "Data appended successfully!\n"
          ]
        }
      ],
      "source": [
        "try:\n",
        "    # Open the file in append mode\n",
        "    with open(\"example.txt\", \"a\") as file:\n",
        "        file.write(\"\\nThis is a new line added to the file.\")\n",
        "\n",
        "    print(\"Data appended successfully!\")\n",
        "\n",
        "except Exception as e:\n",
        "    print(\"An error occurred while appending data:\", e)\n"
      ]
    },
    {
      "cell_type": "code",
      "execution_count": null,
      "metadata": {
        "colab": {
          "base_uri": "https://localhost:8080/"
        },
        "id": "3jtr4K7P36W-",
        "outputId": "777f9daf-21ed-41a5-973e-49eb0b1f90e4"
      },
      "outputs": [
        {
          "name": "stdout",
          "output_type": "stream",
          "text": [
            "Hello, World!\n",
            "\n",
            "This is a new line added to the file.\n",
            "This is a new line added to the file.\n"
          ]
        }
      ],
      "source": [
        "with open(\"example.txt\", \"r\") as file:\n",
        "    print(file.read())"
      ]
    },
    {
      "cell_type": "markdown",
      "metadata": {
        "id": "PoxwuyJ94ZxN"
      },
      "source": [
        "### 11.  Write a Python program that uses a try-except block to handle an error when attempting to access a dictionary key that doesn't exists."
      ]
    },
    {
      "cell_type": "code",
      "execution_count": null,
      "metadata": {
        "colab": {
          "base_uri": "https://localhost:8080/"
        },
        "id": "ZVIMHrb34vAE",
        "outputId": "c1ee79aa-e27a-406f-9511-3204584e6bb6"
      },
      "outputs": [
        {
          "name": "stdout",
          "output_type": "stream",
          "text": [
            "n_estimators: 100\n",
            "Error: Parameter 'min_samples_split' or model 'random_forest' not found.\n"
          ]
        }
      ],
      "source": [
        "# dictionary storing model's hyperparameter\n",
        "model_params = {\n",
        "    \"random_forest\": {\"n_estimators\": 100, \"max_depth\": 10},\n",
        "    \"svm\": {\"kernel\": \"rbf\", \"C\": 1.0},\n",
        "    \"logistic_regression\": {\"penalty\": \"l2\", \"C\": 0.1}\n",
        "}\n",
        "\n",
        "def get_model_param(model_name, param_name):\n",
        "    try:\n",
        "        param_value = model_params[model_name][param_name]\n",
        "    except KeyError:\n",
        "        print(f\"Error: Parameter '{param_name}' or model '{model_name}' not found.\")\n",
        "        return None\n",
        "    else:\n",
        "        return param_value\n",
        "\n",
        "param = get_model_param(\"random_forest\", \"n_estimators\")\n",
        "print(\"n_estimators:\", param)\n",
        "\n",
        "param = get_model_param(\"random_forest\", \"min_samples_split\")\n"
      ]
    },
    {
      "cell_type": "markdown",
      "metadata": {
        "id": "-h7Kavb67oVq"
      },
      "source": [
        "### 12. Write a program that demonstrates using multiple except blocks to handle different types of exceptions."
      ]
    },
    {
      "cell_type": "code",
      "source": [
        "try:\n",
        "    x = int(input(\"Enter a number: \"))\n",
        "    y = 10 / x\n",
        "    print(\"Result:\", y)\n",
        "except ZeroDivisionError:\n",
        "    print(\"Error: You cannot divide by zero.\")\n",
        "except ValueError:\n",
        "    print(\"Error: Invalid input! Please enter a valid integer.\")\n",
        "except Exception as e:\n",
        "    print(f\"An unexpected error occurred: {e}\")\n",
        "else:\n",
        "    print(\"Division performed successfully.\")\n",
        "finally:\n",
        "    print(\"Execution complete.\")\n"
      ],
      "metadata": {
        "colab": {
          "base_uri": "https://localhost:8080/"
        },
        "id": "CL5xmJrYFWPJ",
        "outputId": "52dd8221-e026-4ea4-a13b-ac8dec79bf0f"
      },
      "execution_count": 1,
      "outputs": [
        {
          "output_type": "stream",
          "name": "stdout",
          "text": [
            "Enter a number: aa\n",
            "Error: Invalid input! Please enter a valid integer.\n",
            "Execution complete.\n"
          ]
        }
      ]
    },
    {
      "cell_type": "markdown",
      "metadata": {
        "id": "tNPuTqEY9ocO"
      },
      "source": [
        "### 13. How would you check if a file exists before attempting to read it in Python?"
      ]
    },
    {
      "cell_type": "code",
      "execution_count": null,
      "metadata": {
        "colab": {
          "base_uri": "https://localhost:8080/"
        },
        "id": "C-Jpj3Hr9rf_",
        "outputId": "d1155387-6aae-4873-ddeb-e5a0af283600"
      },
      "outputs": [
        {
          "name": "stdout",
          "output_type": "stream",
          "text": [
            "File content loaded.\n"
          ]
        }
      ],
      "source": [
        "# using os lib\n",
        "import os\n",
        "\n",
        "file_path = 'example.txt'\n",
        "\n",
        "if os.path.exists(file_path):\n",
        "    with open(file_path, 'r') as file:\n",
        "        content = file.read()\n",
        "    print(\"File content loaded.\")\n",
        "else:\n",
        "    print(f\"The file '{file_path}' does not exist.\")\n"
      ]
    },
    {
      "cell_type": "code",
      "execution_count": null,
      "metadata": {
        "colab": {
          "base_uri": "https://localhost:8080/"
        },
        "id": "EYtzKH_79-8L",
        "outputId": "64c3aeaa-57f3-4de4-bf77-8373c18ae50f"
      },
      "outputs": [
        {
          "name": "stdout",
          "output_type": "stream",
          "text": [
            "The file 'data.txt' does not exist.\n"
          ]
        }
      ],
      "source": [
        "# using parhlib\n",
        "from pathlib import Path\n",
        "\n",
        "file_path = Path('data.txt')\n",
        "\n",
        "if file_path.exists():\n",
        "    with file_path.open('r') as file:\n",
        "        content = file.read()\n",
        "    print(\"File content loaded.\")\n",
        "else:\n",
        "    print(f\"The file '{file_path}' does not exist.\")\n"
      ]
    },
    {
      "cell_type": "code",
      "execution_count": null,
      "metadata": {
        "colab": {
          "base_uri": "https://localhost:8080/"
        },
        "id": "80ypBTAd-KFC",
        "outputId": "efe20a15-d55a-4d8d-f92d-3d9f588ae276"
      },
      "outputs": [
        {
          "name": "stdout",
          "output_type": "stream",
          "text": [
            "File content loaded.\n"
          ]
        }
      ],
      "source": [
        "#using try except\n",
        "try:\n",
        "    with open('example.txt', 'r') as file:\n",
        "        content = file.read()\n",
        "    print(\"File content loaded.\")\n",
        "except FileNotFoundError:\n",
        "    print(\"The file does not exist.\")\n"
      ]
    },
    {
      "cell_type": "markdown",
      "metadata": {
        "id": "Aey50vFT-R-j"
      },
      "source": [
        "### 14. Write a program that uses the logging module to log both informational and error messagesF"
      ]
    },
    {
      "cell_type": "code",
      "execution_count": null,
      "metadata": {
        "id": "Sfa1C6G8-XRC"
      },
      "outputs": [],
      "source": [
        "import logging\n",
        "\n",
        "logging.basicConfig(\n",
        "    filename='app.log',\n",
        "    level=logging.DEBUG,\n",
        "    format='%(asctime)s - %(levelname)s - %(message)s'\n",
        ")\n",
        "\n",
        "# Log an informational message\n",
        "logging.info(\"Application has started.\")\n",
        "\n",
        "try:\n",
        "    result = 10 / 0\n",
        "except ZeroDivisionError as e:\n",
        "    logging.error(f\"An error occurred: {e}\")\n",
        "\n",
        "logging.info(\"Application finished.\")\n"
      ]
    },
    {
      "cell_type": "markdown",
      "metadata": {
        "id": "WnK3hyPR-2lI"
      },
      "source": [
        "### 15. Write a Python program that prints the content of a file and handles the case when the file is empty."
      ]
    },
    {
      "cell_type": "code",
      "execution_count": null,
      "metadata": {
        "id": "URapWPu3_Ptf"
      },
      "outputs": [],
      "source": [
        "def file_content(filename):\n",
        "    try:\n",
        "        with open(filename, 'r') as file:\n",
        "            content = file.read()\n",
        "            if content.strip():  # Checks if there's any non-whitespace content\n",
        "                print(\"File Content:\\n\")\n",
        "                print(content)\n",
        "            else:\n",
        "                print(\"The file is empty.\")\n",
        "    except FileNotFoundError:\n",
        "        print(f\"Error: The file '{filename}' was not found.\")\n",
        "    except IOError as e:\n",
        "        print(f\"An I/O error occurred: {e}\")\n",
        "\n",
        "\n"
      ]
    },
    {
      "cell_type": "code",
      "execution_count": null,
      "metadata": {
        "colab": {
          "base_uri": "https://localhost:8080/"
        },
        "id": "M5YH3ClrAiaj",
        "outputId": "04f42e0e-f767-441d-93a5-25be40f8673b"
      },
      "outputs": [
        {
          "name": "stdout",
          "output_type": "stream",
          "text": [
            "File Content:\n",
            "\n",
            "Hello, World!\n",
            "\n",
            "This is a new line added to the file.\n",
            "This is a new line added to the file.\n"
          ]
        }
      ],
      "source": [
        "file_content(\"example.txt\")"
      ]
    },
    {
      "cell_type": "code",
      "execution_count": null,
      "metadata": {
        "id": "PX4Ija2z_UG_"
      },
      "outputs": [],
      "source": [
        "#example_2\n",
        "with open(\"empty_file.txt\", \"w\") as file:\n",
        "    pass"
      ]
    },
    {
      "cell_type": "code",
      "execution_count": null,
      "metadata": {
        "colab": {
          "base_uri": "https://localhost:8080/"
        },
        "id": "CbP5G1gAAoMC",
        "outputId": "5650798f-e77c-42d8-ef83-52f732e82140"
      },
      "outputs": [
        {
          "name": "stdout",
          "output_type": "stream",
          "text": [
            "The file is empty.\n"
          ]
        }
      ],
      "source": [
        "file_content(\"empty_file.txt\")"
      ]
    },
    {
      "cell_type": "markdown",
      "metadata": {
        "id": "pdIyqS6OAvqb"
      },
      "source": [
        "### 16. Demonstrate how to use memory profiling to check the memory usage of a small program?"
      ]
    },
    {
      "cell_type": "code",
      "execution_count": null,
      "metadata": {
        "id": "O-jW1O56FMt8",
        "outputId": "869bd584-212e-4ef4-e7a9-08dd5c8c7bd3"
      },
      "outputs": [
        {
          "name": "stdout",
          "output_type": "stream",
          "text": [
            "Collecting memory_profiler\n",
            "  Downloading memory_profiler-0.61.0-py3-none-any.whl.metadata (20 kB)\n",
            "Requirement already satisfied: psutil in e:\\anaconda\\lib\\site-packages (from memory_profiler) (5.9.0)\n",
            "Downloading memory_profiler-0.61.0-py3-none-any.whl (31 kB)\n",
            "Installing collected packages: memory_profiler\n",
            "Successfully installed memory_profiler-0.61.0\n"
          ]
        }
      ],
      "source": [
        "!pip install memory_profiler"
      ]
    },
    {
      "cell_type": "code",
      "execution_count": null,
      "metadata": {
        "id": "zMzbkPOeFMt8"
      },
      "outputs": [],
      "source": [
        "%load_ext memory_profiler"
      ]
    },
    {
      "cell_type": "code",
      "execution_count": null,
      "metadata": {
        "id": "zgMr8ht8FMt8"
      },
      "outputs": [],
      "source": [
        "from memory_profiler import profile"
      ]
    },
    {
      "cell_type": "code",
      "execution_count": null,
      "metadata": {
        "id": "XjO61RSkFMt9",
        "outputId": "b4be63eb-f659-4352-f44d-c0be1cc59a2a"
      },
      "outputs": [
        {
          "name": "stdout",
          "output_type": "stream",
          "text": [
            "ERROR: Could not find file C:\\Users\\Shree\\AppData\\Local\\Temp\\ipykernel_9888\\1810538764.py\n"
          ]
        },
        {
          "data": {
            "text/plain": [
              "[0,\n",
              " 1,\n",
              " 2,\n",
              " 3,\n",
              " 4,\n",
              " 5,\n",
              " 6,\n",
              " 7,\n",
              " 8,\n",
              " 9,\n",
              " 10,\n",
              " 11,\n",
              " 12,\n",
              " 13,\n",
              " 14,\n",
              " 15,\n",
              " 16,\n",
              " 17,\n",
              " 18,\n",
              " 19,\n",
              " 20,\n",
              " 21,\n",
              " 22,\n",
              " 23,\n",
              " 24,\n",
              " 25,\n",
              " 26,\n",
              " 27,\n",
              " 28,\n",
              " 29,\n",
              " 30,\n",
              " 31,\n",
              " 32,\n",
              " 33,\n",
              " 34,\n",
              " 35,\n",
              " 36,\n",
              " 37,\n",
              " 38,\n",
              " 39,\n",
              " 40,\n",
              " 41,\n",
              " 42,\n",
              " 43,\n",
              " 44,\n",
              " 45,\n",
              " 46,\n",
              " 47,\n",
              " 48,\n",
              " 49,\n",
              " 50,\n",
              " 51,\n",
              " 52,\n",
              " 53,\n",
              " 54,\n",
              " 55,\n",
              " 56,\n",
              " 57,\n",
              " 58,\n",
              " 59,\n",
              " 60,\n",
              " 61,\n",
              " 62,\n",
              " 63,\n",
              " 64,\n",
              " 65,\n",
              " 66,\n",
              " 67,\n",
              " 68,\n",
              " 69,\n",
              " 70,\n",
              " 71,\n",
              " 72,\n",
              " 73,\n",
              " 74,\n",
              " 75,\n",
              " 76,\n",
              " 77,\n",
              " 78,\n",
              " 79,\n",
              " 80,\n",
              " 81,\n",
              " 82,\n",
              " 83,\n",
              " 84,\n",
              " 85,\n",
              " 86,\n",
              " 87,\n",
              " 88,\n",
              " 89,\n",
              " 90,\n",
              " 91,\n",
              " 92,\n",
              " 93,\n",
              " 94,\n",
              " 95,\n",
              " 96,\n",
              " 97,\n",
              " 98,\n",
              " 99]"
            ]
          },
          "execution_count": 26,
          "metadata": {},
          "output_type": "execute_result"
        }
      ],
      "source": [
        "@profile\n",
        "def create_large_list():\n",
        "\n",
        "    large_list = [i for i in range(10**2)]\n",
        "    return large_list\n",
        "\n",
        "\n",
        "create_large_list()"
      ]
    },
    {
      "cell_type": "markdown",
      "metadata": {
        "id": "rxyPu0pxB1uv"
      },
      "source": [
        "### 17. Write a Python program to create and write a list of numbers to a file, one number per line."
      ]
    },
    {
      "cell_type": "code",
      "execution_count": null,
      "metadata": {
        "colab": {
          "base_uri": "https://localhost:8080/"
        },
        "id": "LiRc8zzgB_ju",
        "outputId": "657eba48-3b25-43a2-bfb9-98f37cca889e"
      },
      "outputs": [
        {
          "name": "stdout",
          "output_type": "stream",
          "text": [
            "Successfully wrote 100 numbers to 'numbers.txt'.\n"
          ]
        }
      ],
      "source": [
        "def write_numbers_to_file(filename, numbers):\n",
        "    try:\n",
        "        with open(filename, 'w') as file:\n",
        "            for number in numbers:\n",
        "                file.write(f\"{number}\\n\")\n",
        "        print(f\"Successfully wrote {len(numbers)} numbers to '{filename}'.\")\n",
        "    except IOError as e:\n",
        "        print(f\"An error occurred while writing to the file: {e}\")\n",
        "\n",
        "# Example usage\n",
        "numbers = list(range(1, 101))\n",
        "filename = \"numbers.txt\"\n",
        "write_numbers_to_file(filename, numbers)\n"
      ]
    },
    {
      "cell_type": "markdown",
      "metadata": {
        "id": "OYS7nVAnCg6V"
      },
      "source": [
        "### 18. How would you implement a basic logging setup that logs to a file with rotation after 1MB ?"
      ]
    },
    {
      "cell_type": "code",
      "execution_count": null,
      "metadata": {
        "id": "y4Vcb_4OCoZe"
      },
      "outputs": [],
      "source": [
        "import logging\n",
        "from logging.handlers import RotatingFileHandler\n",
        "\n",
        "# Create a logger\n",
        "logger = logging.getLogger(\"MyLogger\")\n",
        "logger.setLevel(logging.DEBUG)\n",
        "\n",
        "# Create a rotating file handler\n",
        "handler = RotatingFileHandler(\n",
        "    \"app.log\", maxBytes=1 * 1024 * 1024, backupCount=5\n",
        ")\n",
        "handler.setLevel(logging.DEBUG)\n",
        "\n",
        "# Create a log format\n",
        "formatter = logging.Formatter('%(asctime)s - %(levelname)s - %(message)s')\n",
        "handler.setFormatter(formatter)\n",
        "\n",
        "# Add the handler to the logger\n",
        "logger.addHandler(handler)\n",
        "\n",
        "# Example usage\n",
        "logger.info(\"This is an informational message.\")\n",
        "logger.error(\"This is an error message.\")\n",
        "logger.error(\"This is an error message.\")\n"
      ]
    },
    {
      "cell_type": "markdown",
      "metadata": {
        "id": "wH87jPilEMrf"
      },
      "source": [
        "### 19. Write a program that handles both IndexError and KeyError using a try-except block."
      ]
    },
    {
      "cell_type": "code",
      "execution_count": null,
      "metadata": {
        "colab": {
          "base_uri": "https://localhost:8080/"
        },
        "id": "zI71FJ1KD60S",
        "outputId": "a66b64f3-fa27-46e1-e087-883a6c1895ca"
      },
      "outputs": [
        {
          "name": "stdout",
          "output_type": "stream",
          "text": [
            "Error: Dictionary key does not exist.\n",
            "Error: List index is out of range.\n"
          ]
        }
      ],
      "source": [
        "def access_elements(lst, dct, list_index, dict_key):\n",
        "    try:\n",
        "        list_value = lst[list_index]\n",
        "        dict_value = dct[dict_key]\n",
        "    except IndexError:\n",
        "        return \"Error: List index is out of range.\"\n",
        "    except KeyError:\n",
        "        return \"Error: Dictionary key does not exist.\"\n",
        "    else:\n",
        "        return f\"List value: {list_value}, Dictionary value: {dict_value}\"\n",
        "\n",
        "# Example usage:\n",
        "l1 = [1,2,3,4,5,6,7,8,9]\n",
        "d1 = {\"a\": 1, \"b\": 2, \"c\": 3}\n",
        "\n",
        "result = access_elements(l1, d1, 5, 'd')\n",
        "print(result)\n",
        "\n",
        "result = access_elements(l1, d1, 10, 'b')\n",
        "print(result)\n",
        "\n"
      ]
    },
    {
      "cell_type": "markdown",
      "metadata": {
        "id": "RK-viEiIFvZD"
      },
      "source": [
        "### 20. How would you open a file and read its contents using a context manager in Python?"
      ]
    },
    {
      "cell_type": "code",
      "execution_count": null,
      "metadata": {
        "colab": {
          "base_uri": "https://localhost:8080/"
        },
        "id": "9Zej-sM1F1dK",
        "outputId": "3345c69f-9481-4a61-b309-25d04156e9a4"
      },
      "outputs": [
        {
          "name": "stdout",
          "output_type": "stream",
          "text": [
            "File Contents:\n",
            "\n",
            "Hello, World!\n",
            "\n",
            "This is a new line added to the file.\n",
            "This is a new line added to the file.\n"
          ]
        }
      ],
      "source": [
        "# Open and read a file using a context manager\n",
        "filename = \"example.txt\"\n",
        "\n",
        "try:\n",
        "    with open(filename, 'r') as file:\n",
        "        contents = file.read()\n",
        "        print(\"File Contents:\\n\")\n",
        "        print(contents)\n",
        "except FileNotFoundError:\n",
        "    print(f\"Error: The file '{filename}' does not exist.\")\n",
        "except IOError as e:\n",
        "    print(f\"An I/O error occurred: {e}\")\n"
      ]
    },
    {
      "cell_type": "markdown",
      "metadata": {
        "id": "wSgpzaNzGQuB"
      },
      "source": [
        "### 21. Write a Python program that reads a file and prints the number of occurrences of a specific word."
      ]
    },
    {
      "cell_type": "code",
      "execution_count": null,
      "metadata": {
        "id": "nOQeidZUGnqg"
      },
      "outputs": [],
      "source": [
        "def count_word_in_file(filename, target_word):\n",
        "    try:\n",
        "        with open(filename, 'r') as file:\n",
        "            content = file.read().lower()  # Normalize case\n",
        "            words = content.split()\n",
        "            count = words.count(target_word.lower())\n",
        "            print(f\"The word '{target_word}' appears {count} times in '{filename}'.\")\n",
        "    except FileNotFoundError:\n",
        "        print(f\"Error: The file '{filename}' was not found.\")\n",
        "    except IOError as e:\n",
        "        print(f\"An I/O error occurred: {e}\")\n",
        "\n"
      ]
    },
    {
      "cell_type": "code",
      "execution_count": null,
      "metadata": {
        "id": "7yVX6CCLHxsU"
      },
      "outputs": [],
      "source": [
        "with open(\"file_1.txt\", \"w\") as file:\n",
        "    file.write(\"my name aaaa.\\n\")\n",
        "    file.write(\"i am from pune 2.\\n\")\n",
        "    file.write(\"This is line 3.\\n\")"
      ]
    },
    {
      "cell_type": "code",
      "execution_count": null,
      "metadata": {
        "colab": {
          "base_uri": "https://localhost:8080/"
        },
        "id": "3-pKTJW-IQQa",
        "outputId": "54bcd5b8-123d-4ccf-fdbb-bfc4ac1dea59"
      },
      "outputs": [
        {
          "name": "stdout",
          "output_type": "stream",
          "text": [
            "The word 'pune' appears 1 times in 'file_1.txt'.\n"
          ]
        }
      ],
      "source": [
        "count_word_in_file(\"file_1.txt\", \"pune\") # Corrected: Added quotes around filename and word"
      ]
    },
    {
      "cell_type": "markdown",
      "metadata": {
        "id": "H0zRXwwwIyzB"
      },
      "source": [
        "### 22. How can you check if a file is empty before attempting to read its contents?"
      ]
    },
    {
      "cell_type": "code",
      "execution_count": null,
      "metadata": {
        "colab": {
          "base_uri": "https://localhost:8080/"
        },
        "id": "B5Y46vf0I4h5",
        "outputId": "08b8abc8-2afe-4f62-ba7a-d56dcd62766a"
      },
      "outputs": [
        {
          "name": "stdout",
          "output_type": "stream",
          "text": [
            "The file 'empty_file.txt' is empty or does not exist.\n"
          ]
        }
      ],
      "source": [
        "# 1] using os.path.getsize :- returns the size of the file in bytes,If size is 0, the file is empty.\n",
        "\n",
        "import os\n",
        "\n",
        "file_path = \"empty_file.txt\"\n",
        "\n",
        "if os.path.exists(file_path) and os.path.getsize(file_path) > 0:\n",
        "    with open(file_path, \"r\") as file:\n",
        "        content = file.read()\n",
        "    print(content)\n",
        "else:\n",
        "    print(f\"The file '{file_path}' is empty or does not exist.\")\n"
      ]
    },
    {
      "cell_type": "code",
      "execution_count": null,
      "metadata": {
        "id": "8tEF8VdXJiH3",
        "outputId": "2ccc5d8d-7198-44a7-d575-6c5241b87dba"
      },
      "outputs": [
        {
          "name": "stdout",
          "output_type": "stream",
          "text": [
            "File is not empty.\n"
          ]
        }
      ],
      "source": [
        "# 2] Reading the first character as a quick check: Reads the first character,If no character is returned, the file is empty.\n",
        "file_path = \"example.txt\"\n",
        "\n",
        "with open(file_path, \"r\") as file:\n",
        "    first_char = file.read(1)\n",
        "\n",
        "if first_char:\n",
        "    print(\"File is not empty.\")\n",
        "else:\n",
        "    print(\"File is empty.\")\n"
      ]
    },
    {
      "cell_type": "code",
      "execution_count": null,
      "metadata": {
        "colab": {
          "base_uri": "https://localhost:8080/"
        },
        "id": "_gQ7Z5QkKCt0",
        "outputId": "efbf9dd6-9f1e-4b33-887b-b7f5dcbec91c"
      },
      "outputs": [
        {
          "name": "stdout",
          "output_type": "stream",
          "text": [
            "File is empty.\n"
          ]
        }
      ],
      "source": [
        "# 3] Using file.seek() and file.tell() : Moves the file pointer to the end and Checks the position (file size).\n",
        "\n",
        "file_path = \"empty_file.txt\"\n",
        "\n",
        "with open(file_path, \"r\") as file:\n",
        "    file.seek(0, 2)  # Move to end of file\n",
        "    size = file.tell()\n",
        "\n",
        "if size > 0:\n",
        "    print(\"File is not empty.\")\n",
        "else:\n",
        "    print(\"File is empty.\")\n"
      ]
    },
    {
      "cell_type": "markdown",
      "metadata": {
        "id": "xak1h03WKbVk"
      },
      "source": [
        "### 23. Write a Python program that writes to a log file when an error occurs during file handling."
      ]
    },
    {
      "cell_type": "code",
      "execution_count": null,
      "metadata": {
        "colab": {
          "base_uri": "https://localhost:8080/"
        },
        "id": "D1CEgmTqKjC7",
        "outputId": "74cb46e6-a336-4f01-de27-88fcf67efebf"
      },
      "outputs": [
        {
          "name": "stdout",
          "output_type": "stream",
          "text": [
            "Error: The file 'error_log.txt' was not found.\n"
          ]
        }
      ],
      "source": [
        "import logging\n",
        "\n",
        "# Configure logging\n",
        "logging.basicConfig(\n",
        "    filename='error_log.txt',\n",
        "    level=logging.DEBUG,\n",
        "    format='%(asctime)s - %(levelname)s - %(message)s'\n",
        ")\n",
        "\n",
        "def read_file(filename):\n",
        "    try:\n",
        "        with open(filename, 'r') as file:\n",
        "            content = file.read()\n",
        "            print(\"File Content:\\n\", content)\n",
        "    except FileNotFoundError as e:\n",
        "        logging.error(f\"FileNotFoundError: {e}\")\n",
        "        print(f\"Error: The file '{filename}' was not found.\")\n",
        "    except IOError as e:\n",
        "        logging.error(f\"IOError: {e}\")\n",
        "        print(f\"An I/O error occurred while reading '{filename}'.\")\n",
        "\n",
        "read_file(\"error_log.txt\")\n"
      ]
    }
  ],
  "metadata": {
    "colab": {
      "provenance": []
    },
    "kernelspec": {
      "display_name": "base",
      "language": "python",
      "name": "python3"
    },
    "language_info": {
      "codemirror_mode": {
        "name": "ipython",
        "version": 3
      },
      "file_extension": ".py",
      "mimetype": "text/x-python",
      "name": "python",
      "nbconvert_exporter": "python",
      "pygments_lexer": "ipython3",
      "version": "3.13.5"
    }
  },
  "nbformat": 4,
  "nbformat_minor": 0
}