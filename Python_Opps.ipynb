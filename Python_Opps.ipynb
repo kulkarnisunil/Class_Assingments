{
  "nbformat": 4,
  "nbformat_minor": 0,
  "metadata": {
    "colab": {
      "provenance": [],
      "authorship_tag": "ABX9TyMqfeFqnjZNb252pM/UXoCL",
      "include_colab_link": true
    },
    "kernelspec": {
      "name": "python3",
      "display_name": "Python 3"
    },
    "language_info": {
      "name": "python"
    }
  },
  "cells": [
    {
      "cell_type": "markdown",
      "metadata": {
        "id": "view-in-github",
        "colab_type": "text"
      },
      "source": [
        "<a href=\"https://colab.research.google.com/github/kulkarnisunil/Class_Assingments/blob/main/Python_Opps.ipynb\" target=\"_parent\"><img src=\"https://colab.research.google.com/assets/colab-badge.svg\" alt=\"Open In Colab\"/></a>"
      ]
    },
    {
      "cell_type": "code",
      "execution_count": 43,
      "metadata": {
        "id": "exR5oU9hrgNU"
      },
      "outputs": [],
      "source": []
    },
    {
      "cell_type": "markdown",
      "source": [
        "# Python OOPs Questions"
      ],
      "metadata": {
        "id": "PmEwXp3er33i"
      }
    },
    {
      "cell_type": "markdown",
      "source": [
        "### 1. What is Object-Oriented Programming (OOP)\n",
        "Answer:\n",
        "\n",
        "- Object-Oriented Programming organizes programs using objects that group together data and functions to represent real-world entities and their behaviors.\n",
        "\n",
        "- Objects: Represent things (like a car or animal) with their own properties and actions.\n",
        "\n",
        "- Class: Blueprint for creating objects, defining shared characteristics and abilities.\n",
        "\n",
        "- four Principles:\n",
        "\n",
        "    - Encapsulation: Bundling data and methods together, and protecting data from outside access.\n",
        "    - Inheritance: Reusing and extending features from other classes.\n",
        "    - Polymorphism: Using one interface for different objects, letting the same action work differently.\n",
        "    - abstraction: Hiding complex details and showing only important features.\n",
        "\n",
        "- Advantage:\n",
        "Software is designed by using objects that interact with one another\n",
        "    - being faster and easier to execute.\n",
        "    - providing a clear structure for a program\n",
        "    - making code easier to modify, debug and maintain\n",
        "    - making it easier to reuse code  "
      ],
      "metadata": {
        "id": "5llpu6OGsP4P"
      }
    },
    {
      "cell_type": "markdown",
      "source": [
        "###  2. What is a class in OOP?\n",
        "Answer:\n",
        "\n",
        "- A class in OOPS is a simple blueprint or template used to create objects. It defines the properties (data or attributes) and methods (actions or functions) that the objects made from the class will have.\n",
        "\n",
        "-  class tells what an object is and what it can do. It helps organize and reuse code easily.\n",
        "\n",
        "- Example, a Car class can have properties like color and model, and methods like drive() and stop(). Each specific car you create is an object based on that class."
      ],
      "metadata": {
        "id": "-lbpUwZ4yb9G"
      }
    },
    {
      "cell_type": "markdown",
      "source": [
        "### 3. What is an object in OOP?\n",
        "Answer:\n",
        "\n",
        "- An object in OOPS is like a real thing or thing in a program that has attributes (data) and actions (methods)\n",
        "\n",
        "- an object is something in the program that knows how to do things and holds information about itself.\n",
        "\n",
        "- example , a BMW_CAR object has properties like color and speed and can do actions like drive or stop.\n",
        "\n",
        "- Objects are created from classes, which are blueprints. Each object is a specific example, with its own unique data, made from that class."
      ],
      "metadata": {
        "id": "ADG9gE2Xz_Q5"
      }
    },
    {
      "cell_type": "markdown",
      "source": [
        "### 4. What is the difference between abstraction and encapsulation?\n",
        "Answer:\n",
        "\n",
        "| Feature                | Abstraction                                         | Encapsulation                                   |\n",
        "|------------------------|----------------------------------------------------|------------------------------------------------|\n",
        "| Meaning                | Hides complex details, shows only essential features | Hides internal data and restricts access        |\n",
        "| Focus                  | It tells what a class should do, without showing how it does it.                        | How data is protected and accessed               |\n",
        "| How to achieve in Python| Using abstract classes and methods (`abc` module) | Using private/protected variables with getters/setters |\n",
        "| Purpose                | Simplify complexity by hiding implementation       | Protect data integrity and prevent unauthorized access |\n",
        "| Example                | Abstract class defining method signatures           | Class with private variables and public methods |\n",
        "\n"
      ],
      "metadata": {
        "id": "8aCNSzhh2s1R"
      }
    },
    {
      "cell_type": "code",
      "source": [
        "# Abstraction\n",
        "from abc import ABC, abstractmethod\n",
        "\n",
        "class Vehicle(ABC):\n",
        "    @abstractmethod\n",
        "    def start(self):\n",
        "        pass\n",
        "\n",
        "class Car(Vehicle):\n",
        "    def start(self):\n",
        "        print(\"Car started\")\n"
      ],
      "metadata": {
        "id": "0-oKfUs44_O6"
      },
      "execution_count": 44,
      "outputs": []
    },
    {
      "cell_type": "code",
      "source": [
        "# Encapsulation\n",
        "class BankAccount:\n",
        "    def __init__(self):\n",
        "        self.__balance = 0  # private attribute\n",
        "\n",
        "    def deposit(self, amount):\n",
        "        self.__balance += amount\n",
        "\n",
        "    def get_balance(self):\n",
        "        return self.__balance\n"
      ],
      "metadata": {
        "id": "8EjyCOLlsGb4"
      },
      "execution_count": 45,
      "outputs": []
    },
    {
      "cell_type": "markdown",
      "source": [
        "### 5.  What are dunder methods in Python?\n",
        "Answer:\n",
        "\n",
        "- Dunder methods in Python, also called magic methods, are special predefined methods that start and end with double underscores __ (hence \"dunder\" = double underscore). They allow objects to interact with built-in Python functions and operators.\n",
        "\n",
        "- They define how Python built-in operations work with your objects.\n",
        "\n",
        "- usually don't call them directly; Python calls them internally.\n",
        "\n",
        "- example:\n",
        "\n",
        "    - __init__ : Called when an object is created (like a constructor).\n",
        "    - __str__ : Defines what print() shows for the object.\n",
        "    "
      ],
      "metadata": {
        "id": "0oi1GeGp5YRk"
      }
    },
    {
      "cell_type": "code",
      "source": [
        "class Person:\n",
        "    def __init__(self, name):\n",
        "        self.name = name\n",
        "\n",
        "    def __str__(self):\n",
        "        return f\"Person: {self.name}\"\n",
        "\n",
        "p = Person(\"Sunil\")\n",
        "print(p)\n"
      ],
      "metadata": {
        "colab": {
          "base_uri": "https://localhost:8080/"
        },
        "id": "sc5wS_Mg6UQH",
        "outputId": "5315dc82-57be-4696-d73f-3e9ac4b6be6c"
      },
      "execution_count": 46,
      "outputs": [
        {
          "output_type": "stream",
          "name": "stdout",
          "text": [
            "Person: Sunil\n"
          ]
        }
      ]
    },
    {
      "cell_type": "markdown",
      "source": [
        "### 6.Explain the concept of inheritance in OOP.\n",
        "Answer:\n",
        "\n",
        "- Inheritance is a way for a new class (child or derived class) to inherit attributes and methods from an existing class (parent or base class). This allows the child class to reuse code, extend functionality, or customize behaviors without rewriting everything.\n",
        "\n",
        "    - Parent class has common properties and methods.\n",
        "    - Child class inherits these and can add its own or override parent methods.\n",
        "    - class ChildClass(ParentClass): syntax to inherit.\n",
        "    - The super() function calls the parent class's methods, usually in the child's __init__.\n",
        "    - Inheritance promotes code reuse, simplifies maintenance, and helps represent real-world relationships like employee is a person.\n"
      ],
      "metadata": {
        "id": "J1jYtCR-6aL8"
      }
    },
    {
      "cell_type": "code",
      "source": [
        "# Parent class\n",
        "class Person:\n",
        "    def __init__(self, name):\n",
        "        self.name = name\n",
        "\n",
        "    def display(self):\n",
        "        print(f\"Name: {self.name}\")\n",
        "\n",
        "# Child class\n",
        "class Employee(Person):\n",
        "    def __init__(self, name, salary):\n",
        "        super().__init__(name)\n",
        "        self.salary = salary\n",
        "\n",
        "    def show_salary(self):\n",
        "        print(f\"Salary: {self.salary}\")\n",
        "\n",
        "emp = Employee(\"Sunil\", 50000)\n",
        "emp.display()       # From parent class\n",
        "emp.show_salary()   # From child class\n"
      ],
      "metadata": {
        "colab": {
          "base_uri": "https://localhost:8080/"
        },
        "id": "ygwpJKCI70Ij",
        "outputId": "97d946dc-38b7-469f-fe35-e5587cfaeb09"
      },
      "execution_count": 47,
      "outputs": [
        {
          "output_type": "stream",
          "name": "stdout",
          "text": [
            "Name: Sunil\n",
            "Salary: 50000\n"
          ]
        }
      ]
    },
    {
      "cell_type": "markdown",
      "source": [
        "### 7. What is polymorphism in OOP?\n",
        "Answer:\n",
        "\n",
        "- Polymorphism means \"many forms\" and allows the same method or operator to behave differently depending on the object it is acting on.\n",
        "\n",
        "- It enables a single interface to represent different data types or class objects.\n",
        "\n",
        "- Method Overriding: Subclasses provide specific behavior for a method defined in the parent class.\n",
        "\n",
        "- Duck Typing: If an object has the required method, it can be used regardless of its class.\n",
        "\n",
        "- Operator Overloading: Same operator acts differently for different data types.\n",
        "\n",
        "- Advantage:-\n",
        "\n",
        "    - It promotes code reusability and extensibility.\n",
        "    - It allows writing clean and maintainable code.\n",
        "    - It supports interface uniformity across different data types or classes.\n",
        "\n",
        "- Polymorphism makes code flexible, reusable, and easy to extend."
      ],
      "metadata": {
        "id": "7hY2xGDh8T8W"
      }
    },
    {
      "cell_type": "code",
      "source": [
        "class Bird:\n",
        "    def fly(self):\n",
        "        print(\"Flying in the sky\")\n",
        "\n",
        "class Airplane:\n",
        "    def fly(self):\n",
        "        print(\"Flying with engines\")\n",
        "\n",
        "def lets_fly(flying_obj):\n",
        "    flying_obj.fly()\n",
        "\n",
        "bird = Bird()\n",
        "plane = Airplane()\n",
        "\n",
        "lets_fly(bird)\n",
        "lets_fly(plane)"
      ],
      "metadata": {
        "colab": {
          "base_uri": "https://localhost:8080/"
        },
        "id": "xQvaLxw2_M3Q",
        "outputId": "940d76fb-0772-4e88-8a8a-b80218be12ce"
      },
      "execution_count": 48,
      "outputs": [
        {
          "output_type": "stream",
          "name": "stdout",
          "text": [
            "Flying in the sky\n",
            "Flying with engines\n"
          ]
        }
      ]
    },
    {
      "cell_type": "markdown",
      "source": [
        "- This shows how the same method call fly() works differently, based on the object type."
      ],
      "metadata": {
        "id": "RqFw1YFw_nz0"
      }
    },
    {
      "cell_type": "markdown",
      "source": [
        "### 8.  How is encapsulation achieved in Python?\n",
        "Answer:\n",
        "\n",
        "- Encapsulation in Python is achieved by restricting direct access to some of an object's components and controlling access through special methods. This bundling of data and methods in one unit (class) helps protect an object's internal state.\n",
        "\n",
        "1. Encapsulation hides internal data (private variables).\n",
        "2. Access is controlled using getter/setter methods.\n",
        "\n",
        "    - Use public methods to access or modify private attributes safely.\n",
        "    - These control how attributes are read or modified and protect data integrity.\n",
        "    - Helps secure data and maintain object integrity.\n",
        "    "
      ],
      "metadata": {
        "id": "EktRiEfd_peV"
      }
    },
    {
      "cell_type": "code",
      "source": [
        "class BankAccount:\n",
        "    def __init__(self):\n",
        "        self.__balance = 0  # Private attribute\n",
        "\n",
        "    def deposit(self, amount):\n",
        "        if amount > 0:\n",
        "            self.__balance += amount\n",
        "\n",
        "    def get_balance(self):\n",
        "        return self.__balance\n",
        "\n",
        "account = BankAccount()\n",
        "account.deposit(1000)\n",
        "print(account.get_balance())\n",
        "# print(account.__balance)    # Error: private variable\n"
      ],
      "metadata": {
        "colab": {
          "base_uri": "https://localhost:8080/"
        },
        "id": "sNvB_fiICiKm",
        "outputId": "3fb1e7b6-857b-4175-ec7e-ee0215ae8623"
      },
      "execution_count": 49,
      "outputs": [
        {
          "output_type": "stream",
          "name": "stdout",
          "text": [
            "1000\n"
          ]
        }
      ]
    },
    {
      "cell_type": "markdown",
      "source": [
        "### 9.  What is a constructor in Python?\n",
        "Answer:\n",
        "\n",
        "- A constructor in Python is a special method named __init__() that is automatically called when an object of a class is created. Its main role is to initialize the object's attributes or set up the initial state.\n",
        "\n",
        "1. The constructor method is always called __init__.\n",
        "\n",
        "2. It takes self as the first argument, referring to the current object.\n",
        "\n",
        "3. It can also accept additional parameters to initialize object properties.\n",
        "\n",
        "4. It does not return any value.\n",
        "\n",
        "5. It is called automatically during object creation, so no explicit call is needed.\n",
        "\n",
        "- Types of constructors:\n",
        "\n",
        "    - Default constructor: Takes no parameters and initializes default values.\n",
        "\n",
        "    - Parameterized constructor: Takes parameters to initialize attributes with specific values."
      ],
      "metadata": {
        "id": "1O2iMlUFCyGr"
      }
    },
    {
      "cell_type": "code",
      "source": [
        "class Person:\n",
        "    def __init__(self, name, age):\n",
        "        self.name = name\n",
        "        self.age = age\n",
        "\n",
        "person1 = Person(\"AAA\", 30)\n",
        "print(person1.name)\n",
        "print(person1.age)\n"
      ],
      "metadata": {
        "colab": {
          "base_uri": "https://localhost:8080/"
        },
        "id": "8459vlb2DqiC",
        "outputId": "a58e573b-574d-4078-a769-ca458c41abdf"
      },
      "execution_count": 50,
      "outputs": [
        {
          "output_type": "stream",
          "name": "stdout",
          "text": [
            "AAA\n",
            "30\n"
          ]
        }
      ]
    },
    {
      "cell_type": "markdown",
      "source": [
        "### 10.  What are class and static methods in Python?\n",
        "\n",
        "- Class Methods:\n",
        "\n",
        "    - Defined with the @classmethod decorator.\n",
        "    - Takes the class (cls) as the first parameter instead of the instance (self).\n",
        "    - Can access and modify class-level attributes (shared across all instances).\n",
        "    - Often used for factory methods or alternative constructors.\n",
        "    - Example use: Creating an object using different parameters or modifying class state.\n",
        "\n",
        "- Static Methods:\n",
        "\n",
        "    - Defined with the @staticmethod decorator.\n",
        "    - Does not take self or cls as the first parameter.\n",
        "    - Cannot access or modify the class or instance state.\n",
        "    - Used for utility functions related to the class but not dependent on class or instance data.\n",
        "    - Example use: Helper functions like a method to check if a string is a palindrome."
      ],
      "metadata": {
        "id": "Wu12w5gaENLu"
      }
    },
    {
      "cell_type": "code",
      "source": [
        "class MyClass:\n",
        "    class_variable = 10\n",
        "\n",
        "    @classmethod\n",
        "    def class_method(cls):\n",
        "        print(f\"Class variable is {cls.class_variable}\")\n",
        "\n",
        "    @staticmethod\n",
        "    def static_method(x, y):\n",
        "        print(f\"Static method called with arguments {x} and {y}\")\n",
        "\n",
        "MyClass.class_method()\n",
        "MyClass.static_method(5, 7)\n"
      ],
      "metadata": {
        "colab": {
          "base_uri": "https://localhost:8080/"
        },
        "id": "zDHos5OaFyWs",
        "outputId": "a447f78f-5131-4503-bab8-15c55dcbdb3d"
      },
      "execution_count": 51,
      "outputs": [
        {
          "output_type": "stream",
          "name": "stdout",
          "text": [
            "Class variable is 10\n",
            "Static method called with arguments 5 and 7\n"
          ]
        }
      ]
    },
    {
      "cell_type": "markdown",
      "source": [
        "### 11. What is method overloading in Python?\n",
        "Answer:\n",
        "\n",
        "- Python does not support method overloading where multiple methods have the same name but different parameters\n",
        "\n",
        "- When you write multiple methods with the same name in the same class, Python only keeps the last method defined and ignores (overrides) the previous ones.\n",
        "\n",
        "- Instead, to get similar behavior, Python uses tricks inside a single method to handle different numbers or types of inputs."
      ],
      "metadata": {
        "id": "ZhWVtYXRGEHR"
      }
    },
    {
      "cell_type": "markdown",
      "source": [
        " 1. Default arguments:\n",
        "The method provides default values for parameters so it can work with different numbers of arguments."
      ],
      "metadata": {
        "id": "dH6sUywxHoSX"
      }
    },
    {
      "cell_type": "code",
      "source": [
        "def greet(name=None):\n",
        "    if name:\n",
        "        print(f\"Hello, {name}\")\n",
        "    else:\n",
        "        print(\"Hello\")\n",
        "greet()\n",
        "greet(\"Sunil\")\n",
        "\n"
      ],
      "metadata": {
        "colab": {
          "base_uri": "https://localhost:8080/"
        },
        "id": "0K5ikpb3G6pS",
        "outputId": "9cfa6c22-7399-4933-d112-f35fe8f33774"
      },
      "execution_count": 52,
      "outputs": [
        {
          "output_type": "stream",
          "name": "stdout",
          "text": [
            "Hello\n",
            "Hello, Sunil\n"
          ]
        }
      ]
    },
    {
      "cell_type": "markdown",
      "source": [
        "2. Variable-length arguments (*args and **kwargs):\n",
        "The method accepts any number of positional or keyword arguments and processes them inside."
      ],
      "metadata": {
        "id": "AU3E5RpaH3z7"
      }
    },
    {
      "cell_type": "code",
      "source": [
        "def greet(*names):\n",
        "    for name in names:\n",
        "        print(f\"Hello, {name}\")\n",
        "\n",
        "greet(\"Sunil\")\n",
        "greet(\"Sunil\", \"Rahul\", \"Chimu\")\n"
      ],
      "metadata": {
        "colab": {
          "base_uri": "https://localhost:8080/"
        },
        "id": "7rHDIdhIH6y8",
        "outputId": "486c00e1-8d5b-4279-a8ae-550e00d32235"
      },
      "execution_count": 53,
      "outputs": [
        {
          "output_type": "stream",
          "name": "stdout",
          "text": [
            "Hello, Sunil\n",
            "Hello, Sunil\n",
            "Hello, Rahul\n",
            "Hello, Chimu\n"
          ]
        }
      ]
    },
    {
      "cell_type": "markdown",
      "source": [
        "3. Type checking inside method:\n",
        "The method uses if statements to run different logic based on argument types or counts."
      ],
      "metadata": {
        "id": "sWfb9d6wIbsU"
      }
    },
    {
      "cell_type": "markdown",
      "source": [
        "### 12. What is method overriding in OOP?\n",
        "Answer:\n",
        "\n",
        "-  where a subclass provides its own specific implementation of a method that is already defined in its parent (superclass).\n",
        "\n",
        "- When a child class has a method with the same name and parameters as a method in the parent class, the child class method overrides the parent class method.\n",
        "\n",
        "- When you call the method on an object of the child class, Python uses the child class version, not the parent one.\n",
        "\n",
        "- This lets subclasses customize or extend the behavior of inherited methods.\n",
        "\n",
        "- pros:\n",
        "\n",
        "    1. It allows code reuse by inheriting from a parent class\n",
        "    2. At the same time, it lets subclasses modify or enhance specific functionality.\n",
        "    3. Important for polymorphism and customizing inherited behavior."
      ],
      "metadata": {
        "id": "1PFNv0kYIdAq"
      }
    },
    {
      "cell_type": "code",
      "source": [
        "class Animal:\n",
        "    def sound(self):\n",
        "        print(\"Some generic animal sound\")\n",
        "\n",
        "class Dog(Animal):\n",
        "    def sound(self):\n",
        "        print(\"Bark\")\n",
        "\n",
        "animal = Animal()\n",
        "animal.sound()\n",
        "dog = Dog()\n",
        "dog.sound()\n"
      ],
      "metadata": {
        "colab": {
          "base_uri": "https://localhost:8080/"
        },
        "id": "_dfOhKYXJ4OA",
        "outputId": "5b34d454-ad8c-468c-a014-d311f1c04ca8"
      },
      "execution_count": 54,
      "outputs": [
        {
          "output_type": "stream",
          "name": "stdout",
          "text": [
            "Some generic animal sound\n",
            "Bark\n"
          ]
        }
      ]
    },
    {
      "cell_type": "markdown",
      "source": [
        "### 13.  What is a property decorator in Python?\n",
        "\n",
        "Answer:-\n",
        "\n",
        "- @property in Python is a decorator that lets you treat a method like an attribute. Its useful when you want to add logic while getting or setting a value, without changing how the attribute is accessed\n",
        "\n",
        "- It's used to create read-only attributes or to control access to private variables in a clean and Pythonic way.\n",
        "\n",
        "- pros:\n",
        "\n",
        "    - Allows validation or computation when accessing attributes\n",
        "    - Avoids the need for separate get_ and set_ methods\n",
        "\n"
      ],
      "metadata": {
        "id": "9PYa-CsrXEsP"
      }
    },
    {
      "cell_type": "code",
      "source": [
        "#Example\n",
        "class Person:\n",
        "    def __init__(self, age):\n",
        "        self._age = age\n",
        "\n",
        "    @property\n",
        "    def age(self):\n",
        "        return self._age\n",
        "\n",
        "    @age.setter\n",
        "    def age(self, value):\n",
        "        if value < 0:\n",
        "            raise ValueError(\"Age cannot be negative\")\n",
        "        self._age = value"
      ],
      "metadata": {
        "id": "8PdjwZ3iZTQw"
      },
      "execution_count": 55,
      "outputs": []
    },
    {
      "cell_type": "code",
      "source": [
        "p = Person(25)\n",
        "print(p.age)     # Accesses age like an attribute\n",
        "p.age = 30       # Sets age with validation"
      ],
      "metadata": {
        "colab": {
          "base_uri": "https://localhost:8080/"
        },
        "id": "9ly8hBtoZcP2",
        "outputId": "2cd7db59-711a-4b42-9286-b32dbab72272"
      },
      "execution_count": 56,
      "outputs": [
        {
          "output_type": "stream",
          "name": "stdout",
          "text": [
            "25\n"
          ]
        }
      ]
    },
    {
      "cell_type": "markdown",
      "source": [
        "### 14.  Why is polymorphism important in OOP?\n",
        "\n",
        "Answer:\n",
        "\n",
        "- Polymorphism means many forms. it allows one function or method to behave differently based on the object that calls it\n",
        "\n",
        "- uses\n",
        "\n",
        "    - Flexibility: You can write one function that works with different types of objects.\n",
        "    - Clean Code: Avoids repeating similar code for different classes.\n",
        "    - Easy to Extend: You can add new classes without changing existing code.\n",
        "\n",
        "- example"
      ],
      "metadata": {
        "id": "QaFhet_CZthl"
      }
    },
    {
      "cell_type": "code",
      "source": [
        "class Animal:\n",
        "    def speak(self):\n",
        "        pass\n",
        "\n",
        "class Dog(Animal):\n",
        "    def speak(self):\n",
        "        return \"bho-bho-bhooo\"\n",
        "\n",
        "class Cat(Animal):\n",
        "    def speak(self):\n",
        "        return \"Meow!\"\n",
        "\n",
        "def make_animal_speak(animal: Animal):\n",
        "    print(animal.speak())\n",
        "\n",
        "make_animal_speak(Dog())\n",
        "make_animal_speak(Cat())"
      ],
      "metadata": {
        "colab": {
          "base_uri": "https://localhost:8080/"
        },
        "id": "smJAF4BncFEv",
        "outputId": "9ef840e3-6d7c-40e9-8b29-8efff9654ebb"
      },
      "execution_count": 57,
      "outputs": [
        {
          "output_type": "stream",
          "name": "stdout",
          "text": [
            "bho-bho-bhooo\n",
            "Meow!\n"
          ]
        }
      ]
    },
    {
      "cell_type": "markdown",
      "source": [
        " animal.speak() is the same method call, it behaves differently depending on the object—this is polymorphism\n"
      ],
      "metadata": {
        "id": "eRNrtVzScdBg"
      }
    },
    {
      "cell_type": "markdown",
      "source": [
        "### 15.  What is an abstract class in Python?\n",
        "\n",
        "Answer:-\n",
        "\n",
        "- An abstract class in Python is a base class that defines methods without giving full details. It forces subclasses to implement those methods. This helps maintain a consistent structure and supports clean, scalable code.\n",
        "\n",
        "- example"
      ],
      "metadata": {
        "id": "D34cqmyrceEk"
      }
    },
    {
      "cell_type": "code",
      "source": [
        "from abc import ABC, abstractmethod\n",
        "\n",
        "class Animal(ABC):\n",
        "    @abstractmethod\n",
        "    def sound(self):\n",
        "        pass\n",
        "\n",
        "class Dog(Animal):\n",
        "    def sound(self):\n",
        "        return \"Bark\"\n",
        "\n",
        "class Cat(Animal):\n",
        "    def sound(self):\n",
        "        return \"Meow\""
      ],
      "metadata": {
        "id": "rWpm-_sseiQu"
      },
      "execution_count": 58,
      "outputs": []
    },
    {
      "cell_type": "markdown",
      "source": [
        "### 16. What are the advantages of OOP?\n",
        "\n",
        "Answer:\n",
        "\n",
        "- OOP helps me write clean and structured code. I can reuse classes, hide sensitive data, and easily add new features. It's especially useful when working on large projects or team-based development.\n",
        "\n",
        "    - Modularity: Code is divided into small parts (classes), making it easier to manage.\n",
        "    - Reusability: You can reuse existing code using inheritance, saving time.\n",
        "    - Maintainability: Changes in one part of the code dont affect others, making it easier to fix bugs.\n",
        "    - Security: Encapsulation hides internal details and protects data.\n",
        "    - Flexibility: Polymorphism lets you use one interface for different types of objects."
      ],
      "metadata": {
        "id": "G0DiNzfwfDHL"
      }
    },
    {
      "cell_type": "markdown",
      "source": [
        "### 17. What is the difference between a class variable and an instance variable?\n",
        "\n",
        "Answer:\n",
        "\n",
        "- A class variable is shared across all instances of a class. It's defined directly inside the class but outside any instance methods. An instance variable, on the other hand, is unique to each object and is usually defined inside(__init__()) the  method using .\n",
        "\n",
        "- class variable access using Class_Name.var and self.var and instance variable access using self.var.\n",
        "\n",
        "- class variable has common data for all object and instance variable only has Object specific data.\n",
        "\n",
        "- For example, in a machine learning context, suppose we have a class Model that tracks how many models have been created. We'd use a class variable for that count, and instance variables for model-specific parameters like learning rate or number of layers.\n"
      ],
      "metadata": {
        "id": "de2jYSwOgWYw"
      }
    },
    {
      "cell_type": "code",
      "source": [
        "# example\n",
        "class Model:\n",
        "    model_count = 0  # Class variable\n",
        "\n",
        "    def __init__(self, learning_rate, layers):\n",
        "        self.learning_rate = learning_rate  # Instance variable\n",
        "        self.layers = layers                # Instance variable\n",
        "        Model.model_count += 1\n",
        "\n",
        "# Creating models\n",
        "m1 = Model(0.01, 3)\n",
        "m2 = Model(0.001, 5)\n",
        "\n",
        "print(Model.model_count)\n",
        "print(m1.learning_rate)\n",
        "print(m2.learning_rate)"
      ],
      "metadata": {
        "colab": {
          "base_uri": "https://localhost:8080/"
        },
        "id": "-xEZGxlVh03Y",
        "outputId": "d4d79b29-ab40-411f-e191-2c181a01bcee"
      },
      "execution_count": 59,
      "outputs": [
        {
          "output_type": "stream",
          "name": "stdout",
          "text": [
            "2\n",
            "0.01\n",
            "0.001\n"
          ]
        }
      ]
    },
    {
      "cell_type": "markdown",
      "source": [
        "### 18. What is multiple inheritance in Python?\n",
        "\n",
        "Answer:\n",
        "\n",
        "- Multiple inheritance means a class can inherit from more than one parent class. This allows the child class to combine functionalities from multiple sources. Python supports this directly, unlike some other languages.\n",
        "\n",
        "- A common use case is when you're designing mixins—small classes that add specific behavior. For example, in a machine learning pipeline, you might have one class handling logging and another handling model training. You can create a new class that inherits both.\n",
        "\n",
        "- example"
      ],
      "metadata": {
        "id": "04ndo0hviedx"
      }
    },
    {
      "cell_type": "code",
      "source": [
        "class Logger:\n",
        "    def log(self, message):\n",
        "        print(f\"LOG: {message}\")\n",
        "\n",
        "class Trainer:\n",
        "    def train(self):\n",
        "        print(\"Training model...\")\n",
        "\n",
        "class MLWorkflow(Logger, Trainer):\n",
        "    def run(self):\n",
        "        self.log(\"Starting training\")\n",
        "        self.train()\n",
        "        self.log(\"Training complete\")\n",
        "\n",
        "workflow = MLWorkflow()\n",
        "workflow.run()"
      ],
      "metadata": {
        "colab": {
          "base_uri": "https://localhost:8080/"
        },
        "id": "GdVEvJ9BlEvT",
        "outputId": "61bcced7-7efa-4746-cb33-0edb1a081bfe"
      },
      "execution_count": 60,
      "outputs": [
        {
          "output_type": "stream",
          "name": "stdout",
          "text": [
            "LOG: Starting training\n",
            "Training model...\n",
            "LOG: Training complete\n"
          ]
        }
      ]
    },
    {
      "cell_type": "markdown",
      "source": [
        "### 19.  Explain the purpose of __str__ and __repr__ methods in Python\n",
        "\n",
        "Answer:\n",
        "\n",
        "- Both __str__() and __repr__() are special methods used to define how an object is represented as a string.\n",
        "\n",
        "    - __str__() is meant to return a user-friendly string—something readable and clean, like what you'd show in a report or UI.\n",
        "    - __repr__() is meant for developers—it returns a more detailed, often unambiguous string that could help with debugging or even recreate the object using eval().\n",
        "\n",
        "- If __str__() is not defined, Python falls back to using __repr__() when you call print() or str() on the object.\n",
        "\n",
        "- example\n"
      ],
      "metadata": {
        "id": "2rjF3OG4l50O"
      }
    },
    {
      "cell_type": "code",
      "source": [
        "class Product:\n",
        "    def __init__(self, name, price):\n",
        "        self.name = name\n",
        "        self.price = price\n",
        "\n",
        "    def __str__(self):\n",
        "        return f\"{self.name} costs ₹{self.price}\"\n",
        "\n",
        "    def __repr__(self):\n",
        "        return f\"Product('{self.name}', {self.price})\"\n",
        "\n",
        "p = Product(\"Laptop\", 75000)\n",
        "\n",
        "print(str(p))\n",
        "print(repr(p))"
      ],
      "metadata": {
        "colab": {
          "base_uri": "https://localhost:8080/"
        },
        "id": "_-ynijQqmqf7",
        "outputId": "8df02c6f-421c-4df9-f2a5-3953931694ab"
      },
      "execution_count": 61,
      "outputs": [
        {
          "output_type": "stream",
          "name": "stdout",
          "text": [
            "Laptop costs ₹75000\n",
            "Product('Laptop', 75000)\n"
          ]
        }
      ]
    },
    {
      "cell_type": "markdown",
      "source": [
        "- good programing practice:- Because __repr__() is used by default in many places—like the interactive shell, logging, and debugging. Its designed to give a complete picture of the object. In fact, best practice is to always implement __repr__() first, and only add __str__() if you need a cleaner output for end users.\n"
      ],
      "metadata": {
        "id": "ZY2m0BtenMlp"
      }
    },
    {
      "cell_type": "markdown",
      "source": [
        "### 20.  What is the significance of the super() function in Python?\n",
        "\n",
        "Answer:\n",
        "\n",
        "- super() function is used to call methods from a parent class inside a child class. It's especially useful when you're overriding methods but still want to use the original functionality from the parent. This helps with code reuse and keeps things clean.\n",
        "One common use case is in constructors (__init__) when a child class wants to extend the initialization logic of its parent.\n",
        "\n",
        "- super() is more flexible. It automatically resolves the correct method using Pythons Method Resolution Order (MRO), which is especially important in multiple inheritance. It also makes your code easier to maintain—if you change the parent class name, you don't have to update every reference.\n",
        "\n",
        "\n",
        "\n"
      ],
      "metadata": {
        "id": "4gHdJ6_gnrEo"
      }
    },
    {
      "cell_type": "code",
      "source": [
        "#example\n",
        "class Person:\n",
        "    def __init__(self, name):\n",
        "        self.name = name\n",
        "\n",
        "class Employee(Person):\n",
        "    def __init__(self, name, emp_id):\n",
        "      # Person.__init__(self,name)\n",
        "        super().__init__(name)  # Calls Person's __init__\n",
        "        self.emp_id = emp_id\n",
        "\n",
        "e = Employee(\"Sunil\", 101)\n",
        "print(e.name)\n",
        "print(e.emp_id)"
      ],
      "metadata": {
        "colab": {
          "base_uri": "https://localhost:8080/"
        },
        "id": "eMrjcfp5pHg_",
        "outputId": "b131b4a7-3fe9-4467-acd4-c7f2d9833502"
      },
      "execution_count": 62,
      "outputs": [
        {
          "output_type": "stream",
          "name": "stdout",
          "text": [
            "Sunil\n",
            "101\n"
          ]
        }
      ]
    },
    {
      "cell_type": "markdown",
      "source": [
        "### 21.  What is the significance of the __del__ method in Python?\n",
        "\n",
        "Answer:\n",
        "\n",
        "- The __del__() method is a special method in Python, often called a destructor. It's automatically called when an object is about to be destroyed—usually when its reference count drops to zero and the garbage collector decides to clean it up.\n",
        "      \n",
        "- It's mainly used for cleanup tasks, like closing files, releasing network\n",
        "connections, or deleting temporary resources. But it's important to note that the timing of __del__() is not guaranteed, so it's not ideal for critical cleanup. For those cases, Python recommends using context managers (with statements) instead.\n",
        "\n",
        "- Main Disadvantage of __del__ is unpredictability—you can't be sure when __del__() will run, especially in complex programs or with circular references.Also, if an exception occurs inside __del__(), Python will silently ignore it.\n",
        "\n",
        "\n",
        "\n",
        "\n"
      ],
      "metadata": {
        "id": "311sUxS1p1bF"
      }
    },
    {
      "cell_type": "code",
      "source": [
        "#example\n",
        "class TempFile:\n",
        "    def __init__(self, filename):\n",
        "        self.filename = filename\n",
        "        with open(self.filename, 'w') as f:\n",
        "            f.write(\"Temporary data\")\n",
        "\n",
        "    def __del__(self):\n",
        "        import os\n",
        "        print(f\"Deleting temporary file: {self.filename}\")\n",
        "        os.remove(self.filename)\n",
        "\n",
        "# Create and delete object\n",
        "temp = TempFile(\"temp.txt\")\n",
        "del temp"
      ],
      "metadata": {
        "colab": {
          "base_uri": "https://localhost:8080/"
        },
        "id": "VTYLnes2rg8o",
        "outputId": "191ed04a-2c6e-4203-f4a5-574fa6bd5dc1"
      },
      "execution_count": 63,
      "outputs": [
        {
          "output_type": "stream",
          "name": "stdout",
          "text": [
            "Deleting temporary file: temp.txt\n"
          ]
        }
      ]
    },
    {
      "cell_type": "markdown",
      "source": [
        "### 22. What is the difference between @staticmethod and @classmethod in Python?\n",
        "\n",
        "Answer:\n",
        "\n",
        "- Both are decorators used to define methods that belong to the class rather than the instance.\n",
        "\n",
        "  - @staticmethod defines a method that doesn't take self or cls as its first argument. It behaves like a regular function but lives inside the class for logical grouping.\n",
        "\n",
        "  - @classmethod takes cls as its first argument, giving access to the class itself. This is useful when you want to work with class-level data or create alternative constructors.\n",
        "\n",
        "1. @staticmethod Cannot access class or instance attributes and @classmethod Can access and modify class-level data.\n",
        "\n",
        "2. @staticmethod use in Utility/helper functions and @classmethod Factory methods or class-level operations.\n",
        "\n",
        "3. @staticmethod not bound  to class or instance and @classmethod bound to class.\n",
        "\n",
        "4. For example, you might use a @classmethod to create alternative constructors or manage shared state across instances, while @static methods are great for pure functions that logically belong to the class but dont need its data.\""
      ],
      "metadata": {
        "id": "9JMWj6c1sVgq"
      }
    },
    {
      "cell_type": "code",
      "source": [
        "#example\n",
        "class MathTools:\n",
        "    factor = 10\n",
        "\n",
        "    @staticmethod\n",
        "    def add(x, y):\n",
        "        return x + y\n",
        "\n",
        "    @classmethod\n",
        "    def multiply(cls, x):\n",
        "        return x * cls.factor\n",
        "\n",
        "\n",
        "print(MathTools.add(3, 4))\n",
        "print(MathTools.multiply(5))"
      ],
      "metadata": {
        "colab": {
          "base_uri": "https://localhost:8080/"
        },
        "id": "v2HfG8tewkbT",
        "outputId": "0dbd7c2f-b505-4b27-b1c9-9c39f9a42eda"
      },
      "execution_count": 64,
      "outputs": [
        {
          "output_type": "stream",
          "name": "stdout",
          "text": [
            "7\n",
            "50\n"
          ]
        }
      ]
    },
    {
      "cell_type": "markdown",
      "source": [
        "### 23. How does polymorphism work in Python with inheritance?\n",
        "\n",
        "Answer:-\n",
        "\n",
        "- Polymorphism allows different classes to define methods with the same name, and Python decides which method to call at runtime based on the object. When a child class overrides a method from its parent, we can treat all objects uniformly but still get class-specific behavior.\n",
        "\n",
        "- For example, if we have an Animal class with a speak() method, and subclasses like Dog and Cat override it, we can loop through a list of animals and call speak()—each object will respond differently based on its class."
      ],
      "metadata": {
        "id": "Y9tJSGBKxQuv"
      }
    },
    {
      "cell_type": "code",
      "source": [
        "# example\n",
        "class Animal:\n",
        "    def speak(self):\n",
        "        print(\"Animal sound\")\n",
        "\n",
        "class Dog(Animal):\n",
        "    def speak(self):\n",
        "        print(\"Dog barks\")\n",
        "\n",
        "class Cat(Animal):\n",
        "    def speak(self):\n",
        "        print(\"Cat meows\")\n",
        "\n",
        "\n",
        "animals = [Dog(), Cat(), Animal()]\n",
        "\n",
        "for a in animals:\n",
        "    a.speak()\n",
        "\n",
        "#same name,but differnt behaviour\n"
      ],
      "metadata": {
        "colab": {
          "base_uri": "https://localhost:8080/"
        },
        "id": "VCttGjqSyMSV",
        "outputId": "8c7f16d8-1695-46a7-dd04-cb0598e112f8"
      },
      "execution_count": 65,
      "outputs": [
        {
          "output_type": "stream",
          "name": "stdout",
          "text": [
            "Dog barks\n",
            "Cat meows\n",
            "Animal sound\n"
          ]
        }
      ]
    },
    {
      "cell_type": "markdown",
      "source": [
        "### 24. What is method chaining in Python OOP?\n",
        "\n",
        "Answer:\n",
        "\n",
        "- Method chaining lets us call multiple methods on the same object in one line. Each method returns the object itself, so the next method can be called right away. It's useful for writing clean, readable code—especially when performing a series of transformations or operations.\n",
        "\n",
        "- example, in a Calculator class, we can chain methods like add(), multiply(), and subtract() to perform calculations step by step without breaking the flow.\n"
      ],
      "metadata": {
        "id": "5Gop-OTTya6f"
      }
    },
    {
      "cell_type": "code",
      "source": [
        "# example\n",
        "class Calculator:\n",
        "    def __init__(self, value=0):\n",
        "        self.value = value\n",
        "\n",
        "    def add(self, num):\n",
        "        self.value += num\n",
        "        return self  # Enables chaining\n",
        "\n",
        "    def multiply(self, num):\n",
        "        self.value *= num\n",
        "        return self\n",
        "\n",
        "    def subtract(self, num):\n",
        "        self.value -= num\n",
        "        return self\n",
        "\n",
        "    def result(self):\n",
        "        return self.value\n",
        "\n",
        "# Method chaining in action\n",
        "calc = Calculator()\n",
        "output = calc.add(10).multiply(2).subtract(5).result()\n",
        "print(output)"
      ],
      "metadata": {
        "colab": {
          "base_uri": "https://localhost:8080/"
        },
        "id": "AlMsGTXUzFYf",
        "outputId": "c95fe5e0-c176-4000-e9af-7bada8d07b8f"
      },
      "execution_count": 66,
      "outputs": [
        {
          "output_type": "stream",
          "name": "stdout",
          "text": [
            "15\n"
          ]
        }
      ]
    },
    {
      "cell_type": "markdown",
      "source": [
        "### 25. What is the purpose of the __call__ method in Python?\n",
        "\n",
        "Answer:\n",
        "\n",
        "- The __call__() method is a special method that lets an object behave like a function. When it's defined in a class, you can call an instance of that class using parentheses, just like you'd call a regular function.\n",
        "\n",
        "- This is useful when you want to create stateful function-like objects, or when designing flexible APIs. For example, in machine learning, you might use it to wrap a model so that calling the object runs inference.\n",
        "\n",
        "- __call__() makes the object more intuitive and flexible—especially when you want it to behave like a function. Its also useful in design patterns like decorators or strategy objects, where you want to encapsulate behavior and call it directly.\n",
        "\n"
      ],
      "metadata": {
        "id": "iwpEZlxVzdk7"
      }
    },
    {
      "cell_type": "code",
      "source": [
        "class Counter:\n",
        "    def __init__(self):\n",
        "        self.count = 0\n",
        "\n",
        "    def __call__(self):\n",
        "        self.count += 1\n",
        "        return self.count\n",
        "\n",
        "c = Counter()\n",
        "print(c())\n",
        "print(c())\n",
        "print(c())"
      ],
      "metadata": {
        "colab": {
          "base_uri": "https://localhost:8080/"
        },
        "id": "030PQFGs0esv",
        "outputId": "2e8b2372-17e8-47f6-90b0-1f0c4034ddfc"
      },
      "execution_count": 67,
      "outputs": [
        {
          "output_type": "stream",
          "name": "stdout",
          "text": [
            "1\n",
            "2\n",
            "3\n"
          ]
        }
      ]
    },
    {
      "cell_type": "markdown",
      "source": [
        "# Practical Questions"
      ],
      "metadata": {
        "id": "Nohn8YDb2bms"
      }
    },
    {
      "cell_type": "markdown",
      "source": [
        "### 1. Create a parent class Animal with a method speak() that prints a generic  message. Create a child class Dog. that overrides the speak() method to print \"Bark!\""
      ],
      "metadata": {
        "id": "9Q_rSZt02imX"
      }
    },
    {
      "cell_type": "code",
      "source": [
        "# Parent class\n",
        "class Animal:\n",
        "    def speak(self):\n",
        "        print(\"The animal makes a sound.\")\n",
        "\n",
        "# Child class\n",
        "class Dog(Animal):\n",
        "    def speak(self):\n",
        "        print(\"Bark!\")\n",
        "\n",
        "\n",
        "a = Animal()\n",
        "a.speak()\n",
        "d = Dog()\n",
        "d.speak()"
      ],
      "metadata": {
        "colab": {
          "base_uri": "https://localhost:8080/"
        },
        "id": "EjsNNdHS21Z_",
        "outputId": "ca16b403-f6d9-49ce-9928-67102472eb7c"
      },
      "execution_count": 68,
      "outputs": [
        {
          "output_type": "stream",
          "name": "stdout",
          "text": [
            "The animal makes a sound.\n",
            "Bark!\n"
          ]
        }
      ]
    },
    {
      "cell_type": "markdown",
      "source": [
        "### 2. Write a program to create an abstract class Shape with a method area(). Derive classes Circle and Rectangle from it and implement the area() method in both"
      ],
      "metadata": {
        "id": "O-YLgrEA3Dni"
      }
    },
    {
      "cell_type": "code",
      "source": [
        "from abc import ABC, abstractmethod\n",
        "\n",
        "\n",
        "# Abstract base class\n",
        "class Shape(ABC):\n",
        "    @abstractmethod\n",
        "    def area(self):\n",
        "        pass\n",
        "\n",
        "# Circle class\n",
        "class Circle(Shape):\n",
        "    def __init__(self, radius):\n",
        "        self.radius = radius\n",
        "\n",
        "    def area(self):\n",
        "        return 3.14 * self.radius ** 2\n",
        "\n",
        "# Rectangle class\n",
        "class Rectangle(Shape):\n",
        "    def __init__(self, length, width):\n",
        "        self.length = length\n",
        "        self.width = width\n",
        "\n",
        "    def area(self):\n",
        "        return self.length * self.width\n",
        "\n",
        "\n",
        "c = Circle(5)\n",
        "r = Rectangle(7, 6)\n",
        "\n",
        "print(f\"Circle area: {c.area():.2f}\")\n",
        "print(f\"Rectangle area: {r.area()}\")"
      ],
      "metadata": {
        "colab": {
          "base_uri": "https://localhost:8080/"
        },
        "id": "F3efcDDT3Gqk",
        "outputId": "f058a4f4-b5ab-4464-947e-b554ba602ec3"
      },
      "execution_count": 69,
      "outputs": [
        {
          "output_type": "stream",
          "name": "stdout",
          "text": [
            "Circle area: 78.50\n",
            "Rectangle area: 42\n"
          ]
        }
      ]
    },
    {
      "cell_type": "markdown",
      "source": [
        "### 3.  Implement a multi-level inheritance scenario where a class Vehicle has an attribute type. Derive a class Car and further derive a class ElectricCar that adds a battery attribute"
      ],
      "metadata": {
        "id": "WKvQQ4oE3hjQ"
      }
    },
    {
      "cell_type": "code",
      "source": [
        "# Base class\n",
        "class Vehicle:\n",
        "    def __init__(self, vehicle_type):\n",
        "        self.type = vehicle_type\n",
        "\n",
        "# First-level derived class\n",
        "class Car(Vehicle):\n",
        "    def __init__(self, vehicle_type, brand):\n",
        "        Vehicle.__init__(self,vehicle_type)\n",
        "        self.brand = brand\n",
        "\n",
        "# Second-level derived class\n",
        "class ElectricCar(Car):\n",
        "    def __init__(self, vehicle_type, brand, battery):\n",
        "        super().__init__(vehicle_type, brand)\n",
        "        self.battery = battery\n",
        "\n",
        "    def display_info(self):\n",
        "        print(f\"Type: {self.type}\")\n",
        "        print(f\"Brand: {self.brand}\")\n",
        "        print(f\"Battery: {self.battery} kWh\")\n",
        "\n",
        "\n",
        "ecar = ElectricCar(\"Four Wheeler\", \"hundayi\", 75)\n",
        "ecar.display_info()"
      ],
      "metadata": {
        "colab": {
          "base_uri": "https://localhost:8080/"
        },
        "id": "qbl0kY8t2wUB",
        "outputId": "3ddd2553-2bd6-4eaa-c3ee-ec891f8b7381"
      },
      "execution_count": 70,
      "outputs": [
        {
          "output_type": "stream",
          "name": "stdout",
          "text": [
            "Type: Four Wheeler\n",
            "Brand: hundayi\n",
            "Battery: 75 kWh\n"
          ]
        }
      ]
    },
    {
      "cell_type": "markdown",
      "source": [
        "### 4.  Demonstrate polymorphism by creating a base class Bird with a method fly(). Create two derived classes Sparrow and Penguin that override the fly() method."
      ],
      "metadata": {
        "id": "sB9vH2Yp4W8Y"
      }
    },
    {
      "cell_type": "code",
      "source": [
        "# Base class\n",
        "class Bird:\n",
        "    def fly(self):\n",
        "        print(\"Bird is flying...\")\n",
        "\n",
        "# Derived class 1\n",
        "class Sparrow(Bird):\n",
        "    def fly(self):\n",
        "        print(\"Sparrow flies high and fast!\")\n",
        "\n",
        "# Derived class 2\n",
        "class Penguin(Bird):\n",
        "    def fly(self):\n",
        "        print(\"Penguins can't fly, but they swim well!\")\n",
        "\n",
        "# polymorphism behaviour\n",
        "birds = [Sparrow(), Penguin(), Bird()]\n",
        "\n",
        "for bird in birds:\n",
        "    bird.fly()"
      ],
      "metadata": {
        "colab": {
          "base_uri": "https://localhost:8080/"
        },
        "id": "0Z8bIOIP4gf-",
        "outputId": "60667960-85ba-473c-964f-4dba7d3bc2ac"
      },
      "execution_count": 71,
      "outputs": [
        {
          "output_type": "stream",
          "name": "stdout",
          "text": [
            "Sparrow flies high and fast!\n",
            "Penguins can't fly, but they swim well!\n",
            "Bird is flying...\n"
          ]
        }
      ]
    },
    {
      "cell_type": "markdown",
      "source": [
        "### 5.  Write a program to demonstrate encapsulation by creating a class BankAccount with private attributes balance and methods to deposit, withdraw, and check balance"
      ],
      "metadata": {
        "id": "UuXT4nRx4XTL"
      }
    },
    {
      "cell_type": "code",
      "source": [
        "class BankAccount:\n",
        "    def __init__(self, initial_balance=0):\n",
        "        self.__balance = initial_balance  # Private variable\n",
        "\n",
        "    def deposit(self, amount):\n",
        "        if amount > 0:\n",
        "            self.__balance += amount\n",
        "            print(f\"Deposited {amount}\")\n",
        "        else:\n",
        "            print(\"Deposit amount must be positive.\")\n",
        "\n",
        "    def withdraw(self, amount):\n",
        "        if amount > self.__balance:\n",
        "            print(\"Insufficient balance.\")\n",
        "        elif amount <= 0:\n",
        "            print(\"Withdrawal amount must be positive.\")\n",
        "        else:\n",
        "            self.__balance -= amount\n",
        "            print(f\"Withdrew {amount}\")\n",
        "\n",
        "    def check_balance(self):\n",
        "        print(f\"Current balance: {self.__balance}\")\n",
        "\n",
        "account = BankAccount(1000)\n",
        "account.check_balance()\n",
        "account.deposit(500)\n",
        "account.withdraw(2000)\n",
        "account.withdraw(300)\n",
        "account.check_balance()"
      ],
      "metadata": {
        "colab": {
          "base_uri": "https://localhost:8080/"
        },
        "id": "XPHZDd404-lL",
        "outputId": "0bd361d2-6bcf-4c32-e6a9-87b9be13e5af"
      },
      "execution_count": 72,
      "outputs": [
        {
          "output_type": "stream",
          "name": "stdout",
          "text": [
            "Current balance: 1000\n",
            "Deposited 500\n",
            "Insufficient balance.\n",
            "Withdrew 300\n",
            "Current balance: 1200\n"
          ]
        }
      ]
    },
    {
      "cell_type": "markdown",
      "source": [
        "### 6. Demonstrate runtime polymorphism using a method play() in a base class Instrument. Derive classes Guitar and Piano that implement their own version of play()\n"
      ],
      "metadata": {
        "id": "IOQa3NTm4YAa"
      }
    },
    {
      "cell_type": "code",
      "source": [
        "\n",
        "class Instrument:\n",
        "    def play(self):\n",
        "        print(\"Playing an instrument...\")\n",
        "\n",
        "\n",
        "class Guitar(Instrument):\n",
        "    def play(self):\n",
        "        print(\"Strumming the guitar 🎸\")\n",
        "\n",
        "class Piano(Instrument):\n",
        "    def play(self):\n",
        "        print(\"Playing the piano 🎹\")\n",
        "\n",
        "# runtime polymorphism\n",
        "instruments = [Guitar(), Piano(), Instrument()]\n",
        "\n",
        "for inst in instruments:\n",
        "    inst.play()"
      ],
      "metadata": {
        "id": "Gu9Wa-6u2glj",
        "colab": {
          "base_uri": "https://localhost:8080/"
        },
        "outputId": "a46c57fa-3bfc-4762-8659-c65c57812d34"
      },
      "execution_count": 73,
      "outputs": [
        {
          "output_type": "stream",
          "name": "stdout",
          "text": [
            "Strumming the guitar 🎸\n",
            "Playing the piano 🎹\n",
            "Playing an instrument...\n"
          ]
        }
      ]
    },
    {
      "cell_type": "markdown",
      "source": [
        "### 7. Create a class MathOperations with a class method add_numbers() to add two numbers and a static method subtract_numbers() to subtract two numbers."
      ],
      "metadata": {
        "id": "ca0hyoT36WHj"
      }
    },
    {
      "cell_type": "code",
      "source": [
        "class MathOperations:\n",
        "    @classmethod\n",
        "    def add_numbers(cls, a, b):\n",
        "        return a + b\n",
        "\n",
        "    @staticmethod\n",
        "    def subtract_numbers(a, b):\n",
        "        return a - b\n",
        "# Test the methods\n",
        "print(\"Addition:\", MathOperations.add_numbers(10, 5))\n",
        "print(\"Subtraction:\", MathOperations.subtract_numbers(10, 5))"
      ],
      "metadata": {
        "colab": {
          "base_uri": "https://localhost:8080/"
        },
        "id": "lIMY5Ytl6gaV",
        "outputId": "f6ec596a-ee58-4543-cf7a-7170ee3360a3"
      },
      "execution_count": 74,
      "outputs": [
        {
          "output_type": "stream",
          "name": "stdout",
          "text": [
            "Addition: 15\n",
            "Subtraction: 5\n"
          ]
        }
      ]
    },
    {
      "cell_type": "markdown",
      "source": [
        "### 8.  Implement a class Person with a class method to count the total number of persons created."
      ],
      "metadata": {
        "id": "bn-UPJt164DL"
      }
    },
    {
      "cell_type": "code",
      "source": [
        "class Person:\n",
        "    count = 0  # Class variable to track number of persons\n",
        "\n",
        "    def __init__(self, name):\n",
        "        self.name = name\n",
        "        Person.count += 1\n",
        "\n",
        "    @classmethod\n",
        "    def total_persons(cls):\n",
        "        return cls.count\n",
        "\n",
        "\n",
        "p1 = Person(\"Sunil\")\n",
        "p2 = Person(\"Amit\")\n",
        "p3 = Person(\"Neha\")\n",
        "\n",
        "\n",
        "print(\"Total persons created:\", Person.total_persons())"
      ],
      "metadata": {
        "colab": {
          "base_uri": "https://localhost:8080/"
        },
        "id": "Q6ba9n1l69v7",
        "outputId": "07d49378-9951-4f44-ec46-22b6d7acafc5"
      },
      "execution_count": 75,
      "outputs": [
        {
          "output_type": "stream",
          "name": "stdout",
          "text": [
            "Total persons created: 3\n"
          ]
        }
      ]
    },
    {
      "cell_type": "markdown",
      "source": [
        "### 9.  Write a class Fraction with attributes numerator and denominator. Override the str method to display the fraction as \"numerator/denominator"
      ],
      "metadata": {
        "id": "SuM46ENr7ToY"
      }
    },
    {
      "cell_type": "code",
      "source": [
        "class Fraction:\n",
        "    def __init__(self, numerator, denominator):\n",
        "        self.numerator = numerator\n",
        "        self.denominator = denominator\n",
        "\n",
        "    def __str__(self):\n",
        "        return f\"{self.numerator}/{self.denominator}\"\n",
        "\n",
        "f1 = Fraction(7, 4)\n",
        "f2 = Fraction(3, 2)\n",
        "\n",
        "print(f1)\n",
        "print(f2)"
      ],
      "metadata": {
        "colab": {
          "base_uri": "https://localhost:8080/"
        },
        "id": "Iq1M3c3d7fD1",
        "outputId": "1cd51194-c05d-485c-e2ce-9e2e4ce8f898"
      },
      "execution_count": 76,
      "outputs": [
        {
          "output_type": "stream",
          "name": "stdout",
          "text": [
            "7/4\n",
            "3/2\n"
          ]
        }
      ]
    },
    {
      "cell_type": "markdown",
      "source": [
        "### 10. Demonstrate operator overloading by creating a class Vector and overriding the add method to add two vectors."
      ],
      "metadata": {
        "id": "n-dq6yjR8GhI"
      }
    },
    {
      "cell_type": "code",
      "source": [
        "class Vector:\n",
        "    def __init__(self, x, y):\n",
        "        self.x = x\n",
        "        self.y = y\n",
        "\n",
        "    def __add__(self, other):\n",
        "        return Vector(self.x + other.x, self.y + other.y)\n",
        "\n",
        "    def __str__(self):\n",
        "        return f\"({self.x}, {self.y})\"\n",
        "\n",
        "\n",
        "v1 = Vector(2, 3)\n",
        "v2 = Vector(4, 5)\n",
        "\n",
        "\n",
        "v3 = v1 + v2\n",
        "\n",
        "print(v3)"
      ],
      "metadata": {
        "colab": {
          "base_uri": "https://localhost:8080/"
        },
        "id": "_NU6Somn8pUs",
        "outputId": "cfb42400-e652-4853-f057-28620b6777f5"
      },
      "execution_count": 77,
      "outputs": [
        {
          "output_type": "stream",
          "name": "stdout",
          "text": [
            "(6, 8)\n"
          ]
        }
      ]
    },
    {
      "cell_type": "markdown",
      "source": [
        "### 11. Create a class Person with attributes name and age. Add a method greet() that prints \"Hello, my name is {name} and I am {age} years old."
      ],
      "metadata": {
        "id": "ZSkRNt0BJe9n"
      }
    },
    {
      "cell_type": "code",
      "source": [
        "class Person:\n",
        "    def __init__(self, name, age):\n",
        "        self.name = name\n",
        "        self.age = age\n",
        "\n",
        "    def greet(self):\n",
        "        print(f\"Hello, my name is {self.name} and I am {self.age} years old\")\n"
      ],
      "metadata": {
        "id": "xNNJ6NRBJkQs"
      },
      "execution_count": 78,
      "outputs": []
    },
    {
      "cell_type": "markdown",
      "source": [
        "### 12. Implement a class Student with attributes name and grades. Create a method average_grade() to compute the average of the grades."
      ],
      "metadata": {
        "id": "tgH11M-GKARj"
      }
    },
    {
      "cell_type": "code",
      "source": [
        "class Student:\n",
        "    def __init__(self, name, grades):\n",
        "        self.name = name  # Name of the student\n",
        "        self.grades = grades  # List of grades\n",
        "\n",
        "    def average_grade(self):\n",
        "        # Calculate the average of grades\n",
        "        if len(self.grades) == 0:\n",
        "            return 0  # Avoid division by zero if no grades are provided\n",
        "        return sum(self.grades) / len(self.grades)\n",
        "\n",
        "\n",
        "student = Student(\"Sunil\", [85, 90, 78, 92])\n",
        "print(f\"{student.name}'s average grade is: {student.average_grade():.2f}\")\n"
      ],
      "metadata": {
        "colab": {
          "base_uri": "https://localhost:8080/"
        },
        "id": "zVaHVgniKLcR",
        "outputId": "b168f6b3-eb57-4e88-d9d2-dc902e23b597"
      },
      "execution_count": 79,
      "outputs": [
        {
          "output_type": "stream",
          "name": "stdout",
          "text": [
            "Sunil's average grade is: 86.25\n"
          ]
        }
      ]
    },
    {
      "cell_type": "markdown",
      "source": [
        "### 13. Create a class Rectangle with methods set_dimensions() to set the dimensions and area() to calculate the area."
      ],
      "metadata": {
        "id": "KM9E_EjgLYTT"
      }
    },
    {
      "cell_type": "code",
      "source": [
        "class Rectangle:\n",
        "    def __init__(self):\n",
        "        self.length = 0\n",
        "        self.width = 0\n",
        "\n",
        "    def set_dimensions(self, length, width):\n",
        "        # Set the dimensions of the rectangle\n",
        "        self.length = length\n",
        "        self.width = width\n",
        "\n",
        "    def area(self):\n",
        "        # Calculate and return the area of the rectangle\n",
        "        return self.length * self.width\n",
        "\n",
        "\n",
        "rect = Rectangle()\n",
        "rect.set_dimensions(10,15)\n",
        "print(f\"Area of the rectangle: {rect.area()} square units\")\n"
      ],
      "metadata": {
        "colab": {
          "base_uri": "https://localhost:8080/"
        },
        "id": "T-OkTEmwLN-Z",
        "outputId": "16863cd7-9091-4025-f429-4003fed699b2"
      },
      "execution_count": 80,
      "outputs": [
        {
          "output_type": "stream",
          "name": "stdout",
          "text": [
            "Area of the rectangle: 150 square units\n"
          ]
        }
      ]
    },
    {
      "cell_type": "markdown",
      "source": [
        "### 14. Create a class Employee with a method calculate_salary() that computes the salary based on hours worked and hourly rate. Create a derived class Manager that adds a bonus to the salary."
      ],
      "metadata": {
        "id": "YHcyx7QkLjYB"
      }
    },
    {
      "cell_type": "code",
      "source": [
        "class Employee:\n",
        "    def __init__(self, name, hours_worked, hourly_rate):\n",
        "        self.name = name  # Employee's name\n",
        "        self.hours_worked = hours_worked  # Number of hours worked\n",
        "        self.hourly_rate = hourly_rate  # Hourly rate\n",
        "\n",
        "    def calculate_salary(self):\n",
        "        # Calculate the salary based on hours worked and hourly rate\n",
        "        return self.hours_worked * self.hourly_rate\n",
        "\n",
        "# Derived class Manager\n",
        "class Manager(Employee):\n",
        "    def __init__(self, name, hours_worked, hourly_rate, bonus):\n",
        "        super().__init__(name, hours_worked, hourly_rate)  # Initialize the parent class\n",
        "        self.bonus = bonus  # Bonus for the manager\n",
        "\n",
        "    def calculate_salary(self):\n",
        "        # Calculate the salary including bonus for the manager\n",
        "        base_salary = super().calculate_salary()  # Get the base salary from the Employee class\n",
        "        return base_salary + self.bonus\n",
        "\n",
        "\n",
        "employee = Employee(\"Sunil\", 160, 25)\n",
        "print(f\"Employee's salary: {employee.calculate_salary()}\")\n",
        "\n",
        "manager = Manager(\"Anil\", 160, 30, 0)\n",
        "print(f\"Manager's salary: {manager.calculate_salary()}\")\n"
      ],
      "metadata": {
        "colab": {
          "base_uri": "https://localhost:8080/"
        },
        "id": "9ikGYBT2LnXK",
        "outputId": "bae4f96a-c962-4c89-ee58-de6e0d3e98c0"
      },
      "execution_count": 81,
      "outputs": [
        {
          "output_type": "stream",
          "name": "stdout",
          "text": [
            "Employee's salary: 4000\n",
            "Manager's salary: 4800\n"
          ]
        }
      ]
    },
    {
      "cell_type": "markdown",
      "source": [
        "### 15. Create a class Product with attributes name, price, and quantity. Implement a method total_price() that calculates the total price of the product."
      ],
      "metadata": {
        "id": "a55wfdgpMkLH"
      }
    },
    {
      "cell_type": "code",
      "source": [
        "class Product:\n",
        "    def __init__(self, name, price, quantity):\n",
        "        self.name = name\n",
        "        self.price = price\n",
        "        self.quantity = quantity\n",
        "    def total_price(self):\n",
        "        return self.price * self.quantity\n",
        "\n",
        "\n",
        "product = Product(\"Laptop\", 1000, 3)\n",
        "print(f\"Total price for {product.quantity} {product.name}(s): {product.total_price()}\")\n"
      ],
      "metadata": {
        "colab": {
          "base_uri": "https://localhost:8080/"
        },
        "id": "yr_XsjEyMoI_",
        "outputId": "15406aa3-ad09-49e3-f417-f78d78c136d0"
      },
      "execution_count": 82,
      "outputs": [
        {
          "output_type": "stream",
          "name": "stdout",
          "text": [
            "Total price for 3 Laptop(s): 3000\n"
          ]
        }
      ]
    },
    {
      "cell_type": "markdown",
      "source": [
        "### 16. Create a class Animal with an abstract method sound(). Create two derived classes Cow and Sheep that implement the sound() method."
      ],
      "metadata": {
        "id": "RgyHqJJQNM1c"
      }
    },
    {
      "cell_type": "code",
      "source": [
        "from abc import ABC, abstractmethod\n",
        "\n",
        "# Abstract base class Animal\n",
        "class Animal(ABC):\n",
        "    @abstractmethod\n",
        "    def sound(self):\n",
        "        pass\n",
        "\n",
        "# Derived class Cow\n",
        "class Cow(Animal):\n",
        "    def sound(self):\n",
        "        return \"Moo\"\n",
        "\n",
        "# Derived class Sheep\n",
        "class Sheep(Animal):\n",
        "    def sound(self):\n",
        "        return \"Baa\"\n",
        "\n",
        "cow = Cow()\n",
        "sheep = Sheep()\n",
        "\n",
        "f\"Cow sound: {cow.sound()} and Sheep sound: {sheep.sound()}\"\n"
      ],
      "metadata": {
        "colab": {
          "base_uri": "https://localhost:8080/",
          "height": 36
        },
        "id": "CHHhZwATNS0d",
        "outputId": "ad234bf5-e49d-45d5-c3dd-09bd01ac69c3"
      },
      "execution_count": 83,
      "outputs": [
        {
          "output_type": "execute_result",
          "data": {
            "text/plain": [
              "'Cow sound: Moo and Sheep sound: Baa'"
            ],
            "application/vnd.google.colaboratory.intrinsic+json": {
              "type": "string"
            }
          },
          "metadata": {},
          "execution_count": 83
        }
      ]
    },
    {
      "cell_type": "markdown",
      "source": [
        "### 17. Create a class Book with attributes title, author, and year_published. Add a method get_book_info() that returns a formatted string with the book's details."
      ],
      "metadata": {
        "id": "6kd42ganNrdP"
      }
    },
    {
      "cell_type": "code",
      "source": [
        "class Book:\n",
        "    def __init__(self, title, author, year_published):\n",
        "        self.title = title\n",
        "        self.author = author\n",
        "        self.year_published = year_published\n",
        "    def get_book_info(self):\n",
        "\n",
        "        return f\"Title: {self.title}\\nAuthor: {self.author}\\nYear Published: {self.year_published}\"\n",
        "\n",
        "\n",
        "book = Book(\"Chava\", \"shivaji sawant\", 2007)\n",
        "print(book.get_book_info())\n"
      ],
      "metadata": {
        "colab": {
          "base_uri": "https://localhost:8080/"
        },
        "id": "eaQzGwtRNt8T",
        "outputId": "05945c0d-5c34-4ee9-e1c9-a128ad6efa9d"
      },
      "execution_count": 84,
      "outputs": [
        {
          "output_type": "stream",
          "name": "stdout",
          "text": [
            "Title: Chava\n",
            "Author: shivaji sawant\n",
            "Year Published: 2007\n"
          ]
        }
      ]
    },
    {
      "cell_type": "markdown",
      "source": [
        "### 18. Create a class House with attributes address and price. Create a derived class Mansion that adds an attribute number_of_rooms."
      ],
      "metadata": {
        "id": "3MbyDzGbJRUI"
      }
    },
    {
      "cell_type": "code",
      "source": [
        "class House:\n",
        "    def __init__(self, address, price):\n",
        "        self.address = address\n",
        "        self.price = price\n",
        "\n",
        "    def get_details(self):\n",
        "        return f\"Address: {self.address}\\nPrice: {self.price}\"\n",
        "\n",
        "# Derived class Mansion\n",
        "class Mansion(House):\n",
        "    def __init__(self, address, price, number_of_rooms):\n",
        "        House.__init__(self,address, price)\n",
        "        self.number_of_rooms = number_of_rooms\n",
        "\n",
        "    def get_details(self):\n",
        "        # Return a string with the mansion details\n",
        "        house_details = House.get_details(self)\n",
        "        return f\"{house_details}\\nNumber of Rooms: {self.number_of_rooms}\"\n",
        "\n",
        "# Example usage:\n",
        "house = House(\"AAA\", 300)\n",
        "print(\"House Details:\")\n",
        "print(house.get_details())\n",
        "\n",
        "print(\"\\nMansion Details:\")\n",
        "mansion = Mansion(\"BBB\", 1000, 17)\n",
        "print(mansion.get_details())\n"
      ],
      "metadata": {
        "colab": {
          "base_uri": "https://localhost:8080/"
        },
        "id": "r90DmaqjPIm8",
        "outputId": "f68df47b-7930-4183-d5b2-f4105733922f"
      },
      "execution_count": 85,
      "outputs": [
        {
          "output_type": "stream",
          "name": "stdout",
          "text": [
            "House Details:\n",
            "Address: AAA\n",
            "Price: 300\n",
            "\n",
            "Mansion Details:\n",
            "Address: BBB\n",
            "Price: 1000\n",
            "Number of Rooms: 17\n"
          ]
        }
      ]
    }
  ]
}