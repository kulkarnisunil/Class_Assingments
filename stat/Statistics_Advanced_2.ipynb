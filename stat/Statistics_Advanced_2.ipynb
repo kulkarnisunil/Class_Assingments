{
  "nbformat": 4,
  "nbformat_minor": 0,
  "metadata": {
    "colab": {
      "provenance": []
    },
    "kernelspec": {
      "name": "python3",
      "display_name": "Python 3"
    },
    "language_info": {
      "name": "python"
    }
  },
  "cells": [
    {
      "cell_type": "code",
      "execution_count": 56,
      "metadata": {
        "id": "1OLUqC99vZbs"
      },
      "outputs": [],
      "source": []
    },
    {
      "cell_type": "markdown",
      "source": [
        "### Question 1: What is hypothesis testing in statistics?\n",
        "\n",
        "Answer :\n",
        "\n",
        "1.  Its claim/statement, about the population parameter that can be tested using statistical methods.\n",
        "\n",
        "2. Hypothesis testing is a statistical method used to make decisions about a population based on sample data.\n",
        "\n",
        "3. here we use two competing statements:\n",
        "  \n",
        "  - null hypothesis[H_0] :  null hypothesis is a simple statement that assumes there is no effect, difference, or relationship in the data.It is the starting point in statistics and says that any observed change is due to chance, not a real cause.tested to see if there is enough evidence to reject it.\n",
        "  - alternative hypothesis[H_1] :  Alternative hypothesis is a statement that claims there is a real effect, difference, or relationship in the data.It is the opposite of the null hypothesis and is what the researcher aims to prove or support with evidence.\n",
        "\n",
        "4. The goal is to use data to determine if there is enough evidence to reject the null hypothesis in favor of the alternative.\n",
        "\n",
        "5. This helps data scientists and machine learning practitioners validate assumptions, compare models, or test the impact of changes with measurable confidence, instead of relying on guesswork.\n",
        "\n",
        "6. testing if a new algorithm improves performance means setting a null hypothesis that it doesn't improve and then using sample results to accept or reject that claim with a certain level of statistical confidence (like 95%).\n",
        "\n",
        "7. Example :  Testing a new medicine\n",
        "    \n",
        "       -  Null hypothesis [H_0] : The new medicine has no effect on reducing disease.\n",
        "       -  Alternative hypothesis [H_1] : The new medicine does reduce the disease."
      ],
      "metadata": {
        "id": "_-OWein8vcDb"
      }
    },
    {
      "cell_type": "markdown",
      "source": [
        "### Question 2: What is the null hypothesis, and how does it differ from the alternative hypothesis?\n",
        "\n",
        "Answer :\n",
        "\n",
        "**Null Hypothesis [H_0]:**\n",
        "\n",
        "1.  null hypothesis states that there is no effect, difference, or relationship in the population.\n",
        "2. It is the default or starting assumption in hypothesis testing.  \n",
        "3. The null hypothesis assumes observed changes or differences are due to random chance.\n",
        "4. It is tested using sample data and statistical methods to see if it can be rejected.\n",
        "5. Failing to reject H_0 means there is not enough evidence to support the alternative, but does not prove H_0 true.\n",
        "\n",
        "**Alternative hypothesis [H_1]:**\n",
        "\n",
        "1. Alternative Hypothesis claims there is a real effect, difference, or relationship.\n",
        "2. The goal is to determine if there is enough evidence to reject the null hypothesis in favor of the alternative.\n",
        "3. Rejecting H_0 supports the conclusion that the alternative hypothesis may be true.\n",
        "\n",
        "- The null hypothesis is often denoted as an equality (e.g., mean1 = mean2), while the alternative is an inequality (e.g., mean1 ≠ mean2).\n",
        "\n",
        "**Example :**\n",
        "\n",
        "1. Medical trial for a new drug\n",
        "      - Null hypothesis [H_0] :  The new drug has no effect on reducing blood pressure.       \n",
        "      - Alternative hypothesis [H_1] : The new drug reduces blood pressure.\n",
        "\n",
        "2. Student exam scores\n",
        "      - Null Hypothesis [H_0]  : There is no difference in exam scores between students taught by Method A and Method B.\n",
        "      - Alternative Hypothesis [H_1]  : There is a difference in exam scores between the two teaching methods.\n",
        "\n",
        "2.  Hyperparameter tuning\n",
        "    - Null hypothesis [H_0] : Changing the learning rate does not affect the models training performance.\n",
        "    - Alternative hypotheis [H_1] : Changing the learning rate affects the model's training performance.\n",
        "\n",
        "3. Feature impact on prediction\n",
        "    - Null hypothesis [H_0] : The new feature does not significantly affect the model's prediction accuracy.\n",
        "    - Alternative Hypothesis [H_1] : The new feature significantly improves the model's prediction accuracy."
      ],
      "metadata": {
        "id": "MhpnQxp3vi4L"
      }
    },
    {
      "cell_type": "markdown",
      "source": [
        "### Question 3: Explain the significance level in hypothesis testing and its role in deciding the outcome of a test.\n",
        "\n",
        "Answer :\n",
        "\n",
        "The significance level α determines how strong the evidence must be before concluding an effect exists, directly influencing the outcome of a hypothesis test.\n",
        "\n",
        "* The significance level, denoted by α, is the maximum probability of making a Type I error — that is, rejecting the null hypothesis when it is actually true.\n",
        "\n",
        "* Commonly set to 0.05 (or 5%), it means you're willing to accept a 5% risk of a false positive [means rejecting the null hypothesis when it is actually true/type 1 error].\n",
        "\n",
        "* When the p-value (the probability of observing the data assuming the null is true) is less than or equal to α, the null hypothesis is rejected.\n",
        "\n",
        "* This rejection implies that the observed effect is statistically significant and unlikely to have occurred by chance alone.\n",
        "\n",
        "* If the p-value is greater than α, the null hypothesis is not rejected, meaning the data does not provide strong enough evidence for the alternative.\n",
        "\n",
        "* Lower significance levels (e.g., 0.01) require stronger evidence to reject the null, reducing false positives but increasing the risk of missing real effects.\n"
      ],
      "metadata": {
        "id": "Qt9Tk5l5vqPa"
      }
    },
    {
      "cell_type": "markdown",
      "source": [
        "### Question 4: What are Type I and Type II errors? Give examples of each.\n",
        "\n",
        "Answer :  \n",
        "\n",
        "**Type I error (false positive):** Rejecting a true null hypothesis. It means you think there is an effect or difference when there isn't one.\n",
        "\n",
        "Example :\n",
        "\n",
        "1. A spam detection model labels a legitimate email as spam. The model wrongly rejects the null (email is not spam) and predicts spam.\n",
        "2. A fraud detection system flags a legitimate transaction as fraudulent.\n",
        "3. Declaring a patient dead when they are alive.\n",
        "4.  Convicting an innocent person in a criminal trial (rejecting the null of innocence). This results in an unjust punishment.\n",
        "5.  Rejecting a good product as defective, causing waste and financial loss.\n",
        "\n",
        "**Type II error (false negative):** Failing to reject a false null hypothesis. It means you think there is no effect or difference when there actually is one.\n",
        "\n",
        "Example :            \n",
        "\n",
        "1. A spam detection model labels a spam email as legitimate. The model fails to reject the null and misses identifying spam.\n",
        "2. A fraud detection system fails to detect a fraudulent transaction.\n",
        "3. In medical imaging, a model misses detecting a cancerous tumor, classifying it as healthy.\n",
        "4.  Acquitting a guilty person, allowing a criminal to go free.\n",
        "5.  Accepting a defective product as good, which may harm users or damage a brands reputation.\n",
        "\n",
        "* In hypothesis testing, minimizing these errors is important, but both cannot be eliminated completely. The significance level (alpha) controls the Type I error rate, while the power of the test (1 minus Type II error rate) relates to Type II error."
      ],
      "metadata": {
        "id": "7I-LH0GxvwB-"
      }
    },
    {
      "cell_type": "markdown",
      "source": [
        "### Question 5: What is the difference between a Z-test and a T-test? Explain when to use each.\n",
        "\n",
        "Answer :\n",
        "\n",
        "**Z test :**\n",
        "For large samples where population standard deviation is known, and you want to test if sample mean significantly differs from population mean.\n",
        "\n",
        "1. Used when the sample size is large (typically n > 30).\n",
        "2. Assumes the population variance (or standard deviation) is known.\n",
        "3. Based on the standard normal distribution (Z-distribution).\n",
        "4. Critical values depend only on the chosen significance level (α).\n",
        "5. Appropriate when data follows a normal distribution and population variance is known.\n",
        "\n",
        "**T test :**\n",
        "\n",
        "For small samples or when population standard deviation is unknown. It's also suitable for comparing means of two independent samples.\n",
        "\n",
        "1. Used when the sample size is small (typically n < 30).\n",
        "2. Assumes the population variance is unknown and estimates it from the sample.\n",
        "3. Based on  t-distribution, which has heavier tails to account for extra uncertainty.\n",
        "4.Critical values depend on significance level (α) and degrees of freedom (related to sample size).\n",
        "5. More robust to small sample sizes and accounts for greater variability in estimates.\n",
        "\n",
        "\n"
      ],
      "metadata": {
        "id": "DRccSsJmv6K5"
      }
    },
    {
      "cell_type": "markdown",
      "source": [
        "### Question 6: Write a Python program to generate a binomial distribution with n=10 and p=0.5, then plot its histogram.\n",
        "\n",
        "### Hint: Generate random number using random function.\n",
        "\n",
        "Answer :"
      ],
      "metadata": {
        "id": "su52PXgTv-5h"
      }
    },
    {
      "cell_type": "code",
      "source": [
        "import numpy as np\n",
        "import matplotlib.pyplot as plt"
      ],
      "metadata": {
        "id": "W3wcSNMEGwl3"
      },
      "execution_count": 57,
      "outputs": []
    },
    {
      "cell_type": "code",
      "source": [
        "random_numbers = np.random.binomial(n=10, p=0.5, size=1000)\n",
        "print(\"Random numbers from binomial distribution:\")\n",
        "print(random_numbers)"
      ],
      "metadata": {
        "colab": {
          "base_uri": "https://localhost:8080/"
        },
        "id": "N_UHVnKpHhVc",
        "outputId": "8a196eb8-25a4-42cf-d519-6c3851d614a5"
      },
      "execution_count": 58,
      "outputs": [
        {
          "output_type": "stream",
          "name": "stdout",
          "text": [
            "Random numbers from binomial distribution:\n",
            "[ 4  3  3  5  6  5  3  8  2  7  4  5  6  7  4  4  5  6  7  5  5  5  6  4\n",
            "  6  3  4  4  6  4  8  7  6  5  5  4  5  6 10  7  6  6  6  4  7  4  6  8\n",
            "  4  6  5  7  7  6  5  7  3  8  4  3  3  1  5  5  4  3  4  5  7  2  5  2\n",
            "  7  5  5  4  3  7  4  5  4  3  6  8  6  6  7  4  4  7  5  8  6  8  7  8\n",
            "  5  6  3  5  4  6  9  5  6  5  7  6  4  4  6  6  4  4  5  7  6  5  4  4\n",
            "  4  3  7  4  6  4  5  7  4  6  4  5  4  6  4  5  6  6  5  4  2  5  4  6\n",
            "  6  3  7  5  3  4  4  5  7  4  5  5  7  8  4  3  4  3  3  6  6  4  2  3\n",
            "  4  6  6  5  7  4  2  8  3  9  7  3  6  5  7  7  3  7  6  4  5  3  4  6\n",
            "  5  6  4  6  5  8  6  4  4  4  5  6  4  6  3  5  5  2  9  6  3  5  6  5\n",
            "  4  2  6  7  6  6  6  7  6  3  4  7  2  7  5  6  4  4  6  6  4  6  6  6\n",
            "  2  7  6  6  5  7  5  6  6  3  4  5  1  6  6  4  8  7  3  3  7  7  6  5\n",
            "  8  5  5  8  6  6  4  4  5  5  4  6  8  5  6  6  5  5  7  6  6  6  7  6\n",
            "  4  5  4  4  6  2  8  3  7  5  6  4  6  3  4  4  6  5  7  6  3  5  7  5\n",
            "  5  6  6  3  6  6  5  4  7  4  5  6  6  6  6  5  4  4  7  5  5  4  4  6\n",
            "  4  7  2  4  7  2  6  4  3  8  8  4  5  6  1  6  4  5  3  7  4  4  7  5\n",
            "  6  5  6  7  6  5  7  6  5  8  4  7  6  3  3  6  4  4  7  4  8  3  5  5\n",
            "  4  5  4  1  3  5  4  3  4  6  7  4  7  3  8  3  4  4  5  5  7  5  5  3\n",
            "  4  7  2  5  4  4  4  3  3  7  8  3  6  3  6  3  2  6  8  6  5  3  4  9\n",
            "  6  4  3  4  6  4  4  4  4  6  6  6  7  8  6  6  5  1  4  7  6  6  5  4\n",
            "  7  3  4  4  1  4  7  3  4  3  4  3  2  5  5  3  4  8  5  4  5  5  4  3\n",
            "  7  3  4  4  5  3  3  4  7  5  5  5  1  3  5  5  7  4  5  8  7  4  7  8\n",
            "  6  6  6  8  5  5  6  4  6  7  6  6  3  4  3  5  6  7  5  5  8  4  6  4\n",
            "  7  5  3  3  4  9  6  6  6  7  4  4  5  4  8  4  7  3  6  6  3  3  5  1\n",
            "  5  5  5  4  7  7  5  6  5  5  4  2  5  5  7  7  3  5  4  7  6  2  4  6\n",
            "  2  2  3  4  6  3  3  6  3  3  6  2  5  4  5  3  4  6  3  7  5  5  5  5\n",
            "  2  6  5  6  6  6  3  6  7  3  6  7  4  4  8  3  4  6  3  2  5  4  4  6\n",
            "  6  6  5  5  5  5  5  4  4  5  6  8  7  5  7  5  3  6  3  7  5  3  6  7\n",
            "  6  6  5  6  5  4  8  8  5  7  7  7  4  5  6  6  6  7  6  6  6  1  4  3\n",
            "  5  6  6  4  7  4  3  6  6  4  6  6  4  6  4  7  2  7  5  6  7  5  5  3\n",
            "  7  7  1  3  5  4  4  7  6  6  4  2  4  4  6  6  6  1  3  4  6  9  5  6\n",
            "  3  5  8  7  7  4  6  5  4  8  7  4  6  5  4  5  5  2  1  5  6  6  6  5\n",
            "  7  5  7  7  6  5  5  5  6  4  6  4  7  6  8  3  8  3  4  4  5  5  6  5\n",
            "  3  3  6  6  5  6  5  2  6  7  5  3  6  5  4  6  7  6  4  3  5  4  3  6\n",
            "  4  4  4  6  7  3  2  3  6  4  5  7  4  4  6  6  3  2  4  7  6  6  5  2\n",
            "  3  4  5  3  5  4  4  6  3  3  6  2  6  8  6  6  6  4  4  6  6  6  3  5\n",
            "  6  2  4  4  6  7  4  2  3  4  5  5  9  4  5  4  8  4  5  7  3  3  6  2\n",
            "  5  7  6  5  5  7  4  5  5  5  3  8  4  5  6  5  3  6  2  8  6  4  6  5\n",
            "  3  4  4  4  3  4  4  6  6  3  5  4  7  5  4  4  3  5  5  4  6  4  7  4\n",
            "  5  3  5  2  4  4  5  5  5  6  5  2  5  5  3  6  7  4  5  6  9  4  6  7\n",
            "  6  2  5  7  4  5  4  8  2  4  5  5  2  3  6  7  5  4  5  2  6  5  7  4\n",
            "  5  5  5  6  5  5  3  5  5  6  7  6  4  7  6  5  5  6  4  3  6  5  4  7\n",
            "  6  4  5  3  2  5  7  4  5  5  7  4  3  8  8  4]\n"
          ]
        }
      ]
    },
    {
      "cell_type": "code",
      "source": [
        "plt.hist(random_numbers, bins=10, edgecolor='black')\n",
        "plt.xlabel('Number of sucess')\n",
        "plt.ylabel('Frequency')\n",
        "plt.title('Histogram of Binomial Distribution')\n",
        "plt.show()"
      ],
      "metadata": {
        "colab": {
          "base_uri": "https://localhost:8080/",
          "height": 472
        },
        "id": "1kEjQHfhHyTs",
        "outputId": "56a8eecc-c507-472d-d576-9e6e5012f3c3"
      },
      "execution_count": 59,
      "outputs": [
        {
          "output_type": "display_data",
          "data": {
            "text/plain": [
              "<Figure size 640x480 with 1 Axes>"
            ],
            "image/png": "[encoded data removed]"
          },
          "metadata": {}
        }
      ]
    },
    {
      "cell_type": "markdown",
      "source": [
        "### Question 7: Implement hypothesis testing using Z-statistics for a sample dataset in Python. Show the Python code and interpret the results.\n",
        "                         \n",
        "sample_data = [49.1, 50.2, 51.0, 48.7, 50.5, 49.8, 50.3, 50.7, 50.2, 49.6,                         50.1, 49.9, 50.8, 50.4, 48.9, 50.6, 50.0, 49.7, 50.2, 49.5,                         50.1, 50.3, 50.4, 50.5, 50.0, 50.7, 49.3, 49.8, 50.2, 50.9,                         50.3, 50.4, 50.0, 49.7, 50.5, 49.9]\n",
        "\n",
        "Answer :"
      ],
      "metadata": {
        "id": "eHXUE9YEwMGZ"
      }
    },
    {
      "cell_type": "code",
      "source": [
        "import numpy as np\n",
        "import statsmodels\n",
        "import scipy"
      ],
      "metadata": {
        "id": "ijtS13FFduAg"
      },
      "execution_count": 60,
      "outputs": []
    },
    {
      "cell_type": "code",
      "source": [
        "Sample_data = [49.1, 50.2, 51.0, 48.7, 50.5, 49.8, 50.3, 50.7, 50.2, 49.6, 50.1, 49.9, 50.8, 50.4, 48.9, 50.6, 50.0, 49.7, 50.2, 49.5, 50.1, 50.3, 50.4,\n",
        "               50.5, 50.0, 50.7, 49.3, 49.8, 50.2, 50.9, 50.3, 50.4, 50.0, 49.7, 50.5, 49.9]"
      ],
      "metadata": {
        "id": "6omx-ob5JLWu"
      },
      "execution_count": 61,
      "outputs": []
    },
    {
      "cell_type": "code",
      "source": [
        "# here we set population mean is 50\n",
        "population_mean = 50"
      ],
      "metadata": {
        "id": "fCyfe9sNK8MZ"
      },
      "execution_count": 62,
      "outputs": []
    },
    {
      "cell_type": "code",
      "source": [
        "n= len(Sample_data)"
      ],
      "metadata": {
        "id": "XNxXTXzVL7BO"
      },
      "execution_count": 63,
      "outputs": []
    },
    {
      "cell_type": "code",
      "source": [
        "Sample_mean = np.mean(Sample_data)\n",
        "print(f\"Sample Mean : {Sample_mean}\")"
      ],
      "metadata": {
        "colab": {
          "base_uri": "https://localhost:8080/"
        },
        "id": "nNTdyAW3N7s8",
        "outputId": "5cfe7c94-728b-4b90-a5f3-f1e5c79bb75b"
      },
      "execution_count": 64,
      "outputs": [
        {
          "output_type": "stream",
          "name": "stdout",
          "text": [
            "Sample Mean : 50.08888888888889\n"
          ]
        }
      ]
    },
    {
      "cell_type": "code",
      "source": [
        "Sample_std = np.std(Sample_data, ddof=1)\n",
        "print(f\"Sample Standard Deviation : {Sample_std}\")"
      ],
      "metadata": {
        "colab": {
          "base_uri": "https://localhost:8080/"
        },
        "id": "IgZUNgkhOLi3",
        "outputId": "6c297e9b-ef26-460a-8c18-189fa1fb1083"
      },
      "execution_count": 65,
      "outputs": [
        {
          "output_type": "stream",
          "name": "stdout",
          "text": [
            "Sample Standard Deviation : 0.5365379910807955\n"
          ]
        }
      ]
    },
    {
      "cell_type": "code",
      "source": [
        "alpha = 0.05"
      ],
      "metadata": {
        "id": "ENUWFKCRomG_"
      },
      "execution_count": 66,
      "outputs": []
    },
    {
      "cell_type": "markdown",
      "source": [
        "Normally, Z-tests assume you know the population standard deviation. If not, sometimes use the sample standard deviation as an estimate, especially for large samples (n > 30).\n",
        "\n",
        "- sample size > 30 then Z test give same result as t test"
      ],
      "metadata": {
        "id": "RIecvrlvOkQw"
      }
    },
    {
      "cell_type": "code",
      "source": [
        "#  Population_standard_deviation approximately equal to sample stand deviation"
      ],
      "metadata": {
        "id": "KUNIXsMqOX2V"
      },
      "execution_count": 67,
      "outputs": []
    },
    {
      "cell_type": "markdown",
      "source": [
        "Null hypothesis (H₀): The sample comes from a population with mean 50 / H0: μ = 50\n",
        "\n",
        "\n",
        "\n",
        "Alternative hypothesis (H₁): The sample does not come from a population with mean / H1: μ ≠ 50\n"
      ],
      "metadata": {
        "id": "M14s0rw_Nem0"
      }
    },
    {
      "cell_type": "code",
      "source": [
        "### using z critical approach\n",
        "\n",
        "z_stat = ( Sample_mean - population_mean) / (Sample_std / np.sqrt(n))"
      ],
      "metadata": {
        "id": "k8PpbaDAoHgW"
      },
      "execution_count": 68,
      "outputs": []
    },
    {
      "cell_type": "code",
      "source": [
        "print(z_stat)"
      ],
      "metadata": {
        "colab": {
          "base_uri": "https://localhost:8080/"
        },
        "id": "2JFM0ysFoN7d",
        "outputId": "1a1f57a4-4865-45c2-b2cf-fb41a0857068"
      },
      "execution_count": 69,
      "outputs": [
        {
          "output_type": "stream",
          "name": "stdout",
          "text": [
            "0.9940271559503017\n"
          ]
        }
      ]
    },
    {
      "cell_type": "code",
      "source": [
        "# here two tail test z alpha/2 = 0.025 in each tail\n",
        "# middle region : 1-alpha/2"
      ],
      "metadata": {
        "id": "0hHyNLs3oU1d"
      },
      "execution_count": 70,
      "outputs": []
    },
    {
      "cell_type": "code",
      "source": [
        "z_critical = scipy.stats.norm.ppf(1 - alpha/2) # right tail\n",
        "print(\"Z-critical (two-tailed): ±\", round(z_critical, 3))"
      ],
      "metadata": {
        "id": "Z0QYRcOLd7W_",
        "outputId": "b6d51e99-0988-4595-bfc8-8b6e747b2a10",
        "colab": {
          "base_uri": "https://localhost:8080/"
        }
      },
      "execution_count": 71,
      "outputs": [
        {
          "output_type": "stream",
          "name": "stdout",
          "text": [
            "Z-critical (two-tailed): ± 1.96\n"
          ]
        }
      ]
    },
    {
      "cell_type": "code",
      "source": [
        "if z_stat > z_critical:\n",
        "    print(\"Reject the null hypothesis: The sample mean is significantly different from the population mean.\")\n",
        "else:\n",
        "    print(\"Fail to reject the null hypothesis: There is not enough evidence to say the sample mean is significantly different from the population mean.\")"
      ],
      "metadata": {
        "colab": {
          "base_uri": "https://localhost:8080/"
        },
        "id": "PJ17TY9Zoia-",
        "outputId": "47227e9c-d326-453f-cd75-15f1154ca6aa"
      },
      "execution_count": 72,
      "outputs": [
        {
          "output_type": "stream",
          "name": "stdout",
          "text": [
            "Fail to reject the null hypothesis: There is not enough evidence to say the sample mean is significantly different from the population mean.\n"
          ]
        }
      ]
    },
    {
      "cell_type": "markdown",
      "metadata": {
        "id": "b5391d33"
      },
      "source": [
        "**Interpretation of Z-test Results using Z-critical approach:**\n",
        "\n",
        "In this case, the calculated Z-statistic (0.994) is less than the positive critical Z-value (1.96) and greater than the negative critical Z-value (-1.96). This means the calculated Z-statistic falls within the acceptance region.\n",
        "\n",
        "Therefore, based on the Z-critical approach at a 0.05 significance level (alpha), we **fail to reject the null hypothesis**. This indicates that there is not enough statistically significant evidence to conclude that the sample mean is different from the hypothesized population mean of 50."
      ]
    },
    {
      "cell_type": "code",
      "source": [
        "# using p value\n",
        "from statsmodels.stats.weightstats import ztest"
      ],
      "metadata": {
        "id": "Aa5GVPc2MAtG"
      },
      "execution_count": 73,
      "outputs": []
    },
    {
      "cell_type": "code",
      "source": [
        "mu=population_mean\n",
        "sigma = Sample_std"
      ],
      "metadata": {
        "id": "NQkpWP0nO_s5"
      },
      "execution_count": 74,
      "outputs": []
    },
    {
      "cell_type": "code",
      "source": [
        " #Perform the Z-test\n",
        "z_statistic, p_value = ztest(Sample_data, value=mu, alternative='two-sided') # or 'larger', 'smaller'\n"
      ],
      "metadata": {
        "id": "CWs6-qNZPkxj"
      },
      "execution_count": 75,
      "outputs": []
    },
    {
      "cell_type": "code",
      "source": [
        "print(f\"Z-statistic: {z_statistic}\")\n",
        "print(f\"P-value: {p_value}\")"
      ],
      "metadata": {
        "colab": {
          "base_uri": "https://localhost:8080/"
        },
        "id": "0-h-7J83PtV5",
        "outputId": "031a1272-17d8-4284-a21d-9a7910d0e4a4"
      },
      "execution_count": 76,
      "outputs": [
        {
          "output_type": "stream",
          "name": "stdout",
          "text": [
            "Z-statistic: 0.9940271559503017\n",
            "P-value: 0.3202096468890012\n"
          ]
        }
      ]
    },
    {
      "cell_type": "code",
      "source": [
        "if p_value < alpha:\n",
        "    print(\"Reject the null hypothesis: The sample mean is significantly different from the population mean.\")\n",
        "else:\n",
        "    print(\"Fail to reject the null hypothesis: There is not enough evidence to say the sample mean is significantly different from the population mean.\")"
      ],
      "metadata": {
        "colab": {
          "base_uri": "https://localhost:8080/"
        },
        "id": "fk8TCnlkPyHF",
        "outputId": "68048d82-4d07-4cd2-f684-aa279edd31fa"
      },
      "execution_count": 77,
      "outputs": [
        {
          "output_type": "stream",
          "name": "stdout",
          "text": [
            "Fail to reject the null hypothesis: There is not enough evidence to say the sample mean is significantly different from the population mean.\n"
          ]
        }
      ]
    },
    {
      "cell_type": "markdown",
      "metadata": {
        "id": "d67c5180"
      },
      "source": [
        "**Interpretation of Z-test Results using P-value approach:**\n",
        "\n",
        "The p-value (0.3202) is the probability of observing a sample mean as extreme as the one calculated, assuming the null hypothesis is true (that the population mean is 50).\n",
        "\n",
        "Since the calculated p-value (0.3202) is greater than the chosen significance level (alpha = 0.05), we **fail to reject the null hypothesis**.\n",
        "\n",
        "This means there is not enough statistically significant evidence to conclude that the sample mean is different from the hypothesized population mean of 50."
      ]
    },
    {
      "cell_type": "markdown",
      "source": [
        "### Question 8: Write a Python script to simulate data from a normal distribution and calculate the 95% confidence interval for its mean. Plot the data using Matplotlib.\n",
        "\n",
        "Answer :"
      ],
      "metadata": {
        "id": "iivlxKHFwnG4"
      }
    },
    {
      "cell_type": "code",
      "source": [
        "import numpy as np\n",
        "import matplotlib.pyplot as plt\n",
        "from scipy import stats\n"
      ],
      "metadata": {
        "id": "_zyum3bJQQaM"
      },
      "execution_count": 78,
      "outputs": []
    },
    {
      "cell_type": "code",
      "source": [
        "mu, sigma = 50, 5\n",
        "sample_size = 100\n",
        "data = np.random.normal(mu, sigma, sample_size)"
      ],
      "metadata": {
        "id": "txwB5OKsQTOe"
      },
      "execution_count": 79,
      "outputs": []
    },
    {
      "cell_type": "code",
      "source": [
        "print(data)"
      ],
      "metadata": {
        "colab": {
          "base_uri": "https://localhost:8080/"
        },
        "id": "-dAKd2c5QZwE",
        "outputId": "71b311e2-e288-4505-d370-9b016d3701cb"
      },
      "execution_count": 80,
      "outputs": [
        {
          "output_type": "stream",
          "name": "stdout",
          "text": [
            "[48.65073604 56.30240857 44.38957194 55.64632793 49.24982487 53.56499251\n",
            " 45.47587055 45.18855451 43.3913167  49.83101171 45.9450905  50.4906984\n",
            " 46.73228078 45.65291849 57.50721915 57.50115519 39.86120193 46.93950633\n",
            " 44.59962626 49.29450474 46.70390179 46.37354231 63.35259932 53.6327358\n",
            " 36.85484132 49.42138401 45.03018804 44.91212199 52.57952291 46.60061444\n",
            " 50.95408296 47.70811826 47.92588874 55.70349426 39.19845376 41.11808474\n",
            " 57.82352668 45.29763491 38.68086271 43.90483638 49.96662732 50.7561184\n",
            " 55.10114937 53.09951062 49.80218985 56.09717242 52.05658007 40.28278201\n",
            " 53.32329621 39.73109381 52.28809681 49.38041148 52.40155313 52.66867765\n",
            " 53.68653407 46.37627349 49.00992753 54.49310713 47.31583155 49.21553641\n",
            " 52.26991075 44.77243137 49.73297621 46.80486171 49.87859367 47.1178032\n",
            " 59.38830864 45.73117818 50.48307724 55.49131373 49.68460852 51.41080613\n",
            " 46.06926367 47.93394287 45.94344059 50.92165378 52.44817189 52.23259197\n",
            " 52.27423493 40.97787907 45.32159693 49.78699733 47.00914167 44.02540886\n",
            " 45.18934339 51.04985196 50.70809914 59.82398824 53.19004377 55.49675919\n",
            " 48.89389434 46.36390669 38.64147698 48.2091624  49.55156332 45.24373419\n",
            " 50.26770557 42.84213959 50.75568804 47.22571575]\n"
          ]
        }
      ]
    },
    {
      "cell_type": "code",
      "source": [
        "#Calculate sample mean and standard error\n",
        "sample_mean = np.mean(data)\n",
        "sample_std = np.std(data, ddof=1)\n",
        "standard_error = sample_std / np.sqrt(sample_size)\n"
      ],
      "metadata": {
        "id": "_c50clv0QcbO"
      },
      "execution_count": 81,
      "outputs": []
    },
    {
      "cell_type": "code",
      "source": [
        "print(f\"Sample Mean : {sample_mean}\")\n",
        "print(f\"Sample Standard Deviation : {sample_std}\")\n",
        "print(f\"Standard Error : {standard_error}\")"
      ],
      "metadata": {
        "colab": {
          "base_uri": "https://localhost:8080/"
        },
        "id": "vD0V5pvkQocH",
        "outputId": "8dc4b563-76f7-459a-9cd9-994003530e89"
      },
      "execution_count": 82,
      "outputs": [
        {
          "output_type": "stream",
          "name": "stdout",
          "text": [
            "Sample Mean : 48.98206987232187\n",
            "Sample Standard Deviation : 5.016867590946176\n",
            "Standard Error : 0.5016867590946176\n"
          ]
        }
      ]
    },
    {
      "cell_type": "code",
      "source": [
        "# we use here t distribution because of The population standard deviation (σ) is unknown, and we are using the sample standard deviation (s)\n",
        "#so the t-distribution gives a more accurate and realistic confidence interval.\n",
        "# fromula Confidence_Interval = x_bar [plus/minus] t alpha/2 dof[n-1] * s/root(n)\n",
        "# when sample size is large t distrbution and normal distribution almost same\n",
        "# t distribution give wider range around the mean so we are allowing more uncertanity [it’s wider (has fatter tails) than the normal one.]\n",
        "# t gives a bigger (safer) confidence interval."
      ],
      "metadata": {
        "id": "s1mnx1Cedtsk"
      },
      "execution_count": 83,
      "outputs": []
    },
    {
      "cell_type": "code",
      "source": [
        "# Calculate 95% confidence interval for the mean\n",
        "confidence_level = 0.95\n",
        "degrees_freedom = sample_size - 1\n",
        "confidence_interval = stats.t.interval(confidence_level, degrees_freedom, sample_mean, standard_error)"
      ],
      "metadata": {
        "id": "peFy-eWBQrtj"
      },
      "execution_count": 84,
      "outputs": []
    },
    {
      "cell_type": "code",
      "source": [
        "print(f\"Confidence_Interval : {confidence_interval}\")"
      ],
      "metadata": {
        "colab": {
          "base_uri": "https://localhost:8080/"
        },
        "id": "k5ZtM_UTRllb",
        "outputId": "a7f3ed48-3993-48ac-e3e0-ff67b8c85585"
      },
      "execution_count": 85,
      "outputs": [
        {
          "output_type": "stream",
          "name": "stdout",
          "text": [
            "Confidence_Interval : (np.float64(47.98661450057888), np.float64(49.977525244064864))\n"
          ]
        }
      ]
    },
    {
      "cell_type": "code",
      "source": [
        "print(f\"Sample Mean: {sample_mean:.2f}\")\n",
        "print(f\"95% Confidence Interval: ({confidence_interval[0]:.2f}, {confidence_interval[1]:.2f})\")"
      ],
      "metadata": {
        "colab": {
          "base_uri": "https://localhost:8080/"
        },
        "id": "c3-pbSv7Rtsm",
        "outputId": "b4c7f8ca-47d5-43a9-c9d3-aef889f9cc09"
      },
      "execution_count": 86,
      "outputs": [
        {
          "output_type": "stream",
          "name": "stdout",
          "text": [
            "Sample Mean: 48.98\n",
            "95% Confidence Interval: (47.99, 49.98)\n"
          ]
        }
      ]
    },
    {
      "cell_type": "code",
      "source": [
        "plt.figure(figsize=(8, 6))\n",
        "plt.hist(data, bins=30, density=True, alpha=0.6, color='b', edgecolor='black')\n",
        "plt.axvline(sample_mean, color='r', linestyle='dashed', linewidth=2, label=f'Sample Mean ({sample_mean:.2f})')\n",
        "plt.axvline(confidence_interval[0], color='g', linestyle='dashed', linewidth=2, label=f'Lower Bound ({confidence_interval[0]:.2f})')\n",
        "plt.axvline(confidence_interval[1], color='g', linestyle='dashed', linewidth=2, label=f'Upper Bound ({confidence_interval[1]:.2f})')\n",
        "plt.title('Histogram of Simulated Normal Data with 95% Confidence Interval for Mean')\n",
        "plt.xlabel('Value')\n",
        "plt.ylabel('Frequency')\n",
        "plt.legend()\n",
        "plt.grid(True)\n",
        "plt.show()"
      ],
      "metadata": {
        "colab": {
          "base_uri": "https://localhost:8080/",
          "height": 564
        },
        "id": "MdDusb2PR4yX",
        "outputId": "270a9ef3-06b0-48cc-b59e-d7bccbd919e9"
      },
      "execution_count": 87,
      "outputs": [
        {
          "output_type": "display_data",
          "data": {
            "text/plain": [
              "<Figure size 800x600 with 1 Axes>"
            ],
            "image/png": "[encoded data removed]"
          },
          "metadata": {}
        }
      ]
    },
    {
      "cell_type": "markdown",
      "source": [
        "**Conclusion**\n",
        "\n",
        "The calculated 95% confidence interval for the mean is approximately (48.09, 49.85). This means that we are 95% confident that the true population mean falls within this range. Since the simulated population mean (50) is not included in this interval, this suggests that the simulated sample data's mean is statistically different from the population mean at the 95% confidence level."
      ],
      "metadata": {
        "id": "hS1HFnfsTd3I"
      }
    },
    {
      "cell_type": "markdown",
      "source": [
        "### Question 9: Write a Python function to calculate the Z-scores from a dataset and visualize the standardized data using a histogram. Explain what the Z-scores represent in terms of standard deviations from the mean.\n",
        "\n",
        "Answer :  \n",
        "\n",
        "- Z-scores tell us how far each data point is from the mean in terms of standard deviations."
      ],
      "metadata": {
        "id": "5GmD8jl2wsop"
      }
    },
    {
      "cell_type": "code",
      "source": [
        "import numpy as np\n",
        "import matplotlib.pyplot as plt"
      ],
      "metadata": {
        "id": "BLhxdw68TzSh"
      },
      "execution_count": 88,
      "outputs": []
    },
    {
      "cell_type": "code",
      "source": [
        "def calculate_z_scores(data):\n",
        "    mean = np.mean(data)\n",
        "    std_dev = np.std(data, ddof=0)  # Population std deviation (ddof=0) usually used for Z-score\n",
        "    z_scores = (data - mean) / std_dev\n",
        "    return z_scores"
      ],
      "metadata": {
        "id": "bxXYa0voT0RJ"
      },
      "execution_count": 89,
      "outputs": []
    },
    {
      "cell_type": "code",
      "source": [
        "sample_data=np.array([3, 9, 23, 43, 53, 4, 5, 30, 35, 50, 70, 150, 6, 7, 8, 9, 10])"
      ],
      "metadata": {
        "id": "JRKGoLzaUWW-"
      },
      "execution_count": 90,
      "outputs": []
    },
    {
      "cell_type": "code",
      "source": [
        "Z_score = calculate_z_scores(sample_data)\n",
        "print(Z_score)"
      ],
      "metadata": {
        "colab": {
          "base_uri": "https://localhost:8080/"
        },
        "id": "_OdrrbmnUhIY",
        "outputId": "2fbea6e7-f334-47e4-fbec-811109fbf8a1"
      },
      "execution_count": 91,
      "outputs": [
        {
          "output_type": "stream",
          "name": "stdout",
          "text": [
            "[-0.7574907  -0.59097335 -0.20243286  0.35262498  0.6301539  -0.72973781\n",
            " -0.70198492 -0.00816262  0.13060185  0.54689523  1.10195307  3.32218443\n",
            " -0.67423202 -0.64647913 -0.61872624 -0.59097335 -0.56322046]\n"
          ]
        }
      ]
    },
    {
      "cell_type": "code",
      "source": [
        "# Step 3: Visualize standardized data using histogram\n",
        "plt.hist(Z_score, bins=10, color='skyblue', edgecolor='black')\n",
        "plt.title(\"Histogram of Z-Scores\")\n",
        "plt.xlabel(\"Z-Score\")\n",
        "plt.ylabel(\"Frequency\")\n",
        "plt.show()"
      ],
      "metadata": {
        "colab": {
          "base_uri": "https://localhost:8080/",
          "height": 472
        },
        "id": "8HiY4lMpUn2S",
        "outputId": "8f95801d-cb11-48ff-f4f1-80fbeda43694"
      },
      "execution_count": 92,
      "outputs": [
        {
          "output_type": "display_data",
          "data": {
            "text/plain": [
              "<Figure size 640x480 with 1 Axes>"
            ],
            "image/png": "[encoded data removed]"
          },
          "metadata": {}
        }
      ]
    },
    {
      "cell_type": "code",
      "source": [
        "# The middle of the graph (around Z-score 0) is the average.\n",
        "# Bars to the right mean those data points are bigger than average.\n",
        "# Bars to the left mean those data points are smaller than average.\n",
        "# The height of the bars tells us how many data points are in that how-far-from-average range.\n",
        "# It helps us see if the data is spread out evenly or if some points are much bigger or smaller than the rest."
      ],
      "metadata": {
        "id": "LhY8-GglVXGP"
      },
      "execution_count": 93,
      "outputs": []
    },
    {
      "cell_type": "markdown",
      "source": [
        "What do Z-scores represent?\n",
        "\n",
        "- A Z-score tells you how many standard deviations a data point is from the mean of the dataset.\n",
        "\n",
        "- For example, a Z-score of 2 means the value is 2 standard deviations above the mean.\n",
        "\n",
        "- Z-scores standardize data on the same scale (mean 0, std deviation 1), which allows comparison across different datasets or variables.\n",
        "\n",
        "- Values with Z-scores > 3 or < -3 are often considered outliers (very far from the mean).\n",
        "\n"
      ],
      "metadata": {
        "id": "Fig-ksehVmOB"
      }
    }
  ]
}