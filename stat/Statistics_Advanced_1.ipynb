{
  "nbformat": 4,
  "nbformat_minor": 0,
  "metadata": {
    "colab": {
      "provenance": []
    },
    "kernelspec": {
      "name": "python3",
      "display_name": "Python 3"
    },
    "language_info": {
      "name": "python"
    }
  },
  "cells": [
    {
      "cell_type": "code",
      "execution_count": 46,
      "metadata": {
        "id": "YS7jFkRyvhoG"
      },
      "outputs": [],
      "source": []
    },
    {
      "cell_type": "markdown",
      "source": [
        "## Question 1: What is a random variable in probability theory?\n",
        "\n",
        "Answer :\n",
        "\n",
        "1. In probality,A random variable is a function that assigns a real number to each possible outcome of a random experiment.\n",
        "2. It is not just any variable, but a mapping from the sample space (the set of all possible outcomes) to the set of real numbers.\n",
        "3. The random variable makes it possible to apply mathematical and statistical techniques to random phenomena by describing outcomes numerically\n",
        "4. It is not just any variable, but a mapping from the sample space (the set of all possible outcomes) to the set of real numbers.\n",
        "5. types of random varible :     \n",
        "    - Discrete random variable: Takes countable values (like the number rolled on a die)\n",
        "    - Continuous random variable: Takes any value in a continuous range (like the height of a person).\n",
        "6. Example:   \n",
        "\n",
        "- when tossing a coin, a random variable can assign 1 for heads and 0 for tails.This way, we can do calculations on random outcomes just like we do with numbers.\n",
        "\n",
        "X={0,1} here X is random variable.\n",
        "\n",
        "\n"
      ],
      "metadata": {
        "id": "y8WnqeQ0vjKx"
      }
    },
    {
      "cell_type": "markdown",
      "source": [
        "## 2: What are the types of random variables?\n",
        "\n",
        "Answer:  \n",
        "\n",
        "**Discrete Random Variable:**\n",
        "- Takes countable, distinct values such as integers.\n",
        "- use in machine learning, when dealing with ategorical data or counts\n",
        "- In classification for discrete targets\n",
        "- example:\n",
        "  1. Number of clicks on an ad\n",
        "  2. number of heads in coin tosses\n",
        "  3. Number of cars passing through an intersection in one hour\n",
        "  4. Number of defective products in a batch\n",
        "\n",
        "**Continuous Random Variable:**\n",
        "- Takes any value within a continuous range, including decimals.\n",
        "- used in machine learning for modeling measurements or features like height, weight, or temperature\n",
        "- In regression for continuous targets\n",
        "- Example:\n",
        "  1. The pixel intensity in an image\n",
        "  2. a sensor reading\n",
        "  3. Height of students in a school\n",
        "  4. Weight of a product on a production line\n",
        "  5. Time taken to process a transaction"
      ],
      "metadata": {
        "id": "7TLQIkEoy-Hp"
      }
    },
    {
      "cell_type": "markdown",
      "source": [
        "### 3. Explain the difference between discrete and continuous distributions\n",
        "\n",
        "Answer :      \n",
        "\n",
        "| Aspect                    | Discrete Distribution                                    | Continuous Distribution                              |\n",
        "|---------------------------|----------------------------------------------------------|-----------------------------------------------------|\n",
        "| **Type of Random Variable**| Countable, distinct values (e.g., integers)              | Any value in a continuous range (including decimals)|\n",
        "| **Probability Function**   | Probability Mass Function (PMF), assigns probability to exact values | Probability Density Function (PDF), probability over intervals |\n",
        "| **Probability of Exact Value**| Non-zero and meaningful                                  | Always zero (probability over range is non-zero)     |\n",
        "| **Values Possible**        | Specific countable values                                 | Infinite uncountable values within an interval       |\n",
        "| **Summation/Integration** | Sum of probabilities over all possible values = 1        | Integral of PDF over entire range = 1                 |\n",
        "| **Example Distributions**  | Binomial, Poisson                                        | Normal, Uniform, Exponential                          |\n",
        "| **Typical Use Cases**      | Counting events, classification labels                   | Measurements, regression targets                       |\n"
      ],
      "metadata": {
        "id": "FjXEwB3G2sJ_"
      }
    },
    {
      "cell_type": "markdown",
      "source": [
        "### Question 4: What is a binomial distribution, and how is it used in probability?\n",
        "\n",
        "Answer:\n",
        "A binomial distribution is a discrete probability distribution that models the number of successes in a fixed number of independent trials, where each trial has only two possible outcomes: success or failure.\n",
        "it's defined by two parameters:\n",
        "\n",
        "- n: number of trials\n",
        "\n",
        "- p: probability of success in each trial\n",
        "\n",
        "- single experiment with only two possible outcomes means bernouli trail.\n",
        "- the number of successes in n independent Bernoulli trials mean binomial.\n",
        "\n",
        "**conditions**\n",
        "- Each trial has the same probability of success (p)\n",
        "\n",
        "- Trials are independent (one doesnt affect the other)\n",
        "\n",
        "- The total number of trials n is fixed\n",
        "\n",
        "\n",
        "1. Probality mass function of binomial distribution :      \n",
        "          \n",
        "        Pmf = NCr  * p^x * q^(n-x)\n",
        "- N : number of Bernoulli trail\n",
        "- r : the no of events that you are interested in\n",
        "- p^x : probability of x sucess\n",
        "- q^(n-x) : probability of n-x failures\n",
        "\n",
        "2. mean[Excepected value] and variance of binomial distribution:\n",
        "- mean = np\n",
        "- var  = npq\n",
        "\n",
        "3. binomial distribution is skew when p=0.5,otherwise skewed.\n",
        "\n",
        "4. Example :                \n",
        "- **Tossing a coin:** Probability of getting 3 heads in 5 tosses (success = head, p = 0.5)\n",
        "- **Quality control:** Out of 100 products, how many are defective (success = defective, p = defect rate)\n",
        "- **Marketing:** Out of 1000 emails sent, how many people click the link (success = click, p = click-through rate)\n",
        "\n",
        "**used in probability**\n",
        "1. Modeling Binary Outcomes:\n",
        "- When each trial has only two outcomes — success or failure.\n",
        "\n",
        "example :will a customer buy or not? Will a machine part fail or work?\n",
        "\n",
        "2. Hypothesis Testing\n",
        "- use case: binomial test for proportions.\n",
        "- example : you claim 60% of users prefer dark mode. You test this by surveying 100 users. The binomial test checks if your observed proportion is statistically different from 60%.\n",
        "\n",
        "3. simulations (Monte Carlo Methods)\n",
        "- Use Case: simulating binary outcomes repeatedly.\n",
        "- example : simulate 1000 coin tosses to estimate the probability of getting at least 60 heads.\n",
        "- Real-world: Used in risk modeling, reliability testing, and forecasting.\n",
        "\n",
        "4. Machine Learning\n",
        "- Use Case : Logistic regression assumes binomial likelihood.\n",
        "- logistic regression models the probability of a binary outcome[binary classification] (e.g., spam vs not spam).\n",
        "- Mathematics: It uses the binomial distribution to define the likelihood function during training.\n",
        "\n",
        "5. Deep learning :    \n",
        "- Use Case : Binary classification tasks.\n",
        "- In a neural network, the final layer often uses a sigmoid activation to output a probability between 0 and 1 — interpreted as the probability of success.\n",
        "- Loss Function: Binary cross-entropy is derived from binomial likelihood.\n"
      ],
      "metadata": {
        "id": "SadhiW5OhFbX"
      }
    },
    {
      "cell_type": "markdown",
      "source": [
        "### Question 5: What is the standard normal distribution, and why is it important?\n",
        "\n",
        "Answer:   \n",
        "\n",
        "The standard normal distribution is a special case of the normal (Gaussian) distribution with:\n",
        "\n",
        "Mean (μ) = 0\n",
        "\n",
        "Standard deviation (σ) = 1\n",
        "\n",
        "It's a bell-shaped curve that is symmetric around zero.\n",
        "\n",
        "1. Probability & Statistics:\n",
        "- Used to compute probabilities and percentiles.\n",
        "- Example: Whats the chance a value is more than 2 standard deviations from the mean?\n",
        "\n",
        "2. Hypothesis Testing\n",
        "- Many statistical tests (t-test, z-test) rely on normality.\n",
        "- Standard normal is used to find critical values and p-values.\n",
        "\n",
        "3. Feature Scaling\n",
        "- In machine learning, we often standardize features to have mean 0 and std 1.\n",
        "- This helps models like logistic regression, SVM, and neural networks converge faster and perform better.\n",
        "\n",
        "4. Assumption in Algorithms\n",
        "- Many algorithms assume data is normally distributed (e.g., linear regression, PCA).\n",
        "- Standard normal helps in Z-score calculations, which measure how far a value is from the mean.\n",
        "\n",
        "5. Outlier Detection\n",
        "- Z-scores help detect outliers:\n",
        "- If Z > 3 or Z < -3 → likely an outlier.\n",
        "\n",
        "- standard normal important for measuring how unusual a value is. If a feature is scaled to this distribution, we can easily compare and detect patterns, outliers, or anomalies."
      ],
      "metadata": {
        "id": "Lq6p0j4jtF0X"
      }
    },
    {
      "cell_type": "markdown",
      "source": [
        "### Question 6: What is the Central Limit Theorem (CLT), and why is it critical in statistics?\n",
        "\n",
        "Answer :\n",
        "\n",
        "- If you take large random samples from any population, the sample means will be approximately normal (bell-shaped), even if the population itself is not normal.\n",
        "\n",
        "- This normal approximation improves as sample size increases (usually n≥30).\n",
        "\n",
        "- CLT is key for confidence intervals and hypothesis tests, making statistical inference possible from sample data.\n",
        "\n",
        "- **formula**\n",
        "\n",
        "          Z_score = [X_bar-mu]/[sd/root(n)]\n",
        "\n",
        "          X_bar ---> ( mu, sigma/root(n) )\n",
        "\n",
        "\n",
        "      1. sigma/root(n) == standard error  \n",
        "      2. mu = population mean\n",
        "      3. X_bar = sample mean\n",
        "- **Condition**\n",
        "\n",
        "    1. number of sample size should be large(n>=30)\n",
        "    2. Population sd is not equal to sample sd because the sample is a subset of population.\n",
        "    3. Higher sample size sd is more equal to population sd.\n",
        "    4. Sample error increases when n decreases due to change in variability of sample as compared to population standard error use To minimize variability\n",
        "\n",
        "\n",
        "#### why is it critical in statistics?\n",
        "\n",
        "Answer :\n",
        "\n",
        "1.**Foundation for Inference:**\n",
        "\n",
        "  The Central Limit Theorem lets us use tools like confidence intervals and hypothesis tests on sample means, even if the original data is not normal, which helps us make conclusions about the whole population from just a sample.\n",
        "\n",
        "2.**Applications in Machine Learning:**\n",
        "\n",
        "  The Central Limit Theorem lets data scientists estimate errors and uncertainties for model predictions, so we know how much to trust results. It supports A/B testing by making average outcomes almost normal, so we can test differences between strategies reliably. It helps build confidence intervals for model accuracy and uses bootstrapping to measure feature importance and model skill across samples\n",
        "\n",
        "\n",
        "3.**Example:**\n",
        "A tech company wants to estimate the mean web page load time across millions of users but can't check every user. With CLT, it can randomly sample 50 users multiple times, calculate means, and safely use normal probability methods to build confidence intervals and estimate uncertainty—despite the underlying skewness in the load times\n",
        "\n"
      ],
      "metadata": {
        "id": "oi2umeMQvmte"
      }
    },
    {
      "cell_type": "markdown",
      "source": [
        "### Question 7: What is the significance of confidence intervals in statistical analysis?\n",
        "\n",
        "Answer:\n",
        "\n",
        "Confidence intervals are important in statistical analysis because they provide a range of values likely to contain the true population parameter (like a mean or proportion) with a certain level of confidence, often 95%. They show how precise an estimate is and help quantify uncertainty around it, making results more reliable for decision-making. Confidence intervals also help identify if results are statistically significant by checking if the interval includes a value of no effect (like zero). Narrower intervals mean more precise estimates, while wider intervals suggest more uncertaint"
      ],
      "metadata": {
        "id": "lO4LIuVCvzbV"
      }
    },
    {
      "cell_type": "markdown",
      "source": [
        "### Question 8: What is the concept of expected value in a probability distribution?\n",
        "\n",
        "Answer :    \n",
        "\n",
        "1. Expected value is the long-term average or mean of a random variable.\n",
        "2. It is calculated by multiplying each possible outcome by its probability and then summing all those values.\n",
        "3. Expected Value gives a measure of the center or typical value of the distribution.\n",
        "4. It represents what you would expect on average if the experiment were repeated many times.\n",
        "5. Expected Value is also called the mean, expectation, or first moment of the distribution.\n",
        "6. Mean is used for frequency distribution and Expected value used for probability distribution.\n",
        "7. For discrete variables:  E(X) = summation [ P(x_i) * x_i], where x_i are outcomes and p(x_i) their probabilities.\n",
        "8. For continuous variables, the sum is replaced by an integral over the probability density function.\n",
        "9. Expected Value helps in decision-making, risk analysis, and predicting average outcomes under uncertainty.\n",
        "10. Example: The expected value of rolling a fair six-sided die is 3.5, the average outcome over many rolls.\n"
      ],
      "metadata": {
        "id": "BDma04Guv8aj"
      }
    },
    {
      "cell_type": "markdown",
      "source": [
        "### Question 9: Write a Python program to generate 1000 random numbers from a normaldistribution with mean = 50 and standard deviation = 5. Compute its mean and standarddeviation using NumPy, and draw a histogram to visualize the distribution.\n",
        "\n",
        "Answer :"
      ],
      "metadata": {
        "id": "1QIjINJAwCnA"
      }
    },
    {
      "cell_type": "code",
      "source": [
        "import numpy as np\n",
        "import matplotlib.pyplot as plt"
      ],
      "metadata": {
        "id": "v7cK2IPGwx1o"
      },
      "execution_count": 47,
      "outputs": []
    },
    {
      "cell_type": "code",
      "source": [
        "mean = 50\n",
        "std_dev = 5\n",
        "sample_size = 1000"
      ],
      "metadata": {
        "id": "tU2q1O-mwzhK"
      },
      "execution_count": 48,
      "outputs": []
    },
    {
      "cell_type": "code",
      "source": [
        "# Generate random numbers from normal distribution\n",
        "random_numbers = np.random.normal(loc=mean, scale=std_dev, size=sample_size)\n",
        "print(f\"Random Numbers: {random_numbers}\")"
      ],
      "metadata": {
        "colab": {
          "base_uri": "https://localhost:8080/"
        },
        "id": "bKPpEgb2w6e_",
        "outputId": "fe5278c4-236d-47b8-fa73-6b674ce6c7d4"
      },
      "execution_count": 49,
      "outputs": [
        {
          "output_type": "stream",
          "name": "stdout",
          "text": [
            "Random Numbers: [58.99228643 50.50062671 52.52365089 52.36036395 54.45422474 52.77555468\n",
            " 51.73753308 46.84607369 49.72824153 49.84601874 43.73262439 46.03240218\n",
            " 56.11056459 49.243932   47.5106329  58.39063597 53.37298728 48.10375623\n",
            " 51.94484495 42.28920148 54.31999406 43.13453847 51.97163233 44.7012063\n",
            " 47.75778626 44.18664065 41.13163438 53.05311849 46.6718132  53.41052444\n",
            " 52.36827522 42.17260733 44.94691704 51.09842631 61.16087634 53.43805743\n",
            " 41.75000778 44.24203263 52.57361139 53.32592926 43.61920633 53.61750957\n",
            " 49.38298102 51.25265198 59.20870182 45.62546443 49.589252   45.93982833\n",
            " 47.83725585 52.59601218 52.14614286 61.30758645 50.52565639 59.28028573\n",
            " 51.45020354 54.39606816 51.15974532 46.80417289 56.77829665 48.95939317\n",
            " 49.70367229 51.1290509  43.69995142 53.49186161 45.59648613 50.78164248\n",
            " 43.54104132 46.08167274 51.91818099 50.52281759 46.45966522 42.6301748\n",
            " 52.14595097 47.21875791 42.59687359 38.66816955 55.27970646 45.29489365\n",
            " 48.75642505 49.04242163 46.06698288 45.63491232 50.86824098 50.10347651\n",
            " 46.41428453 50.50914291 57.53812004 49.48428045 47.95592085 44.26158953\n",
            " 44.98546208 54.99950721 44.56804166 48.00645032 45.84306948 41.46831822\n",
            " 46.96075436 47.25124544 50.90984673 51.48224027 48.63323453 50.41622177\n",
            " 49.73480133 52.21440222 46.09505157 50.96316049 43.0045907  51.64391609\n",
            " 50.77086256 43.75032436 47.32782367 52.80284364 50.35562191 48.41596354\n",
            " 49.64441168 50.36735386 49.79110168 44.44079526 50.61778894 51.86553218\n",
            " 51.41148177 47.56388244 49.0345576  42.35541834 50.88125507 48.22733431\n",
            " 45.88817923 53.72838077 47.05633378 37.91589776 39.48044236 52.06021711\n",
            " 51.21393755 56.18804853 45.81576603 45.01823863 54.35819495 59.53233712\n",
            " 45.38480782 42.97029154 45.13544143 48.97281594 52.10126886 39.22105116\n",
            " 50.17217992 53.56469701 40.83843017 43.78544346 46.04602325 47.6866985\n",
            " 54.83857703 46.27031312 43.42788841 57.25364826 48.64408177 52.52530723\n",
            " 49.12369647 53.5776626  49.65886029 50.31949286 49.64734053 51.38810449\n",
            " 45.14966446 47.85027757 55.16850391 50.58471436 53.06774646 47.63178337\n",
            " 46.4271067  52.24716314 49.50543132 48.02570191 50.80632795 44.78502021\n",
            " 49.85412278 52.34971912 60.75866781 56.22520594 47.36057153 57.9892784\n",
            " 56.22840258 46.01262172 46.13107265 41.04088388 52.73173333 45.8358638\n",
            " 33.40734125 48.28973281 48.09854511 58.49241915 58.83111627 39.08345531\n",
            " 40.16456834 57.33861828 41.55062474 50.65026412 46.20618922 46.4971674\n",
            " 36.84097527 54.52405906 52.59714936 55.41840909 46.93942235 48.0169886\n",
            " 48.88314222 56.49787198 54.39549089 50.75050501 49.35928564 55.78491989\n",
            " 58.5092244  40.59893381 46.34618776 51.1292246  55.57054421 56.21516136\n",
            " 45.99195686 40.50985405 46.32326303 47.80838271 55.17838712 51.16921899\n",
            " 49.15137806 58.23882348 52.03588503 49.26394691 47.41705945 51.35098282\n",
            " 50.32124749 53.92098914 59.31990143 53.76533347 51.63155252 59.58172817\n",
            " 51.25592777 52.58308309 57.27462122 54.36562007 48.0874418  49.93337791\n",
            " 52.75261661 57.12579789 43.1762135  47.26117535 54.57649379 49.98294917\n",
            " 49.25722832 51.43472795 50.49018582 51.42601699 49.03140906 48.85660804\n",
            " 51.85544519 55.12374353 42.48511663 48.92049002 47.79180891 48.29824915\n",
            " 44.39172927 46.52829996 40.25918645 46.46533299 52.39674317 54.78654203\n",
            " 46.20768297 53.38663653 53.38903933 49.04461785 57.14547688 42.7187438\n",
            " 51.18797557 49.95031036 51.57807838 51.61813822 51.3995406  46.79728697\n",
            " 53.21455    54.24536591 40.92999671 45.66831565 46.38478927 47.88058001\n",
            " 54.87725346 59.3371989  55.41795905 49.21559671 50.53116365 50.85878706\n",
            " 43.55270428 49.82151147 48.56851961 59.56409648 44.25205286 56.26289175\n",
            " 56.91635522 50.78318125 55.58727451 49.72824438 51.51076733 52.85608942\n",
            " 47.27013712 51.35348596 46.65891988 50.94468537 46.38827518 50.92294496\n",
            " 53.81927834 54.22071565 52.589625   50.74846159 53.17621782 57.52987515\n",
            " 48.49931738 50.03328601 50.11539472 42.99300552 47.65998341 58.08685884\n",
            " 47.31436026 50.05461775 48.62315768 40.39839543 61.23423925 42.408995\n",
            " 41.70044825 52.55062246 44.98125977 47.78316623 54.43893374 46.63682242\n",
            " 47.80099283 41.5817802  48.06849766 57.19746477 47.78705383 59.22186449\n",
            " 49.33926819 39.36023341 55.73533931 51.94160282 51.4365539  56.17481713\n",
            " 48.88163815 54.33756177 48.23504498 50.38315631 53.50405614 58.90440368\n",
            " 52.79924289 48.5090409  42.23298124 49.55907127 52.42565466 55.84265636\n",
            " 41.7905936  54.36876785 49.61250662 55.46056186 47.36463259 39.06536518\n",
            " 41.45559886 54.37795034 44.81807796 41.09235003 40.81203173 51.81917848\n",
            " 48.52265656 47.39763539 48.20845706 47.93877431 53.43202557 50.62194842\n",
            " 48.56015969 53.28913448 45.23199309 45.09790631 45.84806611 53.90762115\n",
            " 47.92815215 51.57873379 45.20175637 46.40036617 53.42129219 48.56237711\n",
            " 48.00702057 43.67822397 47.22756061 59.77540809 48.75886525 46.80881983\n",
            " 53.26777754 52.76459035 45.77661841 46.63525615 46.72338803 43.89743346\n",
            " 41.07796157 54.16672766 56.42627033 49.45338995 49.80907927 52.61233515\n",
            " 52.73474671 49.49112004 54.35161711 45.82786271 40.79911995 54.2796781\n",
            " 48.95338025 44.55695924 56.67010068 41.34868584 51.46064826 44.53716151\n",
            " 45.79521198 53.62280883 59.33477493 52.98443374 41.78476334 47.72830863\n",
            " 52.28863515 45.02106493 46.68021185 44.47793249 57.11790329 52.26963197\n",
            " 62.43218872 58.87147844 56.00876319 52.54551276 45.00498782 45.52352161\n",
            " 51.14277246 43.30291793 49.46635654 47.21344727 44.23249472 50.13325077\n",
            " 46.56107235 48.05081967 47.19868647 49.89763988 45.97892705 49.10489783\n",
            " 48.53803946 60.3982597  51.36092341 44.00529457 65.41421854 53.49342418\n",
            " 52.75385463 52.42894808 50.58363976 52.39166432 57.75273597 56.80395895\n",
            " 46.57712935 46.71437796 52.38509292 53.4051501  48.16629277 53.47942107\n",
            " 45.32089923 52.86495449 47.70344265 45.69390882 45.49199822 51.46507075\n",
            " 42.38332534 36.80499912 56.48378486 47.30141278 53.41075177 49.05680398\n",
            " 58.24967413 41.47209405 49.33387777 57.50111284 45.31459304 44.82168057\n",
            " 56.53908029 49.46107655 42.56443346 47.2195     49.1493853  56.64606597\n",
            " 57.81669084 42.77051977 54.13737541 54.74937548 49.71873333 50.92366224\n",
            " 56.67862354 47.57443336 54.64076351 58.73323583 51.07267734 43.51567729\n",
            " 52.68858936 46.20804509 53.06001615 50.45061718 47.26434867 56.29091549\n",
            " 60.80779814 46.36709556 47.29127562 53.52098098 56.59459746 47.65136556\n",
            " 55.51687828 54.48721463 50.8356866  51.46006165 60.35022609 53.66146251\n",
            " 52.86399872 55.45583147 43.57595206 50.00638378 46.68207131 49.1781144\n",
            " 52.74159653 52.61440058 35.93145823 54.52683232 44.71839211 48.51428827\n",
            " 54.14871703 59.5903423  47.0940993  54.38127823 47.18895323 42.16306565\n",
            " 49.6965516  49.49797108 43.71776751 52.62818601 54.08620815 57.63203842\n",
            " 54.53114396 50.13555999 54.79423806 47.61032359 51.64985995 53.01623126\n",
            " 51.1622581  52.1779424  42.71479887 51.351913   46.27468335 53.07911967\n",
            " 53.00163265 47.46242596 50.78857726 51.74064787 55.99103347 50.06437478\n",
            " 53.95650403 50.52848267 51.31416244 43.95774809 52.65174128 43.11177719\n",
            " 48.59045704 52.91076735 58.97982642 44.28027973 57.71962782 48.06065379\n",
            " 53.50065391 52.78026886 54.54296248 46.28283465 51.37127977 46.49182702\n",
            " 48.99936114 42.70781697 38.67391961 40.85295589 52.41789763 53.07471173\n",
            " 45.1255375  41.63337208 43.76385721 56.72506401 42.00431058 45.63738311\n",
            " 49.67106764 46.11473848 43.33906227 47.95500646 51.58052744 55.31615444\n",
            " 45.41129596 55.7301662  45.01208181 50.088039   48.68500797 48.78856136\n",
            " 54.57930814 47.81047189 49.19949438 44.12630889 50.34782214 36.5114822\n",
            " 51.31885421 50.28748611 55.39640173 44.96632649 47.64582427 47.23017731\n",
            " 49.76612409 47.2220475  47.66451565 53.81382255 55.03925514 44.51064585\n",
            " 53.48637388 56.20376819 53.19207967 45.17120934 49.62075363 49.75227936\n",
            " 41.14576779 49.1096677  51.19722292 53.06948117 41.04814679 49.46043602\n",
            " 44.45770488 54.21918351 49.8722672  46.39495623 47.91805046 50.25606503\n",
            " 54.30249967 47.18825875 56.22824893 51.61301279 39.02371814 52.41663658\n",
            " 41.65318243 45.18135455 56.62696348 54.56885859 55.64206696 56.60301481\n",
            " 54.99013838 51.13929226 42.30681299 55.63313813 47.09406866 52.49416683\n",
            " 52.48926079 41.58252541 59.6462258  51.68286794 38.73087296 50.80855855\n",
            " 45.95225294 44.69528097 50.38841248 49.17961087 48.3877011  55.796506\n",
            " 59.83582955 49.02661698 52.07978812 43.37910096 45.6694551  43.07975961\n",
            " 58.3458138  46.2023711  54.40448592 44.64242449 49.24793177 43.75499982\n",
            " 49.59071446 39.39624296 49.05496893 50.19341271 55.68202888 49.69177817\n",
            " 54.42721943 46.10963318 50.96551198 49.40182738 49.4008347  58.91999126\n",
            " 46.17254181 58.79257506 57.3460664  51.70984071 50.96534771 50.88604748\n",
            " 43.4188769  49.2111532  52.76321866 52.93269362 46.5611435  53.45547805\n",
            " 50.83811658 46.90209371 54.9630483  50.59213627 54.68366203 58.34529972\n",
            " 46.41469779 55.62730859 57.94500121 38.79574341 43.19746808 50.0289439\n",
            " 53.00792458 50.85555302 50.08097501 61.27395501 47.21960056 42.25490749\n",
            " 45.49271772 41.74080038 46.42652021 52.64415787 54.2360234  53.40043105\n",
            " 48.1927304  46.41491827 54.73260049 50.37727364 50.08651602 42.38594641\n",
            " 56.4276179  53.38659635 54.74891493 47.83842868 48.24951338 49.42640867\n",
            " 40.64691899 42.96933883 47.6540953  43.31732142 48.90694879 60.44493997\n",
            " 52.21681153 53.42647633 48.79046771 46.45782727 43.69915604 48.51395174\n",
            " 42.41402839 53.02970954 43.47537825 45.09633447 49.04199654 50.35720506\n",
            " 43.35889748 49.43671566 42.95258491 43.59048277 39.64154742 50.61808969\n",
            " 54.37585427 45.86992878 46.97705959 46.5924839  54.17873891 47.3867192\n",
            " 43.19866954 55.87360214 46.54445082 59.16404797 59.50778894 47.5586634\n",
            " 51.20301104 49.49326796 55.63716186 51.01087569 48.57184526 47.01700048\n",
            " 55.75098992 52.98630907 57.36684437 48.34166793 41.66637854 48.45857905\n",
            " 44.80179829 45.3415471  55.80381969 41.69156489 45.45979518 51.50113466\n",
            " 45.6035712  47.59452166 45.70220035 49.01526482 46.49260778 42.76644573\n",
            " 54.66504356 53.83016051 48.34943778 43.50388592 44.20523869 52.66825773\n",
            " 53.34910728 52.92789022 47.40299702 42.38457661 48.35217336 56.72229724\n",
            " 53.19630587 48.69950596 41.57414622 53.21099402 52.83233643 41.92436142\n",
            " 57.41053921 53.53192026 48.16699553 49.46389347 48.1318704  62.85756143\n",
            " 51.50173015 43.95786298 49.13307387 54.75019028 53.97379961 47.22115544\n",
            " 52.0094116  51.48813576 54.78215472 58.6900034  42.38341062 45.3486702\n",
            " 45.00501071 46.46976145 45.78106151 35.84394024 45.50712334 51.74915566\n",
            " 49.51564662 50.16814862 47.52486656 55.650552   50.04965485 52.41676107\n",
            " 49.08982492 50.83545027 46.36617977 49.28790755 52.89708917 51.85887739\n",
            " 55.27764831 44.53245777 53.13496643 45.33581352 51.71644215 51.81410456\n",
            " 50.39059493 48.04525802 53.04410158 54.9814666  54.53727465 55.72657019\n",
            " 45.01859953 52.04901322 47.07307359 49.05751433 56.46622257 55.82027148\n",
            " 45.41673964 48.07818514 53.70421684 53.79394673 45.41026621 46.10510281\n",
            " 48.55791864 62.27974007 48.66648988 51.17000796 54.36801485 48.81404243\n",
            " 53.63580906 51.28591068 54.47210145 45.64915634 57.00656812 48.62083897\n",
            " 44.84725203 43.84796586 34.49173349 48.01261068 48.12752306 50.71626521\n",
            " 54.39540391 59.16414653 50.04535473 57.65672131 50.97899984 44.5990435\n",
            " 49.3605891  48.443431   47.48339184 52.40330359 56.25564468 47.41023736\n",
            " 54.35768131 46.50158157 46.56719989 51.77725225 52.372567   43.8509111\n",
            " 47.12279823 45.6247071  57.0338586  56.56593419 45.60632551 48.51561366\n",
            " 45.99690177 52.44541998 48.44177908 48.29421146 52.66688142 58.2140282\n",
            " 53.49595283 41.30711068 38.26230457 40.94294621 59.83432679 45.21122412\n",
            " 58.39861145 49.25526467 50.07161279 46.66044936 42.39087533 52.07409841\n",
            " 45.48987765 46.86980775 58.8731296  46.57247194 44.58032202 57.13057953\n",
            " 51.24922939 52.47807562 55.61419335 57.6243867  42.75374908 44.49550993\n",
            " 49.43110676 55.90826217 60.02832958 45.79050013 58.48903435 53.06731643\n",
            " 53.3499128  50.26034978 56.60517882 42.49850773 49.22253519 57.88712538\n",
            " 58.93786847 50.49157874 48.78296784 49.66486149 55.68991933 53.25865591\n",
            " 42.00121729 50.6477178  52.25057758 54.09563433 47.10670401 43.06228231\n",
            " 53.0746775  48.23376433 61.19144992 39.31268604 55.4215567  41.12662732\n",
            " 45.02795654 48.21548022 52.37341392 55.74844629 51.08858182 45.34945027\n",
            " 46.53961174 44.42393565 49.96719948 54.7325629  53.46629936 45.55431049\n",
            " 57.96676094 45.6264394  44.53495294 53.58495783 53.06695746 50.25261595\n",
            " 44.6136884  57.2049427  54.59789132 47.7370964 ]\n"
          ]
        }
      ]
    },
    {
      "cell_type": "code",
      "source": [
        "# Compute mean and standard deviation\n",
        "computed_mean = np.mean(random_numbers)\n",
        "computed_std_dev = np.std(random_numbers)\n",
        "\n",
        "print(f\"Computed Mean: {computed_mean}\")\n",
        "print(f\"Computed Standard Deviation: {computed_std_dev}\")"
      ],
      "metadata": {
        "colab": {
          "base_uri": "https://localhost:8080/"
        },
        "id": "Ob3Blty3xFfe",
        "outputId": "7ff7b2fc-63ef-4c48-e24d-5e3758c33e91"
      },
      "execution_count": 50,
      "outputs": [
        {
          "output_type": "stream",
          "name": "stdout",
          "text": [
            "Computed Mean: 49.815840357670716\n",
            "Computed Standard Deviation: 5.005789149711097\n"
          ]
        }
      ]
    },
    {
      "cell_type": "code",
      "source": [
        "# histogram\n",
        "plt.hist(random_numbers, bins=30, color='skyblue', edgecolor='black')\n",
        "plt.title('Histogram of Normal Distribution Samples')\n",
        "plt.xlabel('Value')\n",
        "plt.ylabel('Frequency')\n",
        "plt.grid(True)\n",
        "plt.show()"
      ],
      "metadata": {
        "colab": {
          "base_uri": "https://localhost:8080/",
          "height": 472
        },
        "id": "2kPrePV2xbZ3",
        "outputId": "589b8150-93a1-42d9-c673-8f01e033308f"
      },
      "execution_count": 51,
      "outputs": [
        {
          "output_type": "display_data",
          "data": {
            "text/plain": [
              "<Figure size 640x480 with 1 Axes>"
            ],
            "image/png": "[encoded data removed]"
          },
          "metadata": {}
        }
      ]
    },
    {
      "cell_type": "markdown",
      "source": [
        "### Question 10: You are working as a data analyst for a retail company. The company hascollected daily sales data for 2 years and wants you to identify the overall sales trend.\n",
        "daily_sales = [220, 245, 210, 265, 230, 250, 260, 275, 240, 255,\n",
        " 235, 260, 245, 250, 225, 270, 265, 255, 250, 260]\n",
        "\n",
        "● Explain how you would apply the Central Limit Theorem to estimate the average sales with a 95% confidence interval.\n",
        "\n",
        "● Write the Python code to compute the mean sales and its confidence interval.\n"
      ],
      "metadata": {
        "id": "Hq65zaT7wJK3"
      }
    },
    {
      "cell_type": "markdown",
      "source": [
        "- Explain how you would apply the Central Limit Theorem to estimate the average sales with a 95% confidence interval.\n",
        "\n",
        "Answer :           \n",
        "\n",
        "1. The CLT states that the distribution of sample means approaches normality as sample size increases, regardless of the population distribution.\n",
        "\n",
        "2. To estimate average daily sales, here we take daily_sales sample.\n",
        "\n",
        "3. Using the sample mean as an estimate of the population mean, and sample standard deviation to estimate variability/variance.\n",
        "\n",
        "4. The sampling distribution's standard error is estimated by sample_std/root(n)\n",
        "\n",
        "5. The 95% confidence interval is formed as: X_bar ± Z alpha/2 * sample_std/root(n)\n",
        "\n",
        "Z alpha/2 = 1.96 for 95% confidence\n",
        "\n",
        "6. This interval means we are 95% confident the true average daily sales lies within this range.\n",
        "\n"
      ],
      "metadata": {
        "id": "OXcMs09E97u4"
      }
    },
    {
      "cell_type": "markdown",
      "source": [
        " -  Write the Python code to compute the mean sales and its confidence interval."
      ],
      "metadata": {
        "id": "OQnsw9m3938A"
      }
    },
    {
      "cell_type": "code",
      "source": [
        "import numpy as np\n",
        "from scipy import stats\n",
        "\n",
        "daily_sales = [220, 245, 210, 265, 230, 250, 260, 275, 240, 255,\n",
        "               235, 260, 245, 250, 225, 270, 265, 255, 250, 260]"
      ],
      "metadata": {
        "id": "vYthHBS0xzT9"
      },
      "execution_count": 52,
      "outputs": []
    },
    {
      "cell_type": "code",
      "source": [
        "# Sample size\n",
        "n = len(daily_sales)\n",
        "print(n)"
      ],
      "metadata": {
        "id": "udtVcWoUwSBR",
        "colab": {
          "base_uri": "https://localhost:8080/"
        },
        "outputId": "ba9ba1b8-e12f-4e30-cf17-067046418ac9"
      },
      "execution_count": 53,
      "outputs": [
        {
          "output_type": "stream",
          "name": "stdout",
          "text": [
            "20\n"
          ]
        }
      ]
    },
    {
      "cell_type": "code",
      "source": [
        "# sample size < 30,here we use t distribution\n",
        "# in scipy.stats.ppf(q,ddof=1) computes percent point function for t distribution\n",
        "# here the two tail of distribution so alpha value become alpha/2=0.05/2=0.025 and commulative probality = 1 - 0.025=0.975\n",
        "# q is commulative threshold for 95% confidence interval, we leave 2.5% in each tail and its two tail, so calculate (1+confidence/2=97.5%)\n",
        "# 0.975 means t-value where 97.5% of the distribution is below it (or 2.5% is in the upper tail).\n",
        "# using t critical we calculate margin of error t_critical * sample_standard_deviation/np.sqrt(n)\n",
        "# t_score = x_bar - mu / [sample_std/root(n)] capture the middle 95% of the t-distribution for your data given your sample size.\n"
      ],
      "metadata": {
        "id": "LtJ8k_0P44Hx"
      },
      "execution_count": 54,
      "outputs": []
    },
    {
      "cell_type": "code",
      "source": [
        "# Sample mean and standard deviation\n",
        "mean_sales = np.mean(daily_sales)\n",
        "std_sales = np.std(daily_sales, ddof=1)  # ddof=1 for sample std\n",
        "print(f\"Mean Sales : {mean_sales}\")\n",
        "print(f\"Standard Deviation of Sales : {std_sales}\")"
      ],
      "metadata": {
        "id": "K3YNGMPB9ww1",
        "colab": {
          "base_uri": "https://localhost:8080/"
        },
        "outputId": "508e8877-18f2-4421-f170-5bc568544331"
      },
      "execution_count": 55,
      "outputs": [
        {
          "output_type": "stream",
          "name": "stdout",
          "text": [
            "Mean Sales : 248.25\n",
            "Standard Deviation of Sales : 17.26534405284638\n"
          ]
        }
      ]
    },
    {
      "cell_type": "code",
      "source": [
        "# 95% confidence level\n",
        "confidence = 0.95"
      ],
      "metadata": {
        "id": "3Rfxw2SA1QBb"
      },
      "execution_count": 56,
      "outputs": []
    },
    {
      "cell_type": "code",
      "source": [
        "# t-critical value for 95% CI and n-1 degrees of freedom\n",
        "t_critical = stats.t.ppf((1 + confidence) / 2, df=n-1)\n",
        "print(f\"t-critical value : {t_critical}\")"
      ],
      "metadata": {
        "colab": {
          "base_uri": "https://localhost:8080/"
        },
        "id": "Ez3BahoS2s5v",
        "outputId": "f0372ab9-c18e-4479-fc0a-1590ab8a7155"
      },
      "execution_count": 57,
      "outputs": [
        {
          "output_type": "stream",
          "name": "stdout",
          "text": [
            "t-critical value : 2.093024054408263\n"
          ]
        }
      ]
    },
    {
      "cell_type": "code",
      "source": [
        "# Step 3: Compute standard error\n",
        "standard_error = std_sales / np.sqrt(n)\n",
        "print(f\"Standard Error : {standard_error}\")"
      ],
      "metadata": {
        "colab": {
          "base_uri": "https://localhost:8080/"
        },
        "id": "0D1u-NKR22Y1",
        "outputId": "8eb96c6d-b75f-4611-8eaa-4c99a4c169ae"
      },
      "execution_count": 58,
      "outputs": [
        {
          "output_type": "stream",
          "name": "stdout",
          "text": [
            "Standard Error : 3.860648295708623\n"
          ]
        }
      ]
    },
    {
      "cell_type": "code",
      "source": [
        "# Margin of error\n",
        "margin_error = t_critical * standard_error\n",
        "print(f\"Margin of Error : {margin_error}\")"
      ],
      "metadata": {
        "colab": {
          "base_uri": "https://localhost:8080/"
        },
        "id": "ZV_5zyxK3OCN",
        "outputId": "737d3c0e-16d4-4aa9-eb8e-89913d73dbcf"
      },
      "execution_count": 59,
      "outputs": [
        {
          "output_type": "stream",
          "name": "stdout",
          "text": [
            "Margin of Error : 8.080429748528413\n"
          ]
        }
      ]
    },
    {
      "cell_type": "code",
      "source": [
        "# Confidence interval\n",
        "ci_lower = mean_sales - margin_error\n",
        "ci_upper = mean_sales + margin_error"
      ],
      "metadata": {
        "id": "sHrbG32I3aur"
      },
      "execution_count": 60,
      "outputs": []
    },
    {
      "cell_type": "code",
      "source": [
        "print(f\"Mean Daily Sales: {mean_sales:.2f}\")\n",
        "print(f\"95% Confidence Interval: ({ci_lower:.2f}, {ci_upper:.2f})\")"
      ],
      "metadata": {
        "colab": {
          "base_uri": "https://localhost:8080/"
        },
        "id": "ucW2fmRx3gf8",
        "outputId": "ea47e479-4b06-464e-f38a-d889e91a2e7d"
      },
      "execution_count": 61,
      "outputs": [
        {
          "output_type": "stream",
          "name": "stdout",
          "text": [
            "Mean Daily Sales: 248.25\n",
            "95% Confidence Interval: (240.17, 256.33)\n"
          ]
        }
      ]
    },
    {
      "cell_type": "code",
      "source": [
        "# using Z value : see 0.975 in z table\n",
        "z_value = 1.96"
      ],
      "metadata": {
        "id": "HuYQBBFf83f0"
      },
      "execution_count": 62,
      "outputs": []
    },
    {
      "cell_type": "code",
      "source": [
        "margin_of_error = z_value * standard_error\n",
        "print(f\"Margin of Error: {margin_of_error:.2f}\")"
      ],
      "metadata": {
        "colab": {
          "base_uri": "https://localhost:8080/"
        },
        "id": "HtC50q0l9dey",
        "outputId": "2f786235-c857-43f0-d193-11e0551dbfa5"
      },
      "execution_count": 63,
      "outputs": [
        {
          "output_type": "stream",
          "name": "stdout",
          "text": [
            "Margin of Error: 7.57\n"
          ]
        }
      ]
    },
    {
      "cell_type": "code",
      "source": [
        "lower_bound = mean_sales - margin_of_error\n",
        "upper_bound = mean_sales + margin_of_error"
      ],
      "metadata": {
        "id": "mGAatbzv9keF"
      },
      "execution_count": 64,
      "outputs": []
    },
    {
      "cell_type": "code",
      "source": [
        "print(f\"Mean Daily Sales: {mean_sales:.2f}\")\n",
        "print(f\"95% Confidence Interval: ({lower_bound:.2f}, {upper_bound:.2f})\")"
      ],
      "metadata": {
        "colab": {
          "base_uri": "https://localhost:8080/"
        },
        "id": "JcP-NLj_9vEL",
        "outputId": "85826d57-5f0c-4b3f-93ae-5e4b56fb03fc"
      },
      "execution_count": 65,
      "outputs": [
        {
          "output_type": "stream",
          "name": "stdout",
          "text": [
            "Mean Daily Sales: 248.25\n",
            "95% Confidence Interval: (240.68, 255.82)\n"
          ]
        }
      ]
    }
  ]
}