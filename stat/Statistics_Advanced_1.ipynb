{
  "nbformat": 4,
  "nbformat_minor": 0,
  "metadata": {
    "colab": {
      "provenance": []
    },
    "kernelspec": {
      "name": "python3",
      "display_name": "Python 3"
    },
    "language_info": {
      "name": "python"
    }
  },
  "cells": [
    {
      "cell_type": "code",
      "execution_count": 65,
      "metadata": {
        "id": "YS7jFkRyvhoG"
      },
      "outputs": [],
      "source": []
    },
    {
      "cell_type": "markdown",
      "source": [
        "## Question 1: What is a random variable in probability theory?\n",
        "\n",
        "Answer :\n",
        "\n",
        "1. In probality,A random variable is a function that assigns a real number to each possible outcome of a random experiment.\n",
        "2. It is not just any variable, but a mapping from the sample space (the set of all possible outcomes) to the set of real numbers.\n",
        "3. The random variable makes it possible to apply mathematical and statistical techniques to random phenomena by describing outcomes numerically\n",
        "4. It is not just any variable, but a mapping from the sample space (the set of all possible outcomes) to the set of real numbers.\n",
        "5. types of random varible :     \n",
        "    - Discrete random variable: Takes countable values (like the number rolled on a die)\n",
        "    - Continuous random variable: Takes any value in a continuous range (like the height of a person).\n",
        "6. Example:   \n",
        "\n",
        "- when tossing a coin, a random variable can assign 1 for heads and 0 for tails.This way, we can do calculations on random outcomes just like we do with numbers.\n",
        "\n",
        "X={0,1} here X is random variable.\n",
        "\n",
        "\n"
      ],
      "metadata": {
        "id": "y8WnqeQ0vjKx"
      }
    },
    {
      "cell_type": "markdown",
      "source": [
        "## Question 2: What are the types of random variables?\n",
        "\n",
        "Answer:  \n",
        "\n",
        "**Discrete Random Variable:**\n",
        "- Takes countable, distinct values such as integers.\n",
        "- use in machine learning, when dealing with ategorical data or counts\n",
        "- In classification for discrete targets\n",
        "- example:\n",
        "  1. Number of clicks on an ad\n",
        "  2. number of heads in coin tosses\n",
        "  3. Number of cars passing through an intersection in one hour\n",
        "  4. Number of defective products in a batch\n",
        "\n",
        "**Continuous Random Variable:**\n",
        "- Takes any value within a continuous range, including decimals.\n",
        "- used in machine learning for modeling measurements or features like height, weight, or temperature\n",
        "- In regression for continuous targets\n",
        "- Example:\n",
        "  1. The pixel intensity in an image\n",
        "  2. a sensor reading\n",
        "  3. Height of students in a school\n",
        "  4. Weight of a product on a production line\n",
        "  5. Time taken to process a transaction"
      ],
      "metadata": {
        "id": "7TLQIkEoy-Hp"
      }
    },
    {
      "cell_type": "markdown",
      "source": [
        "### Question 3: Explain the difference between discrete and continuous distributions.\n",
        "\n",
        "Answer :      \n",
        "\n",
        "| Aspect                    | Discrete Distribution                                    | Continuous Distribution                              |\n",
        "|---------------------------|----------------------------------------------------------|-----------------------------------------------------|\n",
        "| **Type of Random Variable**| Countable, distinct values (e.g., integers)              | Any value in a continuous range (including decimals)|\n",
        "| **Probability Function**   | Probability Mass Function (PMF), assigns probability to exact values | Probability Density Function (PDF), probability over intervals |\n",
        "| **Probability of Exact Value**| Non-zero and meaningful                                  | Always zero (probability over range is non-zero)     |\n",
        "| **Values Possible**        | Specific countable values                                 | Infinite uncountable values within an interval       |\n",
        "| **Summation/Integration** | Sum of probabilities over all possible values = 1        | Integral of PDF over entire range = 1                 |\n",
        "| **Example Distributions**  | Binomial, Poisson                                        | Normal, Uniform, Exponential                          |\n",
        "| **Typical Use Cases**      | Counting events, classification labels                   | Measurements, regression targets                       |\n"
      ],
      "metadata": {
        "id": "FjXEwB3G2sJ_"
      }
    },
    {
      "cell_type": "markdown",
      "source": [
        "### Question 4: What is a binomial distribution, and how is it used in probability?\n",
        "\n",
        "Answer:\n",
        "A binomial distribution is a discrete probability distribution that models the number of successes in a fixed number of independent trials, where each trial has only two possible outcomes: success or failure.\n",
        "it's defined by two parameters:\n",
        "\n",
        "- n: number of trials\n",
        "\n",
        "- p: probability of success in each trial\n",
        "\n",
        "- single experiment with only two possible outcomes means bernouli trail.\n",
        "- the number of successes in n independent Bernoulli trials mean binomial.\n",
        "\n",
        "**conditions**\n",
        "- Each trial has the same probability of success (p)\n",
        "\n",
        "- Trials are independent (one doesnt affect the other)\n",
        "\n",
        "- The total number of trials n is fixed\n",
        "\n",
        "\n",
        "1. Probality mass function of binomial distribution :      \n",
        "          \n",
        "        Pmf = NCr  * p^x * q^(n-x)\n",
        "- N : number of Bernoulli trail\n",
        "- r : the no of events that you are interested in\n",
        "- p^x : probability of x sucess\n",
        "- q^(n-x) : probability of n-x failures\n",
        "\n",
        "2. mean[Excepected value] and variance of binomial distribution:\n",
        "- mean = np\n",
        "- var  = npq\n",
        "\n",
        "3. binomial distribution is skew when p=0.5,otherwise skewed.\n",
        "\n",
        "4. Example :                \n",
        "- **Tossing a coin:** Probability of getting 3 heads in 5 tosses (success = head, p = 0.5)\n",
        "- **Quality control:** Out of 100 products, how many are defective (success = defective, p = defect rate)\n",
        "- **Marketing:** Out of 1000 emails sent, how many people click the link (success = click, p = click-through rate)\n",
        "\n",
        "**used in probability**\n",
        "1. Modeling Binary Outcomes:\n",
        "- When each trial has only two outcomes — success or failure.\n",
        "\n",
        "example :will a customer buy or not? Will a machine part fail or work?\n",
        "\n",
        "2. Hypothesis Testing\n",
        "- use case: binomial test for proportions.\n",
        "- example : you claim 60% of users prefer dark mode. You test this by surveying 100 users. The binomial test checks if your observed proportion is statistically different from 60%.\n",
        "\n",
        "3. simulations (Monte Carlo Methods)\n",
        "- Use Case: simulating binary outcomes repeatedly.\n",
        "- example : simulate 1000 coin tosses to estimate the probability of getting at least 60 heads.\n",
        "- Real-world: Used in risk modeling, reliability testing, and forecasting.\n",
        "\n",
        "4. Machine Learning\n",
        "- Use Case : Logistic regression assumes binomial likelihood.\n",
        "- logistic regression models the probability of a binary outcome[binary classification] (e.g., spam vs not spam).\n",
        "- Mathematics: It uses the binomial distribution to define the likelihood function during training.\n",
        "\n",
        "5. Deep learning :    \n",
        "- Use Case : Binary classification tasks.\n",
        "- In a neural network, the final layer often uses a sigmoid activation to output a probability between 0 and 1 — interpreted as the probability of success.\n",
        "- Loss Function: Binary cross-entropy is derived from binomial likelihood.\n"
      ],
      "metadata": {
        "id": "SadhiW5OhFbX"
      }
    },
    {
      "cell_type": "markdown",
      "source": [
        "### Question 5: What is the standard normal distribution, and why is it important?\n",
        "\n",
        "Answer:   \n",
        "\n",
        "The standard normal distribution is a special case of the normal (Gaussian) distribution with:\n",
        "\n",
        "Mean (μ) = 0\n",
        "\n",
        "Standard deviation (σ) = 1\n",
        "\n",
        "It's a bell-shaped curve that is symmetric around zero.\n",
        "\n",
        "1. Probability & Statistics:\n",
        "- Used to compute probabilities and percentiles.\n",
        "- Example: Whats the chance a value is more than 2 standard deviations from the mean?\n",
        "\n",
        "2. Hypothesis Testing\n",
        "- Many statistical tests (t-test, z-test) rely on normality.\n",
        "- Standard normal is used to find critical values and p-values.\n",
        "\n",
        "3. Feature Scaling\n",
        "- In machine learning, we often standardize features to have mean 0 and std 1.\n",
        "- This helps models like logistic regression, SVM, and neural networks converge faster and perform better.\n",
        "\n",
        "4. Assumption in Algorithms\n",
        "- Many algorithms assume data is normally distributed (e.g., linear regression, PCA).\n",
        "- Standard normal helps in Z-score calculations, which measure how far a value is from the mean.\n",
        "\n",
        "5. Outlier Detection\n",
        "- Z-scores help detect outliers:\n",
        "- If Z > 3 or Z < -3 → likely an outlier.\n",
        "\n",
        "- standard normal important for measuring how unusual a value is. If a feature is scaled to this distribution, we can easily compare and detect patterns, outliers, or anomalies."
      ],
      "metadata": {
        "id": "Lq6p0j4jtF0X"
      }
    },
    {
      "cell_type": "markdown",
      "source": [
        "### Question 6: What is the Central Limit Theorem (CLT), and why is it critical in statistics?\n",
        "\n",
        "Answer :\n",
        "\n",
        "- If you take large random samples from any population, the sample means will be approximately normal (bell-shaped), even if the population itself is not normal.\n",
        "\n",
        "- This normal approximation improves as sample size increases (usually n≥30).\n",
        "\n",
        "- CLT is key for confidence intervals and hypothesis tests, making statistical inference possible from sample data.\n",
        "\n",
        "- **formula**\n",
        "\n",
        "          Z_score = [X_bar-mu]/[sd/root(n)]\n",
        "\n",
        "          X_bar ---> ( mu, sigma/root(n) )\n",
        "\n",
        "\n",
        "      1. sigma/root(n) == standard error  \n",
        "      2. mu = population mean\n",
        "      3. X_bar = sample mean\n",
        "- **Condition**\n",
        "\n",
        "    1. number of sample size should be large(n>=30)\n",
        "    2. Population sd is not equal to sample sd because the sample is a subset of population.\n",
        "    3. Higher sample size sd is more equal to population sd.\n",
        "    4. Sample error increases when n decreases due to change in variability of sample as compared to population standard error use To minimize variability\n",
        "\n",
        "\n",
        "#### why is it critical in statistics?\n",
        "\n",
        "Answer :\n",
        "\n",
        "1.**Foundation for Inference:**\n",
        "\n",
        "  The Central Limit Theorem lets us use tools like confidence intervals and hypothesis tests on sample means, even if the original data is not normal, which helps us make conclusions about the whole population from just a sample.\n",
        "\n",
        "2.**Applications in Machine Learning:**\n",
        "\n",
        "  The Central Limit Theorem lets data scientists estimate errors and uncertainties for model predictions, so we know how much to trust results. It supports A/B testing by making average outcomes almost normal, so we can test differences between strategies reliably. It helps build confidence intervals for model accuracy and uses bootstrapping to measure feature importance and model skill across samples\n",
        "\n",
        "\n",
        "3.**Example:**\n",
        "A tech company wants to estimate the mean web page load time across millions of users but can't check every user. With CLT, it can randomly sample 50 users multiple times, calculate means, and safely use normal probability methods to build confidence intervals and estimate uncertainty—despite the underlying skewness in the load times\n",
        "\n"
      ],
      "metadata": {
        "id": "oi2umeMQvmte"
      }
    },
    {
      "cell_type": "markdown",
      "source": [
        "### Question 7: What is the significance of confidence intervals in statistical analysis?\n",
        "\n",
        "Answer:\n",
        "\n",
        "Confidence intervals are important in statistical analysis because they provide a range of values likely to contain the true population parameter (like a mean or proportion) with a certain level of confidence, often 95%. They show how precise an estimate is and help quantify uncertainty around it, making results more reliable for decision-making. Confidence intervals also help identify if results are statistically significant by checking if the interval includes a value of no effect (like zero). Narrower intervals mean more precise estimates, while wider intervals suggest more uncertaint"
      ],
      "metadata": {
        "id": "lO4LIuVCvzbV"
      }
    },
    {
      "cell_type": "markdown",
      "source": [
        "### Question 8: What is the concept of expected value in a probability distribution?\n",
        "\n",
        "Answer :    \n",
        "\n",
        "1. Expected value is the long-term average or mean of a random variable.\n",
        "2. It is calculated by multiplying each possible outcome by its probability and then summing all those values.\n",
        "3. Expected Value gives a measure of the center or typical value of the distribution.\n",
        "4. It represents what you would expect on average if the experiment were repeated many times.\n",
        "5. Expected Value is also called the mean, expectation, or first moment of the distribution.\n",
        "6. Mean is used for frequency distribution and Expected value used for probability distribution.\n",
        "7. For discrete variables:  E(X) = summation [ P(x_i) * x_i], where x_i are outcomes and p(x_i) their probabilities.\n",
        "8. For continuous variables, the sum is replaced by an integral over the probability density function.\n",
        "9. Expected Value helps in decision-making, risk analysis, and predicting average outcomes under uncertainty.\n",
        "10. Example: The expected value of rolling a fair six-sided die is 3.5, the average outcome over many rolls.\n"
      ],
      "metadata": {
        "id": "BDma04Guv8aj"
      }
    },
    {
      "cell_type": "markdown",
      "source": [
        "### Question 9: Write a Python program to generate 1000 random numbers from a normaldistribution with mean = 50 and standard deviation = 5. Compute its mean and standarddeviation using NumPy, and draw a histogram to visualize the distribution.\n",
        "\n",
        "Answer :"
      ],
      "metadata": {
        "id": "1QIjINJAwCnA"
      }
    },
    {
      "cell_type": "code",
      "source": [
        "import numpy as np\n",
        "import matplotlib.pyplot as plt"
      ],
      "metadata": {
        "id": "v7cK2IPGwx1o"
      },
      "execution_count": 66,
      "outputs": []
    },
    {
      "cell_type": "code",
      "source": [
        "mean = 50\n",
        "std_dev = 5\n",
        "sample_size = 1000"
      ],
      "metadata": {
        "id": "tU2q1O-mwzhK"
      },
      "execution_count": 67,
      "outputs": []
    },
    {
      "cell_type": "code",
      "source": [
        "# Generate random numbers from normal distribution\n",
        "random_numbers = np.random.normal(loc=mean, scale=std_dev, size=sample_size)\n",
        "print(f\"Random Numbers: {random_numbers}\")"
      ],
      "metadata": {
        "colab": {
          "base_uri": "https://localhost:8080/"
        },
        "id": "bKPpEgb2w6e_",
        "outputId": "e8834b5a-ba9f-4785-924a-b49543d4a7ac"
      },
      "execution_count": 68,
      "outputs": [
        {
          "output_type": "stream",
          "name": "stdout",
          "text": [
            "Random Numbers: [62.5474055  58.4038029  55.62684008 41.66531302 49.78906918 53.71373744\n",
            " 48.70015125 48.04042029 57.82638275 34.06997418 44.12482168 46.75994769\n",
            " 49.41067412 44.49043288 48.55299037 56.84779151 49.89145375 49.84585123\n",
            " 45.88226293 51.2199488  41.1512895  48.01289098 50.56211378 47.73608149\n",
            " 54.37180668 53.383728   41.81752315 49.81209599 48.98910304 45.32657991\n",
            " 50.52957198 56.21022173 54.04145992 47.42594508 53.6945811  49.80706237\n",
            " 50.75302855 49.75200923 52.8851589  44.75844711 49.57276181 45.85434633\n",
            " 57.40050358 45.67271872 46.12822725 55.77207215 49.51884089 49.42295011\n",
            " 45.119112   51.45518016 44.95140982 41.15549377 47.36044787 41.33692769\n",
            " 51.64532164 49.14162863 49.4847226  51.12383411 49.82221213 55.76914329\n",
            " 46.88276988 51.60877427 46.24488949 55.52586885 41.23817059 51.70401628\n",
            " 57.41037476 55.59644813 44.20986881 49.76557453 45.50350419 46.68411813\n",
            " 45.69195844 46.22341876 49.0667806  55.09124057 47.32963003 50.22731777\n",
            " 50.50576969 54.33797531 59.76950344 44.65036824 43.93822701 50.2033301\n",
            " 49.5323379  56.05845527 52.36156697 57.49870323 46.87801892 51.12320993\n",
            " 46.76747323 48.3090411  42.62967386 54.24590267 43.35071753 49.64187241\n",
            " 48.94193596 57.79695359 57.97468008 44.46827902 49.04948024 53.32555018\n",
            " 54.27200752 42.613657   45.70190374 54.1893947  49.69920989 52.72984118\n",
            " 56.85555592 48.20947054 51.41973628 51.04674837 50.10584557 54.06682632\n",
            " 39.09825447 51.52750308 54.18193642 48.16804346 47.13649297 53.94848798\n",
            " 49.46031764 57.66590904 45.38312837 55.31362523 54.04028802 44.66542672\n",
            " 51.21665159 44.25445019 49.12782997 50.04458277 47.874538   57.46017477\n",
            " 42.884895   45.35693824 51.35875773 49.71193116 46.56349591 49.95620256\n",
            " 46.49197245 45.60676937 52.45301493 51.25472322 38.31037712 45.95992349\n",
            " 39.44498069 54.52989684 42.6261599  46.34983398 41.25923009 51.83937529\n",
            " 50.54648364 48.81252062 49.28877756 48.31982314 51.86795626 53.18748117\n",
            " 47.82328325 46.50848504 52.89441009 51.3004714  54.50489781 54.95832716\n",
            " 50.07111343 55.78189047 43.2062486  47.14042587 49.14222328 53.1680522\n",
            " 45.91581904 47.28364943 42.15838981 55.42717626 47.24858692 43.08075074\n",
            " 50.6219101  49.92869117 50.72633915 37.55648921 51.15705925 50.80199665\n",
            " 49.9410648  47.74031009 42.27601942 54.58719378 50.00300397 52.5305367\n",
            " 38.76901674 49.62335475 47.43554079 47.13749971 53.66105725 47.78497016\n",
            " 50.93352666 47.25417663 50.27745389 46.91205411 38.15429777 45.45938139\n",
            " 43.92257031 44.67988453 46.70686568 53.30865419 44.97317213 50.37984921\n",
            " 44.31301302 49.46641836 57.88249929 43.49346881 57.38529702 44.37871948\n",
            " 53.97854803 46.56473163 42.43943319 52.78145775 49.16267673 58.98442402\n",
            " 54.26902592 48.57580113 56.37282176 51.75654145 40.51930452 55.06816651\n",
            " 45.98075717 56.59063815 43.8323226  44.63723335 40.3657951  40.83121571\n",
            " 48.48513917 43.78323738 56.29484335 43.57899522 53.51703749 55.89236502\n",
            " 43.90776094 45.11838885 59.45886767 55.23676304 48.90505939 54.40232463\n",
            " 52.86100784 56.78496301 55.61649434 48.43411058 54.02553593 51.86803819\n",
            " 57.47613574 45.51990056 49.5908433  53.31569196 56.51671783 42.10177575\n",
            " 51.93867861 37.86692659 63.01487619 46.53517662 53.81877169 56.36662909\n",
            " 54.41438894 47.53696064 42.03938    53.56725107 45.03779798 48.3925254\n",
            " 46.04184969 47.24930711 48.99287579 57.3492478  48.27557854 52.64901064\n",
            " 48.28034359 58.03108713 63.37644269 40.92595487 49.36671351 57.23972344\n",
            " 52.45571999 44.24982954 50.88340756 48.77574053 55.18909954 46.46892951\n",
            " 56.79171906 51.66932968 45.57424576 51.8578428  45.03173057 51.58104666\n",
            " 44.31570229 50.68351653 50.85372855 44.09892092 46.97857974 43.95807072\n",
            " 44.65631013 47.95223648 48.86018183 52.44685036 53.0046083  52.6540391\n",
            " 51.04982321 56.8502351  42.95516152 52.58640471 48.8550592  51.51302327\n",
            " 49.63041855 47.28471018 52.19018817 42.79567189 42.91264589 49.5242626\n",
            " 47.0448338  52.15007163 40.32151097 49.11571783 50.17865592 47.95798369\n",
            " 46.99364256 50.39418953 53.6568151  52.86476207 45.26383282 48.62207366\n",
            " 52.41891649 48.26846764 41.86547026 46.82369699 48.48671812 53.18798091\n",
            " 52.83549683 43.9422829  47.57193054 48.44511903 46.19333053 48.49773402\n",
            " 36.05614983 51.20460525 56.45915615 53.34826954 51.79189461 61.71165918\n",
            " 49.12517713 52.77715016 51.73360262 45.26583555 55.00441975 55.37448518\n",
            " 49.30971162 46.37717404 54.84462354 50.35867652 57.03649009 48.19457429\n",
            " 48.07539119 53.41541329 54.00581822 52.71190744 46.13278337 46.62744305\n",
            " 49.71117441 47.39383063 46.17904832 44.51591417 45.28686728 47.93414715\n",
            " 49.54365299 57.96086034 53.8307189  51.54986279 52.89027361 56.99373211\n",
            " 45.32026206 50.54645874 44.87098847 52.35835349 61.11773836 49.94968664\n",
            " 55.6617574  58.34551112 45.75997798 44.97869778 50.00522827 51.96178536\n",
            " 52.79412363 51.31542908 54.58958192 56.11523998 53.04168434 45.08128415\n",
            " 57.40539093 48.5938034  55.64420291 46.96277644 46.9900177  55.99510937\n",
            " 48.22742731 49.24262005 51.60160449 46.00197703 45.70299218 49.30307359\n",
            " 52.38363162 45.50905841 58.45246997 53.49517008 51.96530125 52.41803981\n",
            " 51.15663118 55.00209755 52.10477227 50.51681188 48.8763576  45.13011768\n",
            " 42.95784158 53.75984381 51.50591621 52.40136327 51.33131188 55.39376347\n",
            " 43.30718957 49.25397045 52.19878091 47.89233578 44.03688233 52.66769479\n",
            " 49.43077918 50.35203381 53.75030034 42.36194117 45.7009192  46.88652241\n",
            " 53.01853848 49.25869371 53.64077134 49.02814292 49.42054653 46.48049531\n",
            " 53.40877243 44.04732819 57.67126306 53.98473599 53.85191391 53.76847802\n",
            " 42.0556011  54.41621178 55.74529074 49.77885663 53.63078355 47.90406159\n",
            " 49.56035665 51.6856316  51.72322537 53.62575784 43.54980543 58.28033542\n",
            " 53.6647405  47.16764084 59.28016842 43.74297962 37.53542528 42.4458871\n",
            " 49.76305396 53.97428507 49.2830465  53.95905711 40.6650731  45.88672661\n",
            " 45.46851744 50.40988866 52.35622634 41.40975356 48.36663911 47.68613135\n",
            " 53.08287362 52.72338339 46.72803401 46.42936384 49.30226228 43.62209693\n",
            " 45.88935133 43.30589607 41.43771043 49.5030203  56.83656252 48.62895635\n",
            " 49.91964415 56.09506294 38.77862491 50.7521602  51.10230445 48.75767379\n",
            " 55.70243882 48.87252393 38.05227129 44.00636552 44.31517855 54.44249222\n",
            " 48.54850258 49.89519942 53.82201245 46.38159041 41.69592082 46.61371679\n",
            " 44.7664416  56.26040681 50.93565074 53.13747483 62.55891879 50.74472041\n",
            " 55.16597845 52.31142668 52.49111864 52.90035646 50.71571343 49.04477748\n",
            " 40.84151211 46.4657412  51.74414911 50.6168316  56.62901769 53.17794542\n",
            " 55.00029507 55.54106601 52.23932989 51.66204552 50.62109492 57.7945331\n",
            " 45.72875008 49.04928815 51.66339179 55.54550116 45.76733164 47.36233756\n",
            " 48.67884897 62.25482948 51.08329928 51.87530821 43.65625282 47.48559276\n",
            " 44.28945776 46.43433582 52.93925777 43.31051619 46.24789151 54.62678577\n",
            " 55.97043183 43.91174696 51.8016805  47.54535517 45.76825009 49.32972582\n",
            " 51.3486521  56.05708481 51.03591256 49.32045941 57.21942633 53.27266547\n",
            " 53.09045425 51.04038346 50.96355972 45.92617378 40.71916039 49.17986749\n",
            " 48.78941753 46.73485694 51.82922894 51.60149432 45.80226733 41.23261402\n",
            " 50.91579248 48.75677943 50.96475969 52.28843046 51.00266354 52.26079898\n",
            " 44.68554569 42.85311219 56.50207099 47.00335459 62.0747514  43.59452971\n",
            " 55.58288058 46.3867336  52.19388064 47.43648087 48.95041377 46.62353844\n",
            " 50.9057269  53.30403634 46.6298655  44.22467935 41.03534402 57.94563386\n",
            " 52.74473821 54.98927945 52.31022073 46.99144702 57.27189725 51.93966284\n",
            " 43.56235594 56.87412805 55.61825784 42.79618187 41.68396448 42.64137753\n",
            " 52.85439651 46.52167552 61.68565877 45.99767333 43.39078044 56.34668206\n",
            " 56.9613837  42.16710348 56.97745726 42.8027641  51.51393385 49.23865659\n",
            " 53.18516405 56.31085134 53.60421154 58.32202001 52.19522927 48.25362715\n",
            " 43.6457969  48.17228645 54.68581942 43.48620755 52.66460558 47.60444037\n",
            " 46.64467504 51.14921497 52.10328068 57.38105789 41.04821295 52.0358676\n",
            " 52.51162926 58.03873435 61.32377167 54.13764108 44.61210903 51.75048563\n",
            " 49.2168563  49.14619126 54.27989105 49.92282886 49.27651059 48.35245141\n",
            " 59.48755317 55.66909338 53.299102   49.52774317 52.09087808 53.94645559\n",
            " 48.06900541 48.2005394  56.74241849 56.27598138 58.07673028 46.91436177\n",
            " 43.65842274 45.1787875  63.18550087 43.63737888 52.24168117 58.08602025\n",
            " 51.38574415 45.08604542 45.03508272 46.03848111 56.27720468 45.39182111\n",
            " 40.26711282 52.73426123 40.90763071 43.18437031 47.21705099 42.683948\n",
            " 46.32851232 58.10790463 45.71754693 46.45414499 50.45404941 45.97835023\n",
            " 53.70808172 53.33692132 45.55442299 52.39670361 48.01114026 48.71668848\n",
            " 54.43777263 49.39233781 57.51434316 46.78142097 63.39381806 50.70976754\n",
            " 54.19087099 50.07973554 55.40748729 56.43454514 49.53973976 50.65447197\n",
            " 53.77638157 48.81393795 54.82459814 45.82275965 50.48018111 45.84167371\n",
            " 50.34834538 48.54183395 45.96810816 54.21548078 54.35230999 58.30902601\n",
            " 48.75534616 57.43828974 50.07430156 51.90201483 51.79227108 43.04610415\n",
            " 57.16160561 42.70517322 58.83308978 46.69756396 61.56191525 38.43067649\n",
            " 48.80063559 49.73388041 48.76534791 52.16479734 46.96682846 58.86906363\n",
            " 52.7457276  57.95079666 49.37394304 44.58997044 50.70203896 50.30154545\n",
            " 55.5959603  50.63113496 47.08339487 45.48051634 52.50431306 52.71854313\n",
            " 57.52525478 46.83447116 55.8980685  55.24859319 42.07220022 43.88963488\n",
            " 53.10987326 38.70815623 50.515579   54.99795065 39.59111602 53.4001625\n",
            " 58.44827846 55.96106758 52.68406278 51.42513594 53.42539899 33.3016867\n",
            " 49.52607705 46.46765703 53.56788325 61.20698    52.79067802 61.2272847\n",
            " 42.99501997 42.25866361 49.08557383 56.31812931 43.70408066 42.70569788\n",
            " 40.22316815 47.43700868 51.40317475 47.70677877 45.14664823 44.80973576\n",
            " 55.5658485  56.17464968 50.96656893 37.4089025  47.97165069 51.30763986\n",
            " 54.330113   51.78752958 38.3067425  50.31677993 48.15747999 51.87628635\n",
            " 53.50713507 56.31411482 50.21420847 46.1549636  43.55257455 52.09762443\n",
            " 55.62150087 49.08903897 51.86742196 46.31607818 45.62782921 53.43445061\n",
            " 49.93158118 58.24629043 45.76558042 47.76090771 48.36081272 45.63624763\n",
            " 57.28262883 44.54737323 55.23064205 56.39514673 55.23257042 37.19304214\n",
            " 50.60747623 54.68856047 67.2273536  52.73620756 52.56459528 43.56517649\n",
            " 51.43296374 51.84404567 43.30120504 39.79744992 55.92646016 51.44978703\n",
            " 46.63368165 48.21016492 49.61323583 44.7317412  51.05733617 52.5061569\n",
            " 46.52135556 51.88933743 52.21523033 48.98116862 48.06023716 51.49174893\n",
            " 44.40902999 52.57502467 43.93790392 44.12558312 48.5408449  51.1729778\n",
            " 53.77804306 48.60838271 57.2005065  50.15891739 42.28375142 42.71021116\n",
            " 56.12261901 47.98096379 48.33820835 44.45258497 50.16216618 57.35185058\n",
            " 50.02042448 56.28769553 47.457508   44.9210434  50.2175396  52.8663985\n",
            " 61.77407135 57.46731433 46.79863107 44.90287352 56.30652166 51.22548127\n",
            " 55.05091885 57.03365844 38.92169116 44.84052629 51.55786427 48.35293107\n",
            " 53.61543474 46.79575834 47.19054705 51.0226978  45.5017807  47.89821543\n",
            " 34.49183285 41.75943735 45.04461042 49.44435599 49.58922762 57.15123298\n",
            " 44.3548165  52.57119525 42.6523938  44.51370806 52.58691607 47.08883909\n",
            " 45.39644256 54.60574302 43.99052479 40.44932912 58.49003143 52.18291234\n",
            " 50.79305869 48.47136199 45.56136142 48.96901703 48.56691111 53.20056266\n",
            " 43.89492096 42.62103736 43.39825056 49.17925408 64.77072131 52.0592338\n",
            " 50.62079501 51.46008802 47.43205107 57.97545209 35.87373964 45.30530459\n",
            " 43.1230358  51.47778163 50.92468104 39.93642729 53.84411761 58.92053352\n",
            " 54.27770972 50.44497636 50.15894569 52.17245979 60.31505604 49.87174043\n",
            " 45.36332762 42.95437143 52.55057476 50.02629689 55.78861699 57.54815118\n",
            " 46.568858   45.42530297 49.89720044 55.53735928 48.23968627 54.53454373\n",
            " 49.96449671 49.12134523 48.39575256 43.23477638 47.69661927 48.2910722\n",
            " 46.66109898 48.74007154 45.41619773 44.83122671 54.15783288 50.41471318\n",
            " 53.46022257 61.10948462 52.87818824 42.99819411 46.60829215 48.32719322\n",
            " 48.58222654 49.69887894 50.70437646 47.00523409 54.30242322 46.23446822\n",
            " 52.24740218 46.51294167 43.09709862 43.21013364 54.45352503 51.87163081\n",
            " 45.47209078 50.23859841 64.8271426  59.19252336 49.05428327 46.56519072\n",
            " 41.42063116 44.29993333 46.34288562 49.33946609 49.54996935 47.14329853\n",
            " 53.61438913 52.95036744 48.3940291  46.39201626 48.12856506 48.13974585\n",
            " 51.70489629 49.63020817 44.30472585 45.81888053 47.27532717 57.29476886\n",
            " 53.74807753 47.75963063 58.14287819 51.633377  ]\n"
          ]
        }
      ]
    },
    {
      "cell_type": "code",
      "source": [
        "# Compute mean and standard deviation\n",
        "computed_mean = np.mean(random_numbers)\n",
        "computed_std_dev = np.std(random_numbers)\n",
        "\n",
        "print(f\"Computed Mean: {computed_mean}\")\n",
        "print(f\"Computed Standard Deviation: {computed_std_dev}\")"
      ],
      "metadata": {
        "colab": {
          "base_uri": "https://localhost:8080/"
        },
        "id": "Ob3Blty3xFfe",
        "outputId": "2afeb2ff-af39-4481-e35c-bc1828d3bc7b"
      },
      "execution_count": 69,
      "outputs": [
        {
          "output_type": "stream",
          "name": "stdout",
          "text": [
            "Computed Mean: 49.83652051342286\n",
            "Computed Standard Deviation: 5.07932414488649\n"
          ]
        }
      ]
    },
    {
      "cell_type": "code",
      "source": [
        "# histogram\n",
        "plt.hist(random_numbers, bins=30, color='skyblue', edgecolor='black')\n",
        "plt.title('Histogram of Normal Distribution Samples')\n",
        "plt.xlabel('Value')\n",
        "plt.ylabel('Frequency')\n",
        "plt.grid(True)\n",
        "plt.show()"
      ],
      "metadata": {
        "colab": {
          "base_uri": "https://localhost:8080/",
          "height": 472
        },
        "id": "2kPrePV2xbZ3",
        "outputId": "589b77ec-68f6-4d19-ddff-9d3453799f75"
      },
      "execution_count": 70,
      "outputs": [
        {
          "output_type": "display_data",
          "data": {
            "text/plain": [
              "<Figure size 640x480 with 1 Axes>"
            ],
            "image/png": "[encoded data removed]"
          },
          "metadata": {}
        }
      ]
    },
    {
      "cell_type": "markdown",
      "source": [
        "### Question 10: You are working as a data analyst for a retail company. The company hascollected daily sales data for 2 years and wants you to identify the overall sales trend.\n",
        "daily_sales = [220, 245, 210, 265, 230, 250, 260, 275, 240, 255,\n",
        " 235, 260, 245, 250, 225, 270, 265, 255, 250, 260]\n",
        "\n",
        "● Explain how you would apply the Central Limit Theorem to estimate the average sales with a 95% confidence interval.\n",
        "\n",
        "● Write the Python code to compute the mean sales and its confidence interval.\n"
      ],
      "metadata": {
        "id": "Hq65zaT7wJK3"
      }
    },
    {
      "cell_type": "markdown",
      "source": [
        "- Explain how you would apply the Central Limit Theorem to estimate the average sales with a 95% confidence interval.\n",
        "\n",
        "Answer :           \n",
        "\n",
        "1. The CLT states that the distribution of sample means approaches normality as sample size increases, regardless of the population distribution.\n",
        "\n",
        "2. To estimate average daily sales, here we take daily_sales sample.\n",
        "\n",
        "3. Using the sample mean as an estimate of the population mean, and sample standard deviation to estimate variability/variance.\n",
        "\n",
        "4. The sampling distribution's standard error is estimated by sample_std/root(n)\n",
        "\n",
        "5. The 95% confidence interval is formed as: X_bar ± Z alpha/2 * sample_std/root(n)\n",
        "\n",
        "Z alpha/2 = 1.96 for 95% confidence\n",
        "\n",
        "6. This interval means we are 95% confident the true average daily sales lies within this range.\n",
        "\n"
      ],
      "metadata": {
        "id": "OXcMs09E97u4"
      }
    },
    {
      "cell_type": "markdown",
      "source": [
        " -  Write the Python code to compute the mean sales and its confidence interval."
      ],
      "metadata": {
        "id": "OQnsw9m3938A"
      }
    },
    {
      "cell_type": "code",
      "source": [
        "import numpy as np\n",
        "from scipy import stats\n",
        "\n",
        "daily_sales = [220, 245, 210, 265, 230, 250, 260, 275, 240, 255,\n",
        "               235, 260, 245, 250, 225, 270, 265, 255, 250, 260]"
      ],
      "metadata": {
        "id": "vYthHBS0xzT9"
      },
      "execution_count": 71,
      "outputs": []
    },
    {
      "cell_type": "code",
      "source": [
        "# Sample size\n",
        "n = len(daily_sales)\n",
        "print(n)"
      ],
      "metadata": {
        "id": "udtVcWoUwSBR",
        "colab": {
          "base_uri": "https://localhost:8080/"
        },
        "outputId": "f46a3711-65ac-4a0f-8e9d-0a88f22df1c9"
      },
      "execution_count": 72,
      "outputs": [
        {
          "output_type": "stream",
          "name": "stdout",
          "text": [
            "20\n"
          ]
        }
      ]
    },
    {
      "cell_type": "code",
      "source": [
        "# sample size < 30,here we use t distribution\n",
        "# in scipy.stats.ppf(q,ddof=1) computes percent point function for t distribution\n",
        "# here the two tail of distribution so alpha value become alpha/2=0.05/2=0.025 and commulative probality = 1 - 0.025=0.975\n",
        "# q is commulative threshold for 95% confidence interval, we leave 2.5% in each tail and its two tail, so calculate (1+confidence/2=97.5%)\n",
        "# 0.975 means t-value where 97.5% of the distribution is below it (or 2.5% is in the upper tail).\n",
        "# using t critical we calculate margin of error t_critical * sample_standard_deviation/np.sqrt(n)\n",
        "# t_score = x_bar - mu / [sample_std/root(n)] capture the middle 95% of the t-distribution for your data given your sample size.\n"
      ],
      "metadata": {
        "id": "LtJ8k_0P44Hx"
      },
      "execution_count": 73,
      "outputs": []
    },
    {
      "cell_type": "code",
      "source": [
        "# Sample mean and standard deviation\n",
        "mean_sales = np.mean(daily_sales)\n",
        "std_sales = np.std(daily_sales, ddof=1)  # ddof=1 for sample std\n",
        "print(f\"Mean Sales : {mean_sales}\")\n",
        "print(f\"Standard Deviation of Sales : {std_sales}\")"
      ],
      "metadata": {
        "id": "K3YNGMPB9ww1",
        "colab": {
          "base_uri": "https://localhost:8080/"
        },
        "outputId": "665b5ba6-b998-49b1-fac8-012d2b0c5e76"
      },
      "execution_count": 74,
      "outputs": [
        {
          "output_type": "stream",
          "name": "stdout",
          "text": [
            "Mean Sales : 248.25\n",
            "Standard Deviation of Sales : 17.26534405284638\n"
          ]
        }
      ]
    },
    {
      "cell_type": "code",
      "source": [
        "# 95% confidence level\n",
        "confidence = 0.95"
      ],
      "metadata": {
        "id": "3Rfxw2SA1QBb"
      },
      "execution_count": 75,
      "outputs": []
    },
    {
      "cell_type": "code",
      "source": [
        "# t-critical value for 95% CI and n-1 degrees of freedom\n",
        "t_critical = stats.t.ppf((1 + confidence) / 2, df=n-1)\n",
        "print(f\"t-critical value : {t_critical}\")"
      ],
      "metadata": {
        "colab": {
          "base_uri": "https://localhost:8080/"
        },
        "id": "Ez3BahoS2s5v",
        "outputId": "76d145da-d156-4d6d-9a73-8abb9892cc9b"
      },
      "execution_count": 76,
      "outputs": [
        {
          "output_type": "stream",
          "name": "stdout",
          "text": [
            "t-critical value : 2.093024054408263\n"
          ]
        }
      ]
    },
    {
      "cell_type": "code",
      "source": [
        "# Step 3: Compute standard error\n",
        "standard_error = std_sales / np.sqrt(n)\n",
        "print(f\"Standard Error : {standard_error}\")"
      ],
      "metadata": {
        "colab": {
          "base_uri": "https://localhost:8080/"
        },
        "id": "0D1u-NKR22Y1",
        "outputId": "f2ddd9e9-55d2-42f1-c1be-f3f335d17451"
      },
      "execution_count": 77,
      "outputs": [
        {
          "output_type": "stream",
          "name": "stdout",
          "text": [
            "Standard Error : 3.860648295708623\n"
          ]
        }
      ]
    },
    {
      "cell_type": "code",
      "source": [
        "# Margin of error\n",
        "margin_error = t_critical * standard_error\n",
        "print(f\"Margin of Error : {margin_error}\")"
      ],
      "metadata": {
        "colab": {
          "base_uri": "https://localhost:8080/"
        },
        "id": "ZV_5zyxK3OCN",
        "outputId": "68516335-efcf-4ab5-8734-80455a3e408a"
      },
      "execution_count": 78,
      "outputs": [
        {
          "output_type": "stream",
          "name": "stdout",
          "text": [
            "Margin of Error : 8.080429748528413\n"
          ]
        }
      ]
    },
    {
      "cell_type": "code",
      "source": [
        "# Confidence interval\n",
        "ci_lower = mean_sales - margin_error\n",
        "ci_upper = mean_sales + margin_error"
      ],
      "metadata": {
        "id": "sHrbG32I3aur"
      },
      "execution_count": 79,
      "outputs": []
    },
    {
      "cell_type": "code",
      "source": [
        "print(f\"Mean Daily Sales: {mean_sales:.2f}\")\n",
        "print(f\"95% Confidence Interval: ({ci_lower:.2f}, {ci_upper:.2f})\")"
      ],
      "metadata": {
        "colab": {
          "base_uri": "https://localhost:8080/"
        },
        "id": "ucW2fmRx3gf8",
        "outputId": "2bd2974f-8646-4746-e079-ec45eeb070e8"
      },
      "execution_count": 80,
      "outputs": [
        {
          "output_type": "stream",
          "name": "stdout",
          "text": [
            "Mean Daily Sales: 248.25\n",
            "95% Confidence Interval: (240.17, 256.33)\n"
          ]
        }
      ]
    },
    {
      "cell_type": "code",
      "source": [
        "# using Z value : see 0.975 in z table\n",
        "z_value = 1.96"
      ],
      "metadata": {
        "id": "HuYQBBFf83f0"
      },
      "execution_count": 81,
      "outputs": []
    },
    {
      "cell_type": "code",
      "source": [
        "margin_of_error = z_value * standard_error\n",
        "print(f\"Margin of Error: {margin_of_error:.2f}\")"
      ],
      "metadata": {
        "colab": {
          "base_uri": "https://localhost:8080/"
        },
        "id": "HtC50q0l9dey",
        "outputId": "28d5fa2f-3117-4b65-8db7-6d401a6074af"
      },
      "execution_count": 82,
      "outputs": [
        {
          "output_type": "stream",
          "name": "stdout",
          "text": [
            "Margin of Error: 7.57\n"
          ]
        }
      ]
    },
    {
      "cell_type": "code",
      "source": [
        "lower_bound = mean_sales - margin_of_error\n",
        "upper_bound = mean_sales + margin_of_error"
      ],
      "metadata": {
        "id": "mGAatbzv9keF"
      },
      "execution_count": 83,
      "outputs": []
    },
    {
      "cell_type": "code",
      "source": [
        "print(f\"Mean Daily Sales: {mean_sales:.2f}\")\n",
        "print(f\"95% Confidence Interval: ({lower_bound:.2f}, {upper_bound:.2f})\")"
      ],
      "metadata": {
        "colab": {
          "base_uri": "https://localhost:8080/"
        },
        "id": "JcP-NLj_9vEL",
        "outputId": "dbcd6696-cc7a-4fcf-da62-4b48e8256cb2"
      },
      "execution_count": 84,
      "outputs": [
        {
          "output_type": "stream",
          "name": "stdout",
          "text": [
            "Mean Daily Sales: 248.25\n",
            "95% Confidence Interval: (240.68, 255.82)\n"
          ]
        }
      ]
    }
  ]
}