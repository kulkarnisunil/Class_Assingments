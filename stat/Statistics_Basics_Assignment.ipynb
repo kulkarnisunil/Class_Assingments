{
  "nbformat": 4,
  "nbformat_minor": 0,
  "metadata": {
    "colab": {
      "provenance": []
    },
    "kernelspec": {
      "name": "python3",
      "display_name": "Python 3"
    },
    "language_info": {
      "name": "python"
    }
  },
  "cells": [
    {
      "cell_type": "code",
      "execution_count": 25,
      "metadata": {
        "id": "vtss5T0IhJIY"
      },
      "outputs": [],
      "source": []
    },
    {
      "cell_type": "markdown",
      "source": [
        "### Question 1: What is the difference between descriptive statistics and inferential statistics? Explain with examples.\n",
        "\n",
        "Answer:\n",
        "\n",
        "**Descriptive Statistics:**\n",
        "\n",
        "1. Whenever we describe the whole data it is called descriptive statistics. It\n",
        "consists of organizing and summarizing the whole data/population.\n",
        "2. Talks about always complete data/population.\n",
        "3. Whenever we want exact information/statistics to make any business\n",
        "decision , we will use descriptive stat.\n",
        "4. Types of descriptive stat : measure of central tendency, measure of\n",
        "dispersion,measure of symmetry and skewness, covariance and correlation.\n",
        "5. In eda using the describe function[pandas] you can see what the mean of data\n",
        "is,variance tells about spreads, using box plot or distribution you see outliers are present or not / data is left or right skewed so you can apply transformation.\n",
        "6. Example : average height of the student in 10th class, average rainfall in this year,strike rate of player  \n",
        "\n",
        "**Inferential Statistics:**  \n",
        "\n",
        "1.  Inferential stats help us make predictions or decisions about larger populations based on sample data.  \n",
        "2. Inferential stat talk about the conclusion that is made for the population made from using samples.\n",
        "3. When population is large and we have no time and resources then use\n",
        "4. Types of inferential stat : testing of hypothesis , confidence interval , regression\n",
        "5. Use in Eda:\n",
        "\n",
        "      - hypothesis testing you check differences or relationships in data are statistically significant [example : Is the average income of two cities really different?]\n",
        "      - Using confidence intervals Estimate population parameters with a margin of error. [Predict average customer age with 95% confidence]  \n",
        "      - Identify which features truly impact the target variable.  \n",
        "6. Example : avg weight and height of population in india (you take sample from\n",
        "state and calculate avg,it's true for all population)  "
      ],
      "metadata": {
        "id": "r00_xHJ3hJ4U"
      }
    },
    {
      "cell_type": "markdown",
      "source": [
        "### Question 2: What is sampling in statistics? Explain the differences between random and stratified sampling.\n",
        "\n",
        "Answer :      \n",
        "\n",
        "Sampling statistics is the process of selecting a subset (sample) from a larger\n",
        "group (population) in order to draw conclusions or make inferences about the\n",
        "entire population. Since it is often impractical / impossible to collect data from every member/element of a population, sampling provides a manageable way to gather information.  \n",
        "\n",
        "**Simple Random Sampling :**  \n",
        "- Every member in a population(n) has an equal chance of being selected in the\n",
        "sample. [ equal chance for all members]  \n",
        "- Equal probability of every person being selected for a sample.  \n",
        "- Not equal representation across all groups.\n",
        "- Use case : homogenous population  \n",
        "- Example : class of 1000 students and randomly pick 150 names using a random\n",
        "number generator it is called simple random sampling.  \n",
        "\n",
        "- Pros:  \n",
        "  1. easy to implement  \n",
        "  2. minimize selection bias  \n",
        "  \n",
        "- Cons:  \n",
        "  1. May not accurately represent subgroups within the population.  \n",
        "  2. Possibility of sample and members not being part of sample from a certain group.  \n",
        "\n",
        "- Example : among selecting 10 cr people in Maharashtra while taking\n",
        "a sample using a simple random sample from a smaller city and\n",
        "least populated area may be not selected for sampling.  \n",
        "\n",
        "\n",
        "**Stratified Sampling:**  \n",
        "- The population is divided into distinct subgroups or strata  (state,region,colour,gender,age,income) and then a random sample is taken from each stratum.[equal chance for within each stratum]  \n",
        "- Equal probability of every person being selected for a sample is only possible in proportional stratified random sampling, not in all types of stratified sampling.\n",
        "- Give equal chance of representation.  \n",
        "- Use case: Heterogeneous population with distinct groups  \n",
        "- Example : In class it has 60% girls and 40% boys , you want a sample of 50\n",
        "students, you might select 30 girls and 20 boys randomly from each\n",
        "group.\n",
        "- Pros:  \n",
        "  1. Ensures representation of all key subgroups.  \n",
        "  2. More precise estimates compared to simple random sampling.  \n",
        "- Cons:  \n",
        "  1. Requires detailed population information.  \n",
        "  2. More complex to design and implement.\n",
        "\n",
        "  "
      ],
      "metadata": {
        "id": "xYs-Smckk7Ca"
      }
    },
    {
      "cell_type": "markdown",
      "source": [
        "## Define mean, median, and mode. Explain why these measures of central tendency are important.\n",
        "\n",
        "### Answer:\n",
        "\n",
        "**Mean:**\n",
        "- The mean is the sum of all values divided by total number of values.\n",
        "Data = 1,2,3,4,5,6  \n",
        "Mean = 1+2+3+4+5+6/6=3.5  \n",
        "Population mean = mu = summation x_i / N  \n",
        "Sample mean = x_bar = summation x_i / n  \n",
        "- It gives numerical summary of data overall level.  \n",
        "- Gives general avg  \n",
        "- Mean is arithmetic midpoint of data.  \n",
        "- Mean is required for calculating var,standard deviation, testing,normal\n",
        "distribution etc  \n",
        "- The mean shows where most value tends to cluster  \n",
        "- The mean is often used to compare different groups or categories.\n",
        "- Whenever outliers are present in the dataset,the mean is not a good\n",
        "representative. [ affected by outlier]  \n",
        "- Example :  \n",
        "  1. If the average income in a dataset is 50,000, that gives you a rough\n",
        "idea of what people in that dataset typically earn.  \n",
        "  2. Mean test scores of two different classes.\n",
        "\n",
        "\n",
        "**Median :**\n",
        "\n",
        "- The median is the middle value in a sorted list of numbers.  \n",
        "- Median is physical midpoint of data  \n",
        "- Median of even number:  \n",
        "    Data: 6,3,1,2,4,5  \n",
        "    Sort data : 1,2,3,4,5,6  \n",
        "    Median = 3+4/2=3.5  \n",
        "- Median of odd number:  \n",
        "    Data = 1 2 3  \n",
        "    Median = 2  \n",
        "- The median isn't affected by outliers.  \n",
        "- Using median input missing value when data is skewed.  \n",
        "- In the box plot [Q2= is median] seeing median you can understand either data is left skew or right skew.  \n",
        "- Example : In a hospital dataset, we might look at the median wait time for\n",
        "patients in the emergency room. If most patients wait 20-30 minutes but a few\n",
        "wait 5 hours, the mean will be misleading .The median tells us what most\n",
        "patients actually experience — a crucial insight for improving service quality.  \n",
        "\n",
        "\n",
        "**Mode :**                  \n",
        "\n",
        "- The mode is the value that appears most frequently in a dataset.\n",
        "- It identifies the most common category or popular item.  \n",
        "- Data : 7 4 3 2 4 4 3 mode=4  \n",
        "- One mode : unimodel , two mode: bimodel, three mode: multimodal\n",
        "  \n",
        "  1. Bimodal :  - In bimodal data,we report both values as modes. This tells us there are two dominant clusters or preferences.  \n",
        "\n",
        "  2. Multimodal:  - Multiple modes often suggest multiple distinct subgroups. Or reveal pattern in the data  - You can split the dataset based on these modes for targeted analysis.  \n",
        "        \n",
        "  3. Example : Age groups in a customer base — teens, mid-30s,  retirees.  \n",
        "- mode useful for categorical,ordinal and discrete numerical data\n",
        "- Help to detect dominant patterns, common behaviour or common choice\n",
        "- Impute missing value of categorical column using mode.\n",
        "- Example:  \n",
        "       \n",
        "  1. In an e-commerce platform, We analyzed users purchase history to recommend products. For each user, we identified the most purchased frequent category - like sportswear using mode. This helped personalize recommendations by showing trending items from that category. For eg, if a users mode category is sportswear, the system prioritizes new arrivals or bestsellers in that segment.  \n",
        "\n",
        "  2. On a video streaming platform, we used mode to find the most watched genre per user like comedy. This became the anchor for personalized recommendations. Even if the user watched multiple genres, the mode gave a clear signal of preference, which improved click-through rates and engagement.\n"
      ],
      "metadata": {
        "id": "lzBdQyOsmQJM"
      }
    },
    {
      "cell_type": "markdown",
      "source": [
        "## Question 4: Explain skewness and kurtosis. What does a positive skew imply about the data?\n",
        "\n",
        "Answer:\n",
        "\n",
        "Skewness and kurtosis tell us about the shape of data.  \n",
        "\n",
        "**Skewness:**\n",
        "\n",
        "1. Skewness quantifies how asymmetric a distribution is around its\n",
        "mean.\n",
        "- Skewness = 1/n summation [ ( x_i - mu) / sigma] ^ 3  \n",
        "- Pearson 2n coefficient = 3 (mean - median) / sd  \n",
        "2. You measure symmetry using skewness :  \n",
        "- no skewness means symmetric data  - Positive skew/ Right skew : tail on the right side  \n",
        "Mean > median and q3- q2 > q1-q2  \n",
        "- Negative skew/ Left Skew : tail on the left side  \n",
        "Median > mean and q2-q1 > q3-q2  \n",
        "3. Helps decide whether to use mean or median  \n",
        "4. guide data transformation [ eg: lognormal, box cox,square root etc]\n",
        "5. you can seen skewness using box plot,dist plot  \n",
        "6. Machine learning models require symmetric data to build models.\n",
        "7. Example :  \n",
        " - distribution of wealth in India.  \n",
        " - Imagine monitoring website traffic for an e-commerce platform. On most days, traffic is steady — say, 5,000 to 10,000 visitors. But during a flash sale or influencer shoutout, traffic suddenly jumps to 100,000 visitors in one hour. This creates a right skew distribution The mean traffic is pulled up by the spike, but the median remains closer to normal traffic levels. In this case, skewness helps us detect anomalies and plan for load  balancing or server scaling.  \n",
        "8. Using skewness we can build many systems like App usage during\n",
        "cricket finals or festival launches, News site traffic during breaking events\n",
        "etc.\n",
        "\n",
        "\n",
        "**Kurtosis :**  \n",
        "1. Kurtosis measures the tailedness or peakedness of distribution. how heavy\n",
        "or light the tails are compared to a normal distribution.  \n",
        "2. It helps detect outliers and distribution shape, which are critical in\n",
        "model performance and robustness.\n",
        "3. Mesokurtic == 3 [equal to normal distribution]  \n",
        "4. Leptokurtic [ >3 ] = Heavy tails, sharp peak (more outliers).  \n",
        "5. Platykurtic [ <3 ] = Light tails, flat peak (fewer outliers).  \n",
        "6. Use in Eda:  \n",
        " - identified outlier prone distribution  \n",
        " - Influences model selection and robustness check\n",
        " - help in risk analysis\n",
        " - help in feature engineering: decide whether to transform or normalize\n",
        "features.  \n",
        "7. Example :  \n",
        " - While building a regression model to predict customer lifetime value, we\n",
        "checked the kurtosis of the target variable. It was leptokurtic, indicating\n",
        "heavy tails and potential outliers. This insight helped us choose a robust\n",
        "loss function like Huber loss instead of MSE, which is sensitive to outliers.  \n",
        "\n",
        " - In a deep learning pipeline for fraud detection, We analyzed the kurtosis\n",
        "of transaction amounts. High kurtosis revealed rare but extreme  \n",
        "fraudulent transactions. This guided us to use stratified sampling and\n",
        "custom evaluation metrics that emphasize tail performance, ensuring the model doesnt ignore rare but critical cases.\n",
        "\n",
        "#### What Does a Positive Skew Imply?  \n",
        "Positive skew means data has a long right tail. Most values are low,but a few high\n",
        "outliers pull the mean upward.This is common in income data, internet traffic\n",
        "spikes, or product sales during a viral campaign.here we can use different types of transformation like log or square root transformation to normalize the\n",
        "distribution."
      ],
      "metadata": {
        "id": "-ju4b7xtohyX"
      }
    },
    {
      "cell_type": "markdown",
      "source": [
        "## Question 5: Implement a Python program to compute the mean, median, and mode of a given list of numbers.  \n",
        "numbers = [12, 15, 12, 18, 19, 12, 20, 22, 19, 19, 24, 24, 24, 26, 28]"
      ],
      "metadata": {
        "id": "Sn0uDefKqMdK"
      }
    },
    {
      "cell_type": "code",
      "source": [
        "\n",
        "import statistics\n",
        "numbers = [12, 15, 12, 18, 19, 12, 20, 22, 19, 19, 24, 24, 24, 26, 28]\n",
        "\n",
        "mean = statistics.mean(numbers)\n",
        "median = statistics.median(numbers)\n",
        "mode = statistics.mode(numbers)\n",
        "print(f\"Mean of the numbers is {mean}\")\n",
        "print(f\"Median of the numbers is {median}\")\n",
        "print(f\"Mode of the numbers is {mode}\")"
      ],
      "metadata": {
        "colab": {
          "base_uri": "https://localhost:8080/"
        },
        "id": "KEnCGH8EqVgu",
        "outputId": "145d9e8b-1c9f-4da8-89af-f2431cbf4d7c"
      },
      "execution_count": 26,
      "outputs": [
        {
          "output_type": "stream",
          "name": "stdout",
          "text": [
            "Mean of the numbers is 19.6\n",
            "Median of the numbers is 19\n",
            "Mode of the numbers is 12\n"
          ]
        }
      ]
    },
    {
      "cell_type": "markdown",
      "source": [
        "## Question 6: Compute the covariance and correlation coefficient between the following two datasets provided as lists in Python:  \n",
        "list_x = [10, 20, 30, 40, 50]  \n",
        "list_y = [15, 25, 35, 45, 60]  "
      ],
      "metadata": {
        "id": "aEAyYBO_qM2d"
      }
    },
    {
      "cell_type": "code",
      "source": [
        "\n",
        "import pandas as pd\n",
        "\n",
        "list_x = [10, 20, 30, 40, 50]\n",
        "list_y = [15, 25, 35, 45, 60]\n",
        "\n",
        "# create dataframe\n",
        "df = pd.DataFrame({'X': list_x, 'Y': list_y})\n",
        "\n",
        "#covariance\n",
        "cov_xy = df.cov().loc['X', 'Y']\n",
        "\n",
        "# correlation coefficient\n",
        "corr_xy = df.corr().loc['X', 'Y']\n",
        "\n",
        "print(f\"The covariance between X and Y is {cov_xy}\") # indicating a positive linear relationship.\n",
        "print(f\"The correlation coefficient between X and Y is {corr_xy}\") # correlation x and y is very close to 1 , suggesting a strong positive linear correlation between the\n",
        "#two datasets."
      ],
      "metadata": {
        "colab": {
          "base_uri": "https://localhost:8080/"
        },
        "id": "n_LMEacuqzuZ",
        "outputId": "ab1b6e11-b9d8-4c7e-ccff-5377b4972c22"
      },
      "execution_count": 27,
      "outputs": [
        {
          "output_type": "stream",
          "name": "stdout",
          "text": [
            "The covariance between X and Y is 275.0\n",
            "The correlation coefficient between X and Y is 0.9958932064677039\n"
          ]
        }
      ]
    },
    {
      "cell_type": "markdown",
      "source": [
        "## Question 7: Write a Python script to draw a boxplot for the following numeric list and identify its outliers. Explain the result:  \n",
        "data = [12, 14, 14, 15, 18, 19, 19, 21, 22, 22, 23, 23, 24, 26, 29, 35]  "
      ],
      "metadata": {
        "id": "vt-dBvhOq74T"
      }
    },
    {
      "cell_type": "code",
      "source": [
        "import matplotlib.pyplot as plt\n",
        "import seaborn as sns\n",
        "\n",
        "data = [12, 14, 14, 15, 18, 19, 19, 21, 22, 22, 23, 23, 24, 26, 29, 35]\n",
        "# Create boxplot\n",
        "sns.boxplot(data=data)\n",
        "plt.title(\"Boxplot of Numeric Data\")\n",
        "plt.xlabel(\"Values\")\n",
        "plt.show()"
      ],
      "metadata": {
        "colab": {
          "base_uri": "https://localhost:8080/",
          "height": 458
        },
        "id": "cY2f_ajnrD6O",
        "outputId": "a7ac897e-ba16-4276-d3a6-e4b59007c191"
      },
      "execution_count": 28,
      "outputs": [
        {
          "output_type": "display_data",
          "data": {
            "text/plain": [
              "<Figure size 640x480 with 1 Axes>"
            ],
            "image/png": "[encoded data removed]"
          },
          "metadata": {}
        }
      ]
    },
    {
      "cell_type": "code",
      "source": [
        "#Outliers = values below Q1 − 1.5×IQR or above Q3 + 1.5×IQR [IQR = Q3 - Q1 ] Q3=75% and Q1=25%\n",
        "import numpy as np\n",
        "Q1=np.percentile(data,25)\n",
        "Q3=np.percentile(data,75)\n",
        "IQR=Q3-Q1\n",
        "print(f\"IQR: {IQR}\")\n",
        "Outliers=[]\n",
        "for i in data:\n",
        "    if i<Q1-1.5*IQR or i>Q3+1.5*IQR:\n",
        "        Outliers.append(i)\n",
        "print(f\"Outliers: {Outliers}\")"
      ],
      "metadata": {
        "colab": {
          "base_uri": "https://localhost:8080/"
        },
        "id": "gAmUrsEvrUGf",
        "outputId": "bce08a4d-331c-47dc-8922-070e2a22351c"
      },
      "execution_count": 29,
      "outputs": [
        {
          "output_type": "stream",
          "name": "stdout",
          "text": [
            "IQR: 6.0\n",
            "Outliers: [35]\n"
          ]
        }
      ]
    },
    {
      "cell_type": "markdown",
      "metadata": {
        "id": "a56b6e0f"
      },
      "source": [
        "Explanation:\n",
        "\n",
        "The boxplot provides a visual summary of the data distribution. The box represents the interquartile range (IQR), which is the middle 50% of the data. The line inside the box is the median. The whiskers extend from the box to the minimum and maximum values within 1.5 times the IQR from the quartiles.\n",
        "\n",
        "In this case:\n",
        "- The first quartile (Q1) is 17.25.\n",
        "- The third quartile (Q3) is 23.25.\n",
        "- The Interquartile Range (IQR) is Q3 - Q1 = 23.25 - 17.25 = 6.0.\n",
        "\n",
        "Outliers are defined as values that fall below Q1 - 1.5 * IQR or above Q3 + 1.5 * IQR.\n",
        "- Lower bound for outliers: 17.25 - 1.5 * 6.0 = 17.25 - 9.0 = 8.25\n",
        "- Upper bound for outliers: 23.25 + 1.5 * 6.0 = 23.25 + 9.0 = 32.25\n",
        "\n",
        "The code identified `[35]` as outliers because 35 is greater than the upper bound of 32.25."
      ]
    },
    {
      "cell_type": "markdown",
      "metadata": {
        "id": "d354e103"
      },
      "source": [
        "## Question 8: You are working as a data analyst in an e-commerce company. Themarketing team wants to know if there is a relationship between advertising spend and daily sales.\n",
        "● Explain how you would use covariance and correlation to explore this\n",
        "relationship.\n",
        "● Write Python code to compute the correlation between the two\n",
        "lists:\n",
        "\n",
        "advertising_spend = [200, 250, 300, 400, 500]\\\n",
        "daily_sales = [2200, 2450, 2750, 3200, 4000]\n",
        "\n",
        "Answer :\n",
        "\n",
        "To explore the relationship between advertising spend and daily sales using covariance and correlation:\n",
        "\n",
        "**Covariance:**\n",
        "1. Covariance measures the direction of the linear relationship between two variables.\n",
        "2. A positive covariance indicates that as advertising spend increases, daily sales tend to increase.\n",
        "3. A negative covariance indicates that as advertising spend increases, daily sales tend to decrease.\n",
        "4. A covariance close to zero suggests a weak linear relationship.\n",
        "5.  However, the magnitude of covariance is not standardized, making it difficult to compare the strength of the relationship across different datasets.\n",
        "\n",
        "**Correlation:**\n",
        "1. Correlation, specifically the Pearson correlation coefficient, is a standardized measure of the strength and direction of the linear relationship between two variables. It ranges from -1 to +1.\n",
        "2. A correlation coefficient of +1 indicates a perfect positive linear relationship (as advertising spend increases, daily sales increase proportionally).\n",
        "3. A correlation coefficient of -1 indicates a perfect negative linear relationship (as advertising spend increases, daily sales decrease proportionally).\n",
        "4. A correlation coefficient of 0 indicates no linear relationship.\n",
        "\n",
        "\n"
      ]
    },
    {
      "cell_type": "code",
      "source": [
        "import pandas as pd\n",
        "\n",
        "advertising_spend = [200, 250, 300, 400, 500]\n",
        "daily_sales = [2200, 2450, 2750, 3200, 4000]\n",
        "\n",
        "df = pd.DataFrame({\n",
        "    'Ad_Spend': advertising_spend,\n",
        "    'Sales': daily_sales\n",
        "})\n",
        "\n",
        "# Compute covariance\n",
        "covariance = df.cov().loc['Ad_Spend', 'Sales']\n",
        "\n",
        "# Compute correlation coefficient\n",
        "correlation = df.corr().loc['Ad_Spend', 'Sales']\n",
        "\n",
        "\n",
        "print(f\"Covariance: {covariance}\")\n",
        "print(f\"Correlation Coefficient: {correlation}\")"
      ],
      "metadata": {
        "colab": {
          "base_uri": "https://localhost:8080/"
        },
        "id": "t9xjZ-vj92he",
        "outputId": "44c7c48d-fe3d-4130-8c92-07a7cc3ac798"
      },
      "execution_count": 30,
      "outputs": [
        {
          "output_type": "stream",
          "name": "stdout",
          "text": [
            "Covariance: 84875.0\n",
            "Correlation Coefficient: 0.9935824101653327\n"
          ]
        }
      ]
    },
    {
      "cell_type": "markdown",
      "source": [
        "**Interpretation :**    \n",
        "\n",
        "1. Covariance positive means ad spend and sales move together\n",
        "2. Correlation will be close to 1 means a strong positive linear relationship\n",
        "3. it shows that increased advertising spend is strongly associated with higher daily sales,which supports marketing investment decision\n",
        "\n",
        "\n"
      ],
      "metadata": {
        "id": "2P4a2awVuD8K"
      }
    },
    {
      "cell_type": "markdown",
      "source": [
        "## Question 9: Your team has collected customer satisfaction survey data on a scale of1-10 and wants to understand its distribution before launching a new product.  \n",
        "● Explain which summary statistics and visualizations (e.g. mean, standard\n",
        "deviation, histogram) you'd use.  \n",
        "● Write Python code to create a histogram using Matplotlib for the survey data:  \n",
        "survey_scores = [7, 8, 5, 9, 6, 7, 8, 9, 10, 4, 7, 6, 9, 8, 7]\n"
      ],
      "metadata": {
        "id": "2IN1nTwJujXm"
      }
    },
    {
      "cell_type": "markdown",
      "source": [
        "#### Answer:\n",
        "\n",
        "1. Mean : Average satisfaction level\n",
        "2. Median: Middle score — robust to outliers\n",
        "3. Mode:  Most common score\n",
        "4. Standard deviation: Spread of scores — how consistent feedback is\n",
        "5. Skewness and kurtosis: Shape and outlier sensitivity\n",
        "\n",
        "\n",
        "Visualizations:\n",
        "1. Histogram: Shows frequency of each score — reveals distribution shape\n",
        "2. Boxplot: Highlights spread, median, and outliers\n"
      ],
      "metadata": {
        "id": "e-fatVCa-cZ7"
      }
    },
    {
      "cell_type": "code",
      "source": [
        "import matplotlib.pyplot as plt\n",
        "\n",
        "# Survey data\n",
        "survey_scores = [7, 8, 5, 9, 6, 7, 8, 9, 10, 4, 7, 6, 9, 8, 7]\n",
        "\n",
        "# Create histogram\n",
        "plt.hist(survey_scores, bins=7, edgecolor='black', color='skyblue')\n",
        "plt.title(\"Customer Satisfaction Survey Distribution\")\n",
        "plt.xlabel(\"Satisfaction Score (1–10)\")\n",
        "plt.ylabel(\"Frequency\")\n",
        "plt.grid(axis='y', linestyle='--', alpha=0.7)\n",
        "plt.show()"
      ],
      "metadata": {
        "colab": {
          "base_uri": "https://localhost:8080/",
          "height": 472
        },
        "id": "sAunohhLu2Dv",
        "outputId": "53df78f5-ae7d-42e9-a9c6-ba6ddd187fa0"
      },
      "execution_count": 31,
      "outputs": [
        {
          "output_type": "display_data",
          "data": {
            "text/plain": [
              "<Figure size 640x480 with 1 Axes>"
            ],
            "image/png": "[encoded data removed]"
          },
          "metadata": {}
        }
      ]
    },
    {
      "cell_type": "markdown",
      "source": [
        "**Conclusion :**\n",
        "\n",
        "1. The histogram will likely show a peak around 7-9, indicating high satisfaction.\n",
        "\n",
        "2. No extreme outliers — scores are within expected range.\n",
        "\n",
        "3. If the distribution is right-skewed, it means most customers are satisfied.\n",
        "\n",
        "4. If it's left-skewed, it may signal dissatisfaction and require deeper analysis\n",
        "\n",
        "\n"
      ],
      "metadata": {
        "id": "_Ye6BrVOuxE2"
      }
    },
    {
      "cell_type": "code",
      "source": [],
      "metadata": {
        "id": "zyEpRFAkus8K"
      },
      "execution_count": 31,
      "outputs": []
    }
  ]
}